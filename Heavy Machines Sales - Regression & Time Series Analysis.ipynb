{
 "cells": [
  {
   "cell_type": "markdown",
   "id": "15960a7c-6f97-4e08-99e4-cb0b0df9b605",
   "metadata": {},
   "source": [
    "# Heavy Machines Sales - Regression & Time-Series Analysis"
   ]
  },
  {
   "cell_type": "markdown",
   "id": "067ea67e-a450-42f3-bd98-786fa12e19ae",
   "metadata": {},
   "source": [
    "<center><img src=\"Cover.jpg\", width='1080'/></center>"
   ]
  },
  {
   "cell_type": "markdown",
   "id": "8f4415e7-372b-4663-9cac-c22924455df8",
   "metadata": {
    "jp-MarkdownHeadingCollapsed": true
   },
   "source": [
    "## Content Overview\n",
    "\n",
    "1. Context and Scope\n",
    "2. Evaluation\n",
    "3. Features\n",
    "4. Data Exploration\n",
    "5. Data Preparation & Preprocessing\n",
    "6. Modelling\n",
    "7. Experimentation & Evaluation"
   ]
  },
  {
   "cell_type": "markdown",
   "id": "cc9ab3f9-645e-451b-89a6-0f6c38c4e97e",
   "metadata": {},
   "source": [
    "## 1. Context and Scope"
   ]
  },
  {
   "cell_type": "markdown",
   "id": "8ca49ee6-fbab-49d9-a088-02aee79b2be9",
   "metadata": {},
   "source": [
    "The goal of the project is to predict the sale price of a particular piece of heavy equiment sold at an auction based on it's `usage`, `equipment type`, and `configuration`. The data is sourced from auction result postings and includes information on usage and equipment configurations.\n",
    "\n",
    "Fast Iron is creating a \"blue book for bulldozers\" for customers to value what their heavy equipment fleet is worth at auction."
   ]
  },
  {
   "cell_type": "markdown",
   "id": "f5a9a06b-f461-4820-ae60-bf42e806c388",
   "metadata": {},
   "source": [
    "<b>About Fast Iron</b>\n",
    "\n",
    "Fast Iron are a content-focused business that aids customers in creating enterprise data standards, cleansing data, and maintaining clean data. Utilizing proprietary applications and an ever growing data cleansing team, Fast Iron has normalized data for more than 2.5 million machine and customer records for the heavy equipment industry."
   ]
  },
  {
   "cell_type": "markdown",
   "id": "f3dd9975-f965-4734-b58d-ee16a1826b89",
   "metadata": {},
   "source": [
    "<b>Project Data</b>\n",
    "\n",
    "There are 3 main datasets:\n",
    "\n",
    "* `Train.csv` is the training set, which contains data through the end of 2011.\n",
    "* `Valid.csv` is the validation set, which contains data from January 1, 2012 - April 30, 2012 You make predictions on this set throughout the majority of the competition. Your score on this set is used to create the public leaderboard.\n",
    "* `Test.csv` is the test set, which won't be released until the last week of the competition. It contains data from May 1, 2012 - November 2012. \n",
    "\n",
    "For more information on this project check: https://www.kaggle.com/c/bluebook-for-bulldozers/"
   ]
  },
  {
   "cell_type": "markdown",
   "id": "acf00cfc-88b0-4299-907a-3d5e209880b3",
   "metadata": {},
   "source": [
    "## 2. Evaluation"
   ]
  },
  {
   "cell_type": "markdown",
   "id": "2e3fc10e-0e94-4766-9340-273e2921e040",
   "metadata": {},
   "source": [
    "The evaluation metric for this competition is the `RMSLE` (root mean squared log error) between the <b>actual</b> and <b>predicted</b> auction prices."
   ]
  },
  {
   "cell_type": "markdown",
   "id": "2875c20f-ccf4-4cff-978f-ec4ecc035de0",
   "metadata": {},
   "source": [
    "## 3. Features"
   ]
  },
  {
   "cell_type": "markdown",
   "id": "417398df-86ba-4923-80f2-23f10069a3e1",
   "metadata": {},
   "source": [
    "A data dictionary provided by Kaggle detailing all features of the dataset can be found in the project files."
   ]
  },
  {
   "cell_type": "markdown",
   "id": "1e0b7a5e-386b-4664-a567-d772f75688ff",
   "metadata": {},
   "source": [
    "## 4. Data Exploration"
   ]
  },
  {
   "cell_type": "markdown",
   "id": "7c475ba5-acb4-4491-add7-75ae4dcef8f0",
   "metadata": {},
   "source": [
    ">> #### 4.1 Import Tools and Dataset"
   ]
  },
  {
   "cell_type": "code",
   "execution_count": 1,
   "id": "4055cc28-2594-4e2e-b2c6-93de87157470",
   "metadata": {},
   "outputs": [
    {
     "name": "stderr",
     "output_type": "stream",
     "text": [
      "C:\\Users\\t_aym\\AppData\\Local\\Temp\\ipykernel_6560\\3278656779.py:11: DtypeWarning: Columns (13,39,40,41) have mixed types. Specify dtype option on import or set low_memory=False.\n",
      "  df = pd.read_csv('Data/TrainAndValid.csv')\n"
     ]
    },
    {
     "data": {
      "text/html": [
       "<div>\n",
       "<style scoped>\n",
       "    .dataframe tbody tr th:only-of-type {\n",
       "        vertical-align: middle;\n",
       "    }\n",
       "\n",
       "    .dataframe tbody tr th {\n",
       "        vertical-align: top;\n",
       "    }\n",
       "\n",
       "    .dataframe thead th {\n",
       "        text-align: right;\n",
       "    }\n",
       "</style>\n",
       "<table border=\"1\" class=\"dataframe\">\n",
       "  <thead>\n",
       "    <tr style=\"text-align: right;\">\n",
       "      <th></th>\n",
       "      <th>SalesID</th>\n",
       "      <th>SalePrice</th>\n",
       "      <th>MachineID</th>\n",
       "      <th>ModelID</th>\n",
       "      <th>datasource</th>\n",
       "      <th>auctioneerID</th>\n",
       "      <th>YearMade</th>\n",
       "      <th>MachineHoursCurrentMeter</th>\n",
       "      <th>UsageBand</th>\n",
       "      <th>saledate</th>\n",
       "      <th>...</th>\n",
       "      <th>Undercarriage_Pad_Width</th>\n",
       "      <th>Stick_Length</th>\n",
       "      <th>Thumb</th>\n",
       "      <th>Pattern_Changer</th>\n",
       "      <th>Grouser_Type</th>\n",
       "      <th>Backhoe_Mounting</th>\n",
       "      <th>Blade_Type</th>\n",
       "      <th>Travel_Controls</th>\n",
       "      <th>Differential_Type</th>\n",
       "      <th>Steering_Controls</th>\n",
       "    </tr>\n",
       "  </thead>\n",
       "  <tbody>\n",
       "    <tr>\n",
       "      <th>0</th>\n",
       "      <td>1139246</td>\n",
       "      <td>66000.0</td>\n",
       "      <td>999089</td>\n",
       "      <td>3157</td>\n",
       "      <td>121</td>\n",
       "      <td>3.0</td>\n",
       "      <td>2004</td>\n",
       "      <td>68.0</td>\n",
       "      <td>Low</td>\n",
       "      <td>11/16/2006 0:00</td>\n",
       "      <td>...</td>\n",
       "      <td>NaN</td>\n",
       "      <td>NaN</td>\n",
       "      <td>NaN</td>\n",
       "      <td>NaN</td>\n",
       "      <td>NaN</td>\n",
       "      <td>NaN</td>\n",
       "      <td>NaN</td>\n",
       "      <td>NaN</td>\n",
       "      <td>Standard</td>\n",
       "      <td>Conventional</td>\n",
       "    </tr>\n",
       "    <tr>\n",
       "      <th>1</th>\n",
       "      <td>1139248</td>\n",
       "      <td>57000.0</td>\n",
       "      <td>117657</td>\n",
       "      <td>77</td>\n",
       "      <td>121</td>\n",
       "      <td>3.0</td>\n",
       "      <td>1996</td>\n",
       "      <td>4640.0</td>\n",
       "      <td>Low</td>\n",
       "      <td>3/26/2004 0:00</td>\n",
       "      <td>...</td>\n",
       "      <td>NaN</td>\n",
       "      <td>NaN</td>\n",
       "      <td>NaN</td>\n",
       "      <td>NaN</td>\n",
       "      <td>NaN</td>\n",
       "      <td>NaN</td>\n",
       "      <td>NaN</td>\n",
       "      <td>NaN</td>\n",
       "      <td>Standard</td>\n",
       "      <td>Conventional</td>\n",
       "    </tr>\n",
       "    <tr>\n",
       "      <th>2</th>\n",
       "      <td>1139249</td>\n",
       "      <td>10000.0</td>\n",
       "      <td>434808</td>\n",
       "      <td>7009</td>\n",
       "      <td>121</td>\n",
       "      <td>3.0</td>\n",
       "      <td>2001</td>\n",
       "      <td>2838.0</td>\n",
       "      <td>High</td>\n",
       "      <td>2/26/2004 0:00</td>\n",
       "      <td>...</td>\n",
       "      <td>NaN</td>\n",
       "      <td>NaN</td>\n",
       "      <td>NaN</td>\n",
       "      <td>NaN</td>\n",
       "      <td>NaN</td>\n",
       "      <td>NaN</td>\n",
       "      <td>NaN</td>\n",
       "      <td>NaN</td>\n",
       "      <td>NaN</td>\n",
       "      <td>NaN</td>\n",
       "    </tr>\n",
       "    <tr>\n",
       "      <th>3</th>\n",
       "      <td>1139251</td>\n",
       "      <td>38500.0</td>\n",
       "      <td>1026470</td>\n",
       "      <td>332</td>\n",
       "      <td>121</td>\n",
       "      <td>3.0</td>\n",
       "      <td>2001</td>\n",
       "      <td>3486.0</td>\n",
       "      <td>High</td>\n",
       "      <td>5/19/2011 0:00</td>\n",
       "      <td>...</td>\n",
       "      <td>NaN</td>\n",
       "      <td>NaN</td>\n",
       "      <td>NaN</td>\n",
       "      <td>NaN</td>\n",
       "      <td>NaN</td>\n",
       "      <td>NaN</td>\n",
       "      <td>NaN</td>\n",
       "      <td>NaN</td>\n",
       "      <td>NaN</td>\n",
       "      <td>NaN</td>\n",
       "    </tr>\n",
       "    <tr>\n",
       "      <th>4</th>\n",
       "      <td>1139253</td>\n",
       "      <td>11000.0</td>\n",
       "      <td>1057373</td>\n",
       "      <td>17311</td>\n",
       "      <td>121</td>\n",
       "      <td>3.0</td>\n",
       "      <td>2007</td>\n",
       "      <td>722.0</td>\n",
       "      <td>Medium</td>\n",
       "      <td>7/23/2009 0:00</td>\n",
       "      <td>...</td>\n",
       "      <td>NaN</td>\n",
       "      <td>NaN</td>\n",
       "      <td>NaN</td>\n",
       "      <td>NaN</td>\n",
       "      <td>NaN</td>\n",
       "      <td>NaN</td>\n",
       "      <td>NaN</td>\n",
       "      <td>NaN</td>\n",
       "      <td>NaN</td>\n",
       "      <td>NaN</td>\n",
       "    </tr>\n",
       "  </tbody>\n",
       "</table>\n",
       "<p>5 rows × 53 columns</p>\n",
       "</div>"
      ],
      "text/plain": [
       "   SalesID  SalePrice  MachineID  ModelID  datasource  auctioneerID  YearMade  \\\n",
       "0  1139246    66000.0     999089     3157         121           3.0      2004   \n",
       "1  1139248    57000.0     117657       77         121           3.0      1996   \n",
       "2  1139249    10000.0     434808     7009         121           3.0      2001   \n",
       "3  1139251    38500.0    1026470      332         121           3.0      2001   \n",
       "4  1139253    11000.0    1057373    17311         121           3.0      2007   \n",
       "\n",
       "   MachineHoursCurrentMeter UsageBand         saledate  ...  \\\n",
       "0                      68.0       Low  11/16/2006 0:00  ...   \n",
       "1                    4640.0       Low   3/26/2004 0:00  ...   \n",
       "2                    2838.0      High   2/26/2004 0:00  ...   \n",
       "3                    3486.0      High   5/19/2011 0:00  ...   \n",
       "4                     722.0    Medium   7/23/2009 0:00  ...   \n",
       "\n",
       "  Undercarriage_Pad_Width Stick_Length Thumb Pattern_Changer Grouser_Type  \\\n",
       "0                     NaN          NaN   NaN             NaN          NaN   \n",
       "1                     NaN          NaN   NaN             NaN          NaN   \n",
       "2                     NaN          NaN   NaN             NaN          NaN   \n",
       "3                     NaN          NaN   NaN             NaN          NaN   \n",
       "4                     NaN          NaN   NaN             NaN          NaN   \n",
       "\n",
       "  Backhoe_Mounting Blade_Type Travel_Controls Differential_Type  \\\n",
       "0              NaN        NaN             NaN          Standard   \n",
       "1              NaN        NaN             NaN          Standard   \n",
       "2              NaN        NaN             NaN               NaN   \n",
       "3              NaN        NaN             NaN               NaN   \n",
       "4              NaN        NaN             NaN               NaN   \n",
       "\n",
       "  Steering_Controls  \n",
       "0      Conventional  \n",
       "1      Conventional  \n",
       "2               NaN  \n",
       "3               NaN  \n",
       "4               NaN  \n",
       "\n",
       "[5 rows x 53 columns]"
      ]
     },
     "execution_count": 1,
     "metadata": {},
     "output_type": "execute_result"
    }
   ],
   "source": [
    "import pandas as pd\n",
    "import numpy as np\n",
    "import matplotlib.pyplot as plt\n",
    "import seaborn as sns\n",
    "import sklearn\n",
    "\n",
    "# Use seaborn theme\n",
    "sns.set_theme()\n",
    "\n",
    "# load train data\n",
    "df = pd.read_csv('Data/TrainAndValid.csv')\n",
    "\n",
    "df.head()"
   ]
  },
  {
   "cell_type": "markdown",
   "id": "6922eb9d-23bb-4db1-8b13-f3eb4c44bf18",
   "metadata": {},
   "source": [
    "The `DtypeWarning` message suggest some columns in the datasaet have <b>mixed data types</b>."
   ]
  },
  {
   "cell_type": "code",
   "execution_count": 2,
   "id": "7fc93356-2ae2-4908-97aa-d8c475045107",
   "metadata": {
    "scrolled": true
   },
   "outputs": [
    {
     "name": "stdout",
     "output_type": "stream",
     "text": [
      "<class 'pandas.core.frame.DataFrame'>\n",
      "RangeIndex: 412698 entries, 0 to 412697\n",
      "Data columns (total 53 columns):\n",
      " #   Column                    Non-Null Count   Dtype  \n",
      "---  ------                    --------------   -----  \n",
      " 0   SalesID                   412698 non-null  int64  \n",
      " 1   SalePrice                 412698 non-null  float64\n",
      " 2   MachineID                 412698 non-null  int64  \n",
      " 3   ModelID                   412698 non-null  int64  \n",
      " 4   datasource                412698 non-null  int64  \n",
      " 5   auctioneerID              392562 non-null  float64\n",
      " 6   YearMade                  412698 non-null  int64  \n",
      " 7   MachineHoursCurrentMeter  147504 non-null  float64\n",
      " 8   UsageBand                 73670 non-null   object \n",
      " 9   saledate                  412698 non-null  object \n",
      " 10  fiModelDesc               412698 non-null  object \n",
      " 11  fiBaseModel               412698 non-null  object \n",
      " 12  fiSecondaryDesc           271971 non-null  object \n",
      " 13  fiModelSeries             58667 non-null   object \n",
      " 14  fiModelDescriptor         74816 non-null   object \n",
      " 15  ProductSize               196093 non-null  object \n",
      " 16  fiProductClassDesc        412698 non-null  object \n",
      " 17  state                     412698 non-null  object \n",
      " 18  ProductGroup              412698 non-null  object \n",
      " 19  ProductGroupDesc          412698 non-null  object \n",
      " 20  Drive_System              107087 non-null  object \n",
      " 21  Enclosure                 412364 non-null  object \n",
      " 22  Forks                     197715 non-null  object \n",
      " 23  Pad_Type                  81096 non-null   object \n",
      " 24  Ride_Control              152728 non-null  object \n",
      " 25  Stick                     81096 non-null   object \n",
      " 26  Transmission              188007 non-null  object \n",
      " 27  Turbocharged              81096 non-null   object \n",
      " 28  Blade_Extension           25983 non-null   object \n",
      " 29  Blade_Width               25983 non-null   object \n",
      " 30  Enclosure_Type            25983 non-null   object \n",
      " 31  Engine_Horsepower         25983 non-null   object \n",
      " 32  Hydraulics                330133 non-null  object \n",
      " 33  Pushblock                 25983 non-null   object \n",
      " 34  Ripper                    106945 non-null  object \n",
      " 35  Scarifier                 25994 non-null   object \n",
      " 36  Tip_Control               25983 non-null   object \n",
      " 37  Tire_Size                 97638 non-null   object \n",
      " 38  Coupler                   220679 non-null  object \n",
      " 39  Coupler_System            44974 non-null   object \n",
      " 40  Grouser_Tracks            44875 non-null   object \n",
      " 41  Hydraulics_Flow           44875 non-null   object \n",
      " 42  Track_Type                102193 non-null  object \n",
      " 43  Undercarriage_Pad_Width   102916 non-null  object \n",
      " 44  Stick_Length              102261 non-null  object \n",
      " 45  Thumb                     102332 non-null  object \n",
      " 46  Pattern_Changer           102261 non-null  object \n",
      " 47  Grouser_Type              102193 non-null  object \n",
      " 48  Backhoe_Mounting          80712 non-null   object \n",
      " 49  Blade_Type                81875 non-null   object \n",
      " 50  Travel_Controls           81877 non-null   object \n",
      " 51  Differential_Type         71564 non-null   object \n",
      " 52  Steering_Controls         71522 non-null   object \n",
      "dtypes: float64(3), int64(5), object(45)\n",
      "memory usage: 166.9+ MB\n"
     ]
    }
   ],
   "source": [
    "# Check columns and Datatypes\n",
    "df.info()"
   ]
  },
  {
   "cell_type": "code",
   "execution_count": 3,
   "id": "0b8d9da4-1b67-4687-b359-bd0422cd9ab3",
   "metadata": {},
   "outputs": [
    {
     "data": {
      "text/plain": [
       "(412698, 53)"
      ]
     },
     "execution_count": 3,
     "metadata": {},
     "output_type": "execute_result"
    }
   ],
   "source": [
    "# Check dimensions\n",
    "df.shape"
   ]
  },
  {
   "cell_type": "code",
   "execution_count": 4,
   "id": "c8991bba-9a67-4297-95f0-9a287c2919b6",
   "metadata": {
    "scrolled": true
   },
   "outputs": [
    {
     "data": {
      "text/plain": [
       "SalesID                          0\n",
       "SalePrice                        0\n",
       "MachineID                        0\n",
       "ModelID                          0\n",
       "datasource                       0\n",
       "auctioneerID                 20136\n",
       "YearMade                         0\n",
       "MachineHoursCurrentMeter    265194\n",
       "UsageBand                   339028\n",
       "saledate                         0\n",
       "fiModelDesc                      0\n",
       "fiBaseModel                      0\n",
       "fiSecondaryDesc             140727\n",
       "fiModelSeries               354031\n",
       "fiModelDescriptor           337882\n",
       "ProductSize                 216605\n",
       "fiProductClassDesc               0\n",
       "state                            0\n",
       "ProductGroup                     0\n",
       "ProductGroupDesc                 0\n",
       "Drive_System                305611\n",
       "Enclosure                      334\n",
       "Forks                       214983\n",
       "Pad_Type                    331602\n",
       "Ride_Control                259970\n",
       "Stick                       331602\n",
       "Transmission                224691\n",
       "Turbocharged                331602\n",
       "Blade_Extension             386715\n",
       "Blade_Width                 386715\n",
       "Enclosure_Type              386715\n",
       "Engine_Horsepower           386715\n",
       "Hydraulics                   82565\n",
       "Pushblock                   386715\n",
       "Ripper                      305753\n",
       "Scarifier                   386704\n",
       "Tip_Control                 386715\n",
       "Tire_Size                   315060\n",
       "Coupler                     192019\n",
       "Coupler_System              367724\n",
       "Grouser_Tracks              367823\n",
       "Hydraulics_Flow             367823\n",
       "Track_Type                  310505\n",
       "Undercarriage_Pad_Width     309782\n",
       "Stick_Length                310437\n",
       "Thumb                       310366\n",
       "Pattern_Changer             310437\n",
       "Grouser_Type                310505\n",
       "Backhoe_Mounting            331986\n",
       "Blade_Type                  330823\n",
       "Travel_Controls             330821\n",
       "Differential_Type           341134\n",
       "Steering_Controls           341176\n",
       "dtype: int64"
      ]
     },
     "execution_count": 4,
     "metadata": {},
     "output_type": "execute_result"
    }
   ],
   "source": [
    "# Check missing values\n",
    "df.isna().sum()"
   ]
  },
  {
   "cell_type": "code",
   "execution_count": 5,
   "id": "408c44f6-a771-46c3-8405-5a876a434279",
   "metadata": {
    "scrolled": true
   },
   "outputs": [
    {
     "data": {
      "text/plain": [
       "SalesID                      0.00\n",
       "SalePrice                    0.00\n",
       "MachineID                    0.00\n",
       "ModelID                      0.00\n",
       "datasource                   0.00\n",
       "auctioneerID                 4.88\n",
       "YearMade                     0.00\n",
       "MachineHoursCurrentMeter    64.26\n",
       "UsageBand                   82.15\n",
       "saledate                     0.00\n",
       "fiModelDesc                  0.00\n",
       "fiBaseModel                  0.00\n",
       "fiSecondaryDesc             34.10\n",
       "fiModelSeries               85.78\n",
       "fiModelDescriptor           81.87\n",
       "ProductSize                 52.49\n",
       "fiProductClassDesc           0.00\n",
       "state                        0.00\n",
       "ProductGroup                 0.00\n",
       "ProductGroupDesc             0.00\n",
       "Drive_System                74.05\n",
       "Enclosure                    0.08\n",
       "Forks                       52.09\n",
       "Pad_Type                    80.35\n",
       "Ride_Control                62.99\n",
       "Stick                       80.35\n",
       "Transmission                54.44\n",
       "Turbocharged                80.35\n",
       "Blade_Extension             93.70\n",
       "Blade_Width                 93.70\n",
       "Enclosure_Type              93.70\n",
       "Engine_Horsepower           93.70\n",
       "Hydraulics                  20.01\n",
       "Pushblock                   93.70\n",
       "Ripper                      74.09\n",
       "Scarifier                   93.70\n",
       "Tip_Control                 93.70\n",
       "Tire_Size                   76.34\n",
       "Coupler                     46.53\n",
       "Coupler_System              89.10\n",
       "Grouser_Tracks              89.13\n",
       "Hydraulics_Flow             89.13\n",
       "Track_Type                  75.24\n",
       "Undercarriage_Pad_Width     75.06\n",
       "Stick_Length                75.22\n",
       "Thumb                       75.20\n",
       "Pattern_Changer             75.22\n",
       "Grouser_Type                75.24\n",
       "Backhoe_Mounting            80.44\n",
       "Blade_Type                  80.16\n",
       "Travel_Controls             80.16\n",
       "Differential_Type           82.66\n",
       "Steering_Controls           82.67\n",
       "dtype: float64"
      ]
     },
     "execution_count": 5,
     "metadata": {},
     "output_type": "execute_result"
    }
   ],
   "source": [
    "# Check nulls percentages\n",
    "data_count = df.shape[0]\n",
    "nulls_percent = np.round(df.isna().sum() / data_count * 100, 2)\n",
    "\n",
    "nulls_percent"
   ]
  },
  {
   "cell_type": "markdown",
   "id": "517afda1-7e22-4116-b3b9-270abf60593b",
   "metadata": {},
   "source": [
    "The dataset contains up to <b>%93</b> missing values for some features."
   ]
  },
  {
   "cell_type": "code",
   "execution_count": 6,
   "id": "0c3f3662-d658-4524-8b75-ef14892f9c7f",
   "metadata": {},
   "outputs": [
    {
     "data": {
      "text/plain": [
       "0"
      ]
     },
     "execution_count": 6,
     "metadata": {},
     "output_type": "execute_result"
    }
   ],
   "source": [
    "# Check duplicates\n",
    "df.duplicated().sum()"
   ]
  },
  {
   "cell_type": "markdown",
   "id": "84332f70-2a52-4c70-9e0f-9fa48d7fa1f2",
   "metadata": {},
   "source": [
    "According to the data dictionary, some heavy machine models sold <b>more than once</b> thus are not counted as duplicates."
   ]
  },
  {
   "cell_type": "code",
   "execution_count": 7,
   "id": "b8ef2367-8f6b-451d-a11d-a09b06b8ce34",
   "metadata": {},
   "outputs": [
    {
     "name": "stdout",
     "output_type": "stream",
     "text": [
      "Columns with mixed types and their data types: {'UsageBand': {'float', 'str'}, 'fiSecondaryDesc': {'float', 'str'}, 'fiModelSeries': {'float', 'str'}, 'fiModelDescriptor': {'float', 'str'}, 'ProductSize': {'float', 'str'}, 'Drive_System': {'float', 'str'}, 'Enclosure': {'float', 'str'}, 'Forks': {'float', 'str'}, 'Pad_Type': {'float', 'str'}, 'Ride_Control': {'float', 'str'}, 'Stick': {'float', 'str'}, 'Transmission': {'float', 'str'}, 'Turbocharged': {'float', 'str'}, 'Blade_Extension': {'float', 'str'}, 'Blade_Width': {'float', 'str'}, 'Enclosure_Type': {'float', 'str'}, 'Engine_Horsepower': {'float', 'str'}, 'Hydraulics': {'float', 'str'}, 'Pushblock': {'float', 'str'}, 'Ripper': {'float', 'str'}, 'Scarifier': {'float', 'str'}, 'Tip_Control': {'float', 'str'}, 'Tire_Size': {'float', 'str'}, 'Coupler': {'float', 'str'}, 'Coupler_System': {'float', 'str'}, 'Grouser_Tracks': {'float', 'str'}, 'Hydraulics_Flow': {'float', 'str'}, 'Track_Type': {'float', 'str'}, 'Undercarriage_Pad_Width': {'float', 'str'}, 'Stick_Length': {'float', 'str'}, 'Thumb': {'float', 'str'}, 'Pattern_Changer': {'float', 'str'}, 'Grouser_Type': {'float', 'str'}, 'Backhoe_Mounting': {'float', 'str'}, 'Blade_Type': {'float', 'str'}, 'Travel_Controls': {'float', 'str'}, 'Differential_Type': {'float', 'str'}, 'Steering_Controls': {'float', 'str'}}\n"
     ]
    }
   ],
   "source": [
    "# Check for mixed-types columns\n",
    "def check_mixed_types(df):\n",
    "    mixed_types = {}\n",
    "    for column in df.columns:\n",
    "        # Using set comprehension to identify unique types in each column\n",
    "        types = {type(val).__name__ for val in df[column]}\n",
    "        if len(types) > 1:\n",
    "            mixed_types[column] = types\n",
    "    \n",
    "    return mixed_types\n",
    "\n",
    "mixed = check_mixed_types(df)\n",
    "\n",
    "print(\"Columns with mixed types and their data types:\", mixed)"
   ]
  },
  {
   "cell_type": "code",
   "execution_count": 8,
   "id": "cacf54f7-43ee-4490-9ab3-706be1a84ab9",
   "metadata": {
    "scrolled": true
   },
   "outputs": [
    {
     "data": {
      "text/plain": [
       "['UsageBand',\n",
       " 'fiSecondaryDesc',\n",
       " 'fiModelSeries',\n",
       " 'fiModelDescriptor',\n",
       " 'ProductSize',\n",
       " 'Drive_System',\n",
       " 'Enclosure',\n",
       " 'Forks',\n",
       " 'Pad_Type',\n",
       " 'Ride_Control',\n",
       " 'Stick',\n",
       " 'Transmission',\n",
       " 'Turbocharged',\n",
       " 'Blade_Extension',\n",
       " 'Blade_Width',\n",
       " 'Enclosure_Type',\n",
       " 'Engine_Horsepower',\n",
       " 'Hydraulics',\n",
       " 'Pushblock',\n",
       " 'Ripper',\n",
       " 'Scarifier',\n",
       " 'Tip_Control',\n",
       " 'Tire_Size',\n",
       " 'Coupler',\n",
       " 'Coupler_System',\n",
       " 'Grouser_Tracks',\n",
       " 'Hydraulics_Flow',\n",
       " 'Track_Type',\n",
       " 'Undercarriage_Pad_Width',\n",
       " 'Stick_Length',\n",
       " 'Thumb',\n",
       " 'Pattern_Changer',\n",
       " 'Grouser_Type',\n",
       " 'Backhoe_Mounting',\n",
       " 'Blade_Type',\n",
       " 'Travel_Controls',\n",
       " 'Differential_Type',\n",
       " 'Steering_Controls']"
      ]
     },
     "execution_count": 8,
     "metadata": {},
     "output_type": "execute_result"
    }
   ],
   "source": [
    "mix_cols = [key for key, values in mixed.items()]\n",
    "mix_cols"
   ]
  },
  {
   "cell_type": "code",
   "execution_count": 9,
   "id": "3b2fdbe1-e7ad-4aa3-aeea-1f46ba8687b8",
   "metadata": {},
   "outputs": [
    {
     "data": {
      "text/plain": [
       "38"
      ]
     },
     "execution_count": 9,
     "metadata": {},
     "output_type": "execute_result"
    }
   ],
   "source": [
    "len(mixed)"
   ]
  },
  {
   "cell_type": "markdown",
   "id": "64c48234-4fd6-4db6-ad54-9adc2d616dce",
   "metadata": {},
   "source": [
    "The dataset contain 38 mixed-types columns. We can fix these using one of the followings:\n",
    "* Set `low_memory(False)` - might be not optimal for low-end systems.\n",
    "* Convert the columns to the appropriate datatype."
   ]
  },
  {
   "cell_type": "markdown",
   "id": "9282dcfb-bde6-43ec-9872-d5ef9f170f3d",
   "metadata": {},
   "source": [
    "<br>"
   ]
  },
  {
   "cell_type": "markdown",
   "id": "c27cd474-17bb-45ea-aa6c-401337a0197c",
   "metadata": {},
   "source": [
    "#### Data Consistency Check"
   ]
  },
  {
   "cell_type": "code",
   "execution_count": 10,
   "id": "272b1407-36b2-41f7-8659-dc25a6466f51",
   "metadata": {},
   "outputs": [
    {
     "data": {
      "text/html": [
       "<div>\n",
       "<style scoped>\n",
       "    .dataframe tbody tr th:only-of-type {\n",
       "        vertical-align: middle;\n",
       "    }\n",
       "\n",
       "    .dataframe tbody tr th {\n",
       "        vertical-align: top;\n",
       "    }\n",
       "\n",
       "    .dataframe thead th {\n",
       "        text-align: right;\n",
       "    }\n",
       "</style>\n",
       "<table border=\"1\" class=\"dataframe\">\n",
       "  <thead>\n",
       "    <tr style=\"text-align: right;\">\n",
       "      <th></th>\n",
       "      <th>count</th>\n",
       "      <th>mean</th>\n",
       "      <th>std</th>\n",
       "      <th>min</th>\n",
       "      <th>25%</th>\n",
       "      <th>50%</th>\n",
       "      <th>75%</th>\n",
       "      <th>max</th>\n",
       "    </tr>\n",
       "  </thead>\n",
       "  <tbody>\n",
       "    <tr>\n",
       "      <th>SalePrice</th>\n",
       "      <td>412698.00</td>\n",
       "      <td>31215.18</td>\n",
       "      <td>23141.74</td>\n",
       "      <td>4750.00</td>\n",
       "      <td>14500.00</td>\n",
       "      <td>24000.00</td>\n",
       "      <td>40000.00</td>\n",
       "      <td>142000.00</td>\n",
       "    </tr>\n",
       "    <tr>\n",
       "      <th>datasource</th>\n",
       "      <td>412698.00</td>\n",
       "      <td>135.17</td>\n",
       "      <td>9.65</td>\n",
       "      <td>121.00</td>\n",
       "      <td>132.00</td>\n",
       "      <td>132.00</td>\n",
       "      <td>136.00</td>\n",
       "      <td>173.00</td>\n",
       "    </tr>\n",
       "    <tr>\n",
       "      <th>YearMade</th>\n",
       "      <td>412698.00</td>\n",
       "      <td>1899.05</td>\n",
       "      <td>292.19</td>\n",
       "      <td>1000.00</td>\n",
       "      <td>1985.00</td>\n",
       "      <td>1995.00</td>\n",
       "      <td>2001.00</td>\n",
       "      <td>2014.00</td>\n",
       "    </tr>\n",
       "    <tr>\n",
       "      <th>MachineHoursCurrentMeter</th>\n",
       "      <td>147504.00</td>\n",
       "      <td>3522.99</td>\n",
       "      <td>27169.93</td>\n",
       "      <td>0.00</td>\n",
       "      <td>0.00</td>\n",
       "      <td>0.00</td>\n",
       "      <td>3209.00</td>\n",
       "      <td>2483300.00</td>\n",
       "    </tr>\n",
       "  </tbody>\n",
       "</table>\n",
       "</div>"
      ],
      "text/plain": [
       "                             count     mean      std     min      25%  \\\n",
       "SalePrice                412698.00 31215.18 23141.74 4750.00 14500.00   \n",
       "datasource               412698.00   135.17     9.65  121.00   132.00   \n",
       "YearMade                 412698.00  1899.05   292.19 1000.00  1985.00   \n",
       "MachineHoursCurrentMeter 147504.00  3522.99 27169.93    0.00     0.00   \n",
       "\n",
       "                              50%      75%        max  \n",
       "SalePrice                24000.00 40000.00  142000.00  \n",
       "datasource                 132.00   136.00     173.00  \n",
       "YearMade                  1995.00  2001.00    2014.00  \n",
       "MachineHoursCurrentMeter     0.00  3209.00 2483300.00  "
      ]
     },
     "execution_count": 10,
     "metadata": {},
     "output_type": "execute_result"
    }
   ],
   "source": [
    "# Basic descriptive statistics\n",
    "pd.set_option('display.float_format', lambda x: '%.2f' % x)\n",
    "\n",
    "df.loc[:, ~df.columns.str.contains('ID')].describe().T"
   ]
  },
  {
   "cell_type": "markdown",
   "id": "b04df2f1-aff4-459e-bcba-affaf0a4843f",
   "metadata": {},
   "source": [
    "We notice some inconsistencies across the `YearMade` (Year of Manufacture) column with odd minimum — <b>1000</b>, and maximum values — <b>2014</b>, when sales data is limited to <b>2012</b>. Let's check how many inaccurate data we have in the dataset, and how to fix them."
   ]
  },
  {
   "cell_type": "code",
   "execution_count": 11,
   "id": "69f4f97e-5608-4d51-a597-40ed9dce739e",
   "metadata": {},
   "outputs": [
    {
     "data": {
      "text/plain": [
       "count   412698.00\n",
       "mean      2004.32\n",
       "std          5.82\n",
       "min       1989.00\n",
       "25%       2000.00\n",
       "50%       2006.00\n",
       "75%       2009.00\n",
       "max       2012.00\n",
       "Name: saledate, dtype: float64"
      ]
     },
     "execution_count": 11,
     "metadata": {},
     "output_type": "execute_result"
    }
   ],
   "source": [
    "# checking sale date\n",
    "pd.to_datetime(df['saledate']).dt.year.describe().T"
   ]
  },
  {
   "cell_type": "code",
   "execution_count": 12,
   "id": "0283ab71-d068-4267-862c-70b4e8bad69d",
   "metadata": {},
   "outputs": [
    {
     "data": {
      "text/html": [
       "<div>\n",
       "<style scoped>\n",
       "    .dataframe tbody tr th:only-of-type {\n",
       "        vertical-align: middle;\n",
       "    }\n",
       "\n",
       "    .dataframe tbody tr th {\n",
       "        vertical-align: top;\n",
       "    }\n",
       "\n",
       "    .dataframe thead th {\n",
       "        text-align: right;\n",
       "    }\n",
       "</style>\n",
       "<table border=\"1\" class=\"dataframe\">\n",
       "  <thead>\n",
       "    <tr style=\"text-align: right;\">\n",
       "      <th></th>\n",
       "      <th>SalesID</th>\n",
       "      <th>SalePrice</th>\n",
       "      <th>MachineID</th>\n",
       "      <th>ModelID</th>\n",
       "      <th>datasource</th>\n",
       "      <th>auctioneerID</th>\n",
       "      <th>YearMade</th>\n",
       "      <th>MachineHoursCurrentMeter</th>\n",
       "      <th>UsageBand</th>\n",
       "      <th>saledate</th>\n",
       "      <th>...</th>\n",
       "      <th>Undercarriage_Pad_Width</th>\n",
       "      <th>Stick_Length</th>\n",
       "      <th>Thumb</th>\n",
       "      <th>Pattern_Changer</th>\n",
       "      <th>Grouser_Type</th>\n",
       "      <th>Backhoe_Mounting</th>\n",
       "      <th>Blade_Type</th>\n",
       "      <th>Travel_Controls</th>\n",
       "      <th>Differential_Type</th>\n",
       "      <th>Steering_Controls</th>\n",
       "    </tr>\n",
       "  </thead>\n",
       "  <tbody>\n",
       "    <tr>\n",
       "      <th>395524</th>\n",
       "      <td>6275685</td>\n",
       "      <td>55000.00</td>\n",
       "      <td>156521</td>\n",
       "      <td>1453</td>\n",
       "      <td>149</td>\n",
       "      <td>1.00</td>\n",
       "      <td>2013</td>\n",
       "      <td>NaN</td>\n",
       "      <td>NaN</td>\n",
       "      <td>12/7/2011 0:00</td>\n",
       "      <td>...</td>\n",
       "      <td>NaN</td>\n",
       "      <td>NaN</td>\n",
       "      <td>NaN</td>\n",
       "      <td>NaN</td>\n",
       "      <td>NaN</td>\n",
       "      <td>NaN</td>\n",
       "      <td>NaN</td>\n",
       "      <td>NaN</td>\n",
       "      <td>Standard</td>\n",
       "      <td>Conventional</td>\n",
       "    </tr>\n",
       "    <tr>\n",
       "      <th>409039</th>\n",
       "      <td>6282827</td>\n",
       "      <td>33000.00</td>\n",
       "      <td>1927533</td>\n",
       "      <td>1931</td>\n",
       "      <td>149</td>\n",
       "      <td>2.00</td>\n",
       "      <td>2014</td>\n",
       "      <td>NaN</td>\n",
       "      <td>NaN</td>\n",
       "      <td>1/28/2012 0:00</td>\n",
       "      <td>...</td>\n",
       "      <td>NaN</td>\n",
       "      <td>NaN</td>\n",
       "      <td>NaN</td>\n",
       "      <td>NaN</td>\n",
       "      <td>NaN</td>\n",
       "      <td>NaN</td>\n",
       "      <td>NaN</td>\n",
       "      <td>NaN</td>\n",
       "      <td>NaN</td>\n",
       "      <td>NaN</td>\n",
       "    </tr>\n",
       "    <tr>\n",
       "      <th>410474</th>\n",
       "      <td>6294577</td>\n",
       "      <td>34000.00</td>\n",
       "      <td>1845767</td>\n",
       "      <td>11742</td>\n",
       "      <td>149</td>\n",
       "      <td>0.00</td>\n",
       "      <td>2014</td>\n",
       "      <td>NaN</td>\n",
       "      <td>NaN</td>\n",
       "      <td>3/22/2012 0:00</td>\n",
       "      <td>...</td>\n",
       "      <td>None or Unspecified</td>\n",
       "      <td>None or Unspecified</td>\n",
       "      <td>Manual</td>\n",
       "      <td>None or Unspecified</td>\n",
       "      <td>Triple</td>\n",
       "      <td>NaN</td>\n",
       "      <td>NaN</td>\n",
       "      <td>NaN</td>\n",
       "      <td>NaN</td>\n",
       "      <td>NaN</td>\n",
       "    </tr>\n",
       "  </tbody>\n",
       "</table>\n",
       "<p>3 rows × 53 columns</p>\n",
       "</div>"
      ],
      "text/plain": [
       "        SalesID  SalePrice  MachineID  ModelID  datasource  auctioneerID  \\\n",
       "395524  6275685   55000.00     156521     1453         149          1.00   \n",
       "409039  6282827   33000.00    1927533     1931         149          2.00   \n",
       "410474  6294577   34000.00    1845767    11742         149          0.00   \n",
       "\n",
       "        YearMade  MachineHoursCurrentMeter UsageBand        saledate  ...  \\\n",
       "395524      2013                       NaN       NaN  12/7/2011 0:00  ...   \n",
       "409039      2014                       NaN       NaN  1/28/2012 0:00  ...   \n",
       "410474      2014                       NaN       NaN  3/22/2012 0:00  ...   \n",
       "\n",
       "       Undercarriage_Pad_Width         Stick_Length   Thumb  \\\n",
       "395524                     NaN                  NaN     NaN   \n",
       "409039                     NaN                  NaN     NaN   \n",
       "410474     None or Unspecified  None or Unspecified  Manual   \n",
       "\n",
       "            Pattern_Changer Grouser_Type Backhoe_Mounting Blade_Type  \\\n",
       "395524                  NaN          NaN              NaN        NaN   \n",
       "409039                  NaN          NaN              NaN        NaN   \n",
       "410474  None or Unspecified       Triple              NaN        NaN   \n",
       "\n",
       "       Travel_Controls Differential_Type Steering_Controls  \n",
       "395524             NaN          Standard      Conventional  \n",
       "409039             NaN               NaN               NaN  \n",
       "410474             NaN               NaN               NaN  \n",
       "\n",
       "[3 rows x 53 columns]"
      ]
     },
     "execution_count": 12,
     "metadata": {},
     "output_type": "execute_result"
    }
   ],
   "source": [
    "df[df['YearMade'] > 2012]"
   ]
  },
  {
   "cell_type": "code",
   "execution_count": 13,
   "id": "a71b4ab5-147b-4bfd-aa04-0ababc7799e3",
   "metadata": {},
   "outputs": [
    {
     "data": {
      "text/plain": [
       "(39391, 53)"
      ]
     },
     "execution_count": 13,
     "metadata": {},
     "output_type": "execute_result"
    }
   ],
   "source": [
    "df[df['YearMade'] == 1000].shape"
   ]
  },
  {
   "cell_type": "markdown",
   "id": "c37565df-d81b-41f5-98bd-75e5a552576e",
   "metadata": {},
   "source": [
    "The dataset contains nearly <b>40,000</b> samples with invalid `YearMade` dates.\n",
    "\n",
    "* Consider replacing invalid values with either the <u>mean</u> or <u>median</u> depending on the data distribution."
   ]
  },
  {
   "cell_type": "code",
   "execution_count": 14,
   "id": "527d0c54-f759-49d1-ac5d-57c57b4215ff",
   "metadata": {},
   "outputs": [
    {
     "data": {
      "image/png": "[encoded data removed]",
      "text/plain": [
       "<Figure size 1200x500 with 2 Axes>"
      ]
     },
     "metadata": {},
     "output_type": "display_data"
    }
   ],
   "source": [
    "# Check year of manufacture distribution\n",
    "fig, (ax, ax1) = plt.subplots(nrows=1,\n",
    "                              ncols=2,\n",
    "                              figsize=(12, 5))\n",
    "\n",
    "ax.hist(df['YearMade'][df['YearMade'] != 1000], bins=20)\n",
    "ax1.boxplot(df['YearMade'][df['YearMade'] != 1000])\n",
    "\n",
    "fig.suptitle('Year of Manufacture Distribution',\n",
    "             y=0.95,\n",
    "             fontsize=14,\n",
    "             fontweight='bold');"
   ]
  },
  {
   "cell_type": "markdown",
   "id": "3ca3a88e-2f4f-4bb4-af68-866e93a4336f",
   "metadata": {},
   "source": [
    "* The Histogram shows a <b>left-skewed distribution</b>, where most of the data fall between the `early 1990s` and `early 2000s`.\n",
    "* The Boxplot highlights several outliers indicating that some heavy machines were built between the `1920s` and `early 1970s` period.\n",
    "* The <b>median</b> year of manufacture sits between `late 1990s` and `early 2000s`.\n",
    "\n",
    "As the mean is sensitive to outliers and skewed data, replacing the invalid manufacture year with the <b>median</b> makes more sense."
   ]
  },
  {
   "cell_type": "code",
   "execution_count": 15,
   "id": "0b18e7a7-c1f6-4ad7-b851-2d95edd753e9",
   "metadata": {},
   "outputs": [],
   "source": [
    "# Create a copy of the original dataframe\n",
    "df_copy = df.copy()"
   ]
  },
  {
   "cell_type": "code",
   "execution_count": 16,
   "id": "e390ae4d-c37e-430e-90ae-58f8a662b940",
   "metadata": {},
   "outputs": [],
   "source": [
    "# Replace invalid year of manufature with median\n",
    "df_copy['YearMade'] = df_copy['YearMade'].replace([1000, 2014, 2013], df_copy['YearMade'].median())"
   ]
  },
  {
   "cell_type": "code",
   "execution_count": 17,
   "id": "9b0f1075-3e5d-4515-a66e-0f1a92b81e54",
   "metadata": {},
   "outputs": [
    {
     "data": {
      "text/plain": [
       "count   412698.00\n",
       "mean      1994.02\n",
       "std          9.22\n",
       "min       1919.00\n",
       "25%       1989.00\n",
       "50%       1995.00\n",
       "75%       2001.00\n",
       "max       2012.00\n",
       "Name: YearMade, dtype: float64"
      ]
     },
     "execution_count": 17,
     "metadata": {},
     "output_type": "execute_result"
    }
   ],
   "source": [
    "df_copy['YearMade'].describe().T"
   ]
  },
  {
   "cell_type": "code",
   "execution_count": 18,
   "id": "28856ff2-8a8d-4018-8cf2-3fa99730333b",
   "metadata": {},
   "outputs": [
    {
     "data": {
      "image/png": "[encoded data removed]",
      "text/plain": [
       "<Figure size 1200x500 with 2 Axes>"
      ]
     },
     "metadata": {},
     "output_type": "display_data"
    }
   ],
   "source": [
    "# Check sale prices distribution\n",
    "fig, (ax, ax1) = plt.subplots(nrows=1,\n",
    "                              ncols=2,\n",
    "                              figsize=(12, 5))\n",
    "\n",
    "ax.hist(df_copy['SalePrice'], bins=20)\n",
    "ax1.boxplot(df_copy['SalePrice'])\n",
    "\n",
    "fig.suptitle('Sale Prices Distribution',\n",
    "             y=0.95,\n",
    "             fontsize=14,\n",
    "             fontweight='bold');"
   ]
  },
  {
   "cell_type": "markdown",
   "id": "954f0b67-399f-4387-af16-dc3dac322bf1",
   "metadata": {},
   "source": [
    "* The sale prices Histogram shows a <b>right-skewed distribution</b> of data, where most sale prices are concentrated between `10,000` and `40,000`.\n",
    "* The <b>highest frequency</b> of sale prices is in the range of `10,000` to `20,000`, followed by the `20,000` to `30,000` range. There's a significant drop in frequency as the sale prices increases past `50,000`.\n",
    "* The Botplot shows a <b>large number of outliers</b> indicating sale prices that go up to `140,000`.\n",
    "* The <b>median</b> sale price is around `22,000`."
   ]
  },
  {
   "cell_type": "code",
   "execution_count": 19,
   "id": "b51b77ec-db52-4de6-9eb7-0d62f9097e2b",
   "metadata": {},
   "outputs": [
    {
     "data": {
      "text/plain": [
       "Enclosure\n",
       "OROPS                  177971\n",
       "EROPS                  141769\n",
       "EROPS w AC              92601\n",
       "NaN                       334\n",
       "EROPS AC                   18\n",
       "NO ROPS                     3\n",
       "None or Unspecified         2\n",
       "Name: count, dtype: int64"
      ]
     },
     "execution_count": 19,
     "metadata": {},
     "output_type": "execute_result"
    }
   ],
   "source": [
    "# Check Enclosure values\n",
    "df_copy['Enclosure'].value_counts(dropna=False)"
   ]
  },
  {
   "cell_type": "markdown",
   "id": "4b887b2a-bbfc-49dd-b7cb-555824a93b59",
   "metadata": {},
   "source": [
    "The column `Enclosure` also contains some inconsistent and redudant data as well as missing values. For instance:\n",
    "* The values `EROPS w AC` and `EROPS AC` appear to be the same.\n",
    "* `None or Unspecified` basically indicate missing values (NaN).\n",
    "\n",
    "We can merge the redundant values, thus, reducing the number of categories, then fill the missing values with the <b>mode</b> (most frequent value)."
   ]
  },
  {
   "cell_type": "code",
   "execution_count": 20,
   "id": "1a1b2f93-39b5-4417-b4c3-12f6499f74a9",
   "metadata": {},
   "outputs": [],
   "source": [
    "# Replace 'None or Unspecified' with 'NaN'\n",
    "df_copy['Enclosure'] = df_copy['Enclosure'].replace('None or Unspecified', np.NaN)"
   ]
  },
  {
   "cell_type": "code",
   "execution_count": 21,
   "id": "9c45274d-b35d-469c-b022-88dd783dcd44",
   "metadata": {},
   "outputs": [],
   "source": [
    "# Replace 'EROPS AC' with 'EROPS w AC'\n",
    "df_copy.loc[df_copy['Enclosure'] == 'EROPS AC', 'Enclosure'] = 'EROPS w AC'"
   ]
  },
  {
   "cell_type": "code",
   "execution_count": 22,
   "id": "9d917c89-aa3a-431e-9672-f2282a1731dd",
   "metadata": {},
   "outputs": [],
   "source": [
    "# Fill missing values with mode()\n",
    "df_copy['Enclosure'] = df_copy['Enclosure'].fillna(df_copy['Enclosure'].mode()[0])"
   ]
  },
  {
   "cell_type": "code",
   "execution_count": 23,
   "id": "244d65ce-6325-4e03-87c2-73c8bc1b1ca1",
   "metadata": {},
   "outputs": [
    {
     "data": {
      "text/plain": [
       "Enclosure\n",
       "OROPS         178307\n",
       "EROPS         141769\n",
       "EROPS w AC     92619\n",
       "NO ROPS            3\n",
       "Name: count, dtype: int64"
      ]
     },
     "execution_count": 23,
     "metadata": {},
     "output_type": "execute_result"
    }
   ],
   "source": [
    "# Check the values of the column\n",
    "df_copy['Enclosure'].value_counts(dropna=False)"
   ]
  },
  {
   "cell_type": "markdown",
   "id": "8de41a83-104e-4a4e-8f8b-3b8360aa50ae",
   "metadata": {},
   "source": [
    "<br>"
   ]
  },
  {
   "cell_type": "markdown",
   "id": "79b36573-3320-467d-a169-40a91e7b73b7",
   "metadata": {},
   "source": [
    "#### Sales Performance over Time"
   ]
  },
  {
   "cell_type": "code",
   "execution_count": 24,
   "id": "324e890f-5a9d-4172-94c9-bd85392b2fde",
   "metadata": {},
   "outputs": [
    {
     "data": {
      "text/html": [
       "<div>\n",
       "<style scoped>\n",
       "    .dataframe tbody tr th:only-of-type {\n",
       "        vertical-align: middle;\n",
       "    }\n",
       "\n",
       "    .dataframe tbody tr th {\n",
       "        vertical-align: top;\n",
       "    }\n",
       "\n",
       "    .dataframe thead th {\n",
       "        text-align: right;\n",
       "    }\n",
       "</style>\n",
       "<table border=\"1\" class=\"dataframe\">\n",
       "  <thead>\n",
       "    <tr style=\"text-align: right;\">\n",
       "      <th></th>\n",
       "      <th>SalesID</th>\n",
       "      <th>SalePrice</th>\n",
       "      <th>MachineID</th>\n",
       "      <th>ModelID</th>\n",
       "      <th>datasource</th>\n",
       "      <th>auctioneerID</th>\n",
       "      <th>YearMade</th>\n",
       "      <th>MachineHoursCurrentMeter</th>\n",
       "      <th>UsageBand</th>\n",
       "      <th>saledate</th>\n",
       "      <th>...</th>\n",
       "      <th>Undercarriage_Pad_Width</th>\n",
       "      <th>Stick_Length</th>\n",
       "      <th>Thumb</th>\n",
       "      <th>Pattern_Changer</th>\n",
       "      <th>Grouser_Type</th>\n",
       "      <th>Backhoe_Mounting</th>\n",
       "      <th>Blade_Type</th>\n",
       "      <th>Travel_Controls</th>\n",
       "      <th>Differential_Type</th>\n",
       "      <th>Steering_Controls</th>\n",
       "    </tr>\n",
       "  </thead>\n",
       "  <tbody>\n",
       "    <tr>\n",
       "      <th>205615</th>\n",
       "      <td>1646770</td>\n",
       "      <td>9500.00</td>\n",
       "      <td>1126363</td>\n",
       "      <td>8434</td>\n",
       "      <td>132</td>\n",
       "      <td>18.00</td>\n",
       "      <td>1974</td>\n",
       "      <td>NaN</td>\n",
       "      <td>NaN</td>\n",
       "      <td>1989-01-17</td>\n",
       "      <td>...</td>\n",
       "      <td>NaN</td>\n",
       "      <td>NaN</td>\n",
       "      <td>NaN</td>\n",
       "      <td>NaN</td>\n",
       "      <td>NaN</td>\n",
       "      <td>None or Unspecified</td>\n",
       "      <td>Straight</td>\n",
       "      <td>None or Unspecified</td>\n",
       "      <td>NaN</td>\n",
       "      <td>NaN</td>\n",
       "    </tr>\n",
       "    <tr>\n",
       "      <th>274835</th>\n",
       "      <td>1821514</td>\n",
       "      <td>14000.00</td>\n",
       "      <td>1194089</td>\n",
       "      <td>10150</td>\n",
       "      <td>132</td>\n",
       "      <td>99.00</td>\n",
       "      <td>1980</td>\n",
       "      <td>NaN</td>\n",
       "      <td>NaN</td>\n",
       "      <td>1989-01-31</td>\n",
       "      <td>...</td>\n",
       "      <td>NaN</td>\n",
       "      <td>NaN</td>\n",
       "      <td>NaN</td>\n",
       "      <td>NaN</td>\n",
       "      <td>NaN</td>\n",
       "      <td>NaN</td>\n",
       "      <td>NaN</td>\n",
       "      <td>NaN</td>\n",
       "      <td>Standard</td>\n",
       "      <td>Conventional</td>\n",
       "    </tr>\n",
       "    <tr>\n",
       "      <th>141296</th>\n",
       "      <td>1505138</td>\n",
       "      <td>50000.00</td>\n",
       "      <td>1473654</td>\n",
       "      <td>4139</td>\n",
       "      <td>132</td>\n",
       "      <td>99.00</td>\n",
       "      <td>1978</td>\n",
       "      <td>NaN</td>\n",
       "      <td>NaN</td>\n",
       "      <td>1989-01-31</td>\n",
       "      <td>...</td>\n",
       "      <td>NaN</td>\n",
       "      <td>NaN</td>\n",
       "      <td>NaN</td>\n",
       "      <td>NaN</td>\n",
       "      <td>NaN</td>\n",
       "      <td>None or Unspecified</td>\n",
       "      <td>Straight</td>\n",
       "      <td>None or Unspecified</td>\n",
       "      <td>NaN</td>\n",
       "      <td>NaN</td>\n",
       "    </tr>\n",
       "    <tr>\n",
       "      <th>212552</th>\n",
       "      <td>1671174</td>\n",
       "      <td>16000.00</td>\n",
       "      <td>1327630</td>\n",
       "      <td>8591</td>\n",
       "      <td>132</td>\n",
       "      <td>99.00</td>\n",
       "      <td>1980</td>\n",
       "      <td>NaN</td>\n",
       "      <td>NaN</td>\n",
       "      <td>1989-01-31</td>\n",
       "      <td>...</td>\n",
       "      <td>NaN</td>\n",
       "      <td>NaN</td>\n",
       "      <td>NaN</td>\n",
       "      <td>NaN</td>\n",
       "      <td>NaN</td>\n",
       "      <td>NaN</td>\n",
       "      <td>NaN</td>\n",
       "      <td>NaN</td>\n",
       "      <td>Standard</td>\n",
       "      <td>Conventional</td>\n",
       "    </tr>\n",
       "    <tr>\n",
       "      <th>62755</th>\n",
       "      <td>1329056</td>\n",
       "      <td>22000.00</td>\n",
       "      <td>1336053</td>\n",
       "      <td>4089</td>\n",
       "      <td>132</td>\n",
       "      <td>99.00</td>\n",
       "      <td>1984</td>\n",
       "      <td>NaN</td>\n",
       "      <td>NaN</td>\n",
       "      <td>1989-01-31</td>\n",
       "      <td>...</td>\n",
       "      <td>NaN</td>\n",
       "      <td>NaN</td>\n",
       "      <td>NaN</td>\n",
       "      <td>NaN</td>\n",
       "      <td>NaN</td>\n",
       "      <td>None or Unspecified</td>\n",
       "      <td>PAT</td>\n",
       "      <td>Lever</td>\n",
       "      <td>NaN</td>\n",
       "      <td>NaN</td>\n",
       "    </tr>\n",
       "  </tbody>\n",
       "</table>\n",
       "<p>5 rows × 53 columns</p>\n",
       "</div>"
      ],
      "text/plain": [
       "        SalesID  SalePrice  MachineID  ModelID  datasource  auctioneerID  \\\n",
       "205615  1646770    9500.00    1126363     8434         132         18.00   \n",
       "274835  1821514   14000.00    1194089    10150         132         99.00   \n",
       "141296  1505138   50000.00    1473654     4139         132         99.00   \n",
       "212552  1671174   16000.00    1327630     8591         132         99.00   \n",
       "62755   1329056   22000.00    1336053     4089         132         99.00   \n",
       "\n",
       "        YearMade  MachineHoursCurrentMeter UsageBand   saledate  ...  \\\n",
       "205615      1974                       NaN       NaN 1989-01-17  ...   \n",
       "274835      1980                       NaN       NaN 1989-01-31  ...   \n",
       "141296      1978                       NaN       NaN 1989-01-31  ...   \n",
       "212552      1980                       NaN       NaN 1989-01-31  ...   \n",
       "62755       1984                       NaN       NaN 1989-01-31  ...   \n",
       "\n",
       "       Undercarriage_Pad_Width Stick_Length Thumb Pattern_Changer  \\\n",
       "205615                     NaN          NaN   NaN             NaN   \n",
       "274835                     NaN          NaN   NaN             NaN   \n",
       "141296                     NaN          NaN   NaN             NaN   \n",
       "212552                     NaN          NaN   NaN             NaN   \n",
       "62755                      NaN          NaN   NaN             NaN   \n",
       "\n",
       "       Grouser_Type     Backhoe_Mounting Blade_Type      Travel_Controls  \\\n",
       "205615          NaN  None or Unspecified   Straight  None or Unspecified   \n",
       "274835          NaN                  NaN        NaN                  NaN   \n",
       "141296          NaN  None or Unspecified   Straight  None or Unspecified   \n",
       "212552          NaN                  NaN        NaN                  NaN   \n",
       "62755           NaN  None or Unspecified        PAT                Lever   \n",
       "\n",
       "       Differential_Type Steering_Controls  \n",
       "205615               NaN               NaN  \n",
       "274835          Standard      Conventional  \n",
       "141296               NaN               NaN  \n",
       "212552          Standard      Conventional  \n",
       "62755                NaN               NaN  \n",
       "\n",
       "[5 rows x 53 columns]"
      ]
     },
     "execution_count": 24,
     "metadata": {},
     "output_type": "execute_result"
    }
   ],
   "source": [
    "# Cast sale dates to datetime and sort by date\n",
    "df_copy['saledate'] = pd.to_datetime(df_copy['saledate'])\n",
    "\n",
    "df_copy.sort_values(by='saledate').head()"
   ]
  },
  {
   "cell_type": "code",
   "execution_count": 25,
   "id": "01cb831f-b50a-4672-b234-6dbb25f1682b",
   "metadata": {},
   "outputs": [
    {
     "data": {
      "image/png": "[encoded data removed]",
      "text/plain": [
       "<Figure size 1200x600 with 1 Axes>"
      ]
     },
     "metadata": {},
     "output_type": "display_data"
    }
   ],
   "source": [
    "# Check sale prices over time\n",
    "fig, ax = plt.subplots(figsize=(12, 6))\n",
    "\n",
    "ax = sns.scatterplot(data=df_copy,\n",
    "                     x=df_copy['saledate'][:500], \n",
    "                     y=df_copy['SalePrice'][:500])\n",
    "\n",
    "# Calculate the mean sale price\n",
    "price_mean = np.mean(df_copy['SalePrice'])\n",
    "\n",
    "ax.axhline(price_mean,\n",
    "           color='red', \n",
    "           linestyle='--',\n",
    "           linewidth=1,\n",
    "           label='Avg. Sale Price')\n",
    "\n",
    "ax.legend()\n",
    "\n",
    "ax.set_xlabel('Sale Date')\n",
    "ax.set_ylabel('Sale Price')\n",
    "\n",
    "fig.suptitle('Sale Prices over Time',\n",
    "             y=0.93,\n",
    "             fontsize=14,\n",
    "             fontweight='bold');"
   ]
  },
  {
   "cell_type": "markdown",
   "id": "19621f2e-df36-41bd-8ba7-1e1e9766dc05",
   "metadata": {},
   "source": [
    "* The scatterplot shows <u>no clear upward</u> or <u>downward trend</u> in sale prices over the observed time period. The prices appear relatively stable with fluctuations around various points in time.\n",
    "* We notice that the majority of sale prices are clustered below the <b>mean line</b>. This indicates that most heavy machines sold at lower prices over the years. High-priced sales — `greater than 60,000`, are less frequent but occur throughout the time period.\n",
    "* Some outliers with <b>extremely high-priced sales</b> — `greater than 100,000` also occur less frequently between `2004` and `2008`. "
   ]
  },
  {
   "cell_type": "code",
   "execution_count": 26,
   "id": "34d16b6f-8c94-488a-a169-84f0ad6e631f",
   "metadata": {},
   "outputs": [
    {
     "data": {
      "text/html": [
       "<div>\n",
       "<style scoped>\n",
       "    .dataframe tbody tr th:only-of-type {\n",
       "        vertical-align: middle;\n",
       "    }\n",
       "\n",
       "    .dataframe tbody tr th {\n",
       "        vertical-align: top;\n",
       "    }\n",
       "\n",
       "    .dataframe thead th {\n",
       "        text-align: right;\n",
       "    }\n",
       "</style>\n",
       "<table border=\"1\" class=\"dataframe\">\n",
       "  <thead>\n",
       "    <tr style=\"text-align: right;\">\n",
       "      <th></th>\n",
       "      <th>SalesID</th>\n",
       "      <th>SalePrice</th>\n",
       "      <th>MachineID</th>\n",
       "      <th>ModelID</th>\n",
       "      <th>datasource</th>\n",
       "      <th>auctioneerID</th>\n",
       "      <th>YearMade</th>\n",
       "      <th>MachineHoursCurrentMeter</th>\n",
       "      <th>UsageBand</th>\n",
       "      <th>fiModelDesc</th>\n",
       "      <th>...</th>\n",
       "      <th>Pattern_Changer</th>\n",
       "      <th>Grouser_Type</th>\n",
       "      <th>Backhoe_Mounting</th>\n",
       "      <th>Blade_Type</th>\n",
       "      <th>Travel_Controls</th>\n",
       "      <th>Differential_Type</th>\n",
       "      <th>Steering_Controls</th>\n",
       "      <th>SaleDay</th>\n",
       "      <th>SaleMonth</th>\n",
       "      <th>SaleYear</th>\n",
       "    </tr>\n",
       "  </thead>\n",
       "  <tbody>\n",
       "    <tr>\n",
       "      <th>0</th>\n",
       "      <td>1139246</td>\n",
       "      <td>66000.00</td>\n",
       "      <td>999089</td>\n",
       "      <td>3157</td>\n",
       "      <td>121</td>\n",
       "      <td>3.00</td>\n",
       "      <td>2004</td>\n",
       "      <td>68.00</td>\n",
       "      <td>Low</td>\n",
       "      <td>521D</td>\n",
       "      <td>...</td>\n",
       "      <td>NaN</td>\n",
       "      <td>NaN</td>\n",
       "      <td>NaN</td>\n",
       "      <td>NaN</td>\n",
       "      <td>NaN</td>\n",
       "      <td>Standard</td>\n",
       "      <td>Conventional</td>\n",
       "      <td>16</td>\n",
       "      <td>11</td>\n",
       "      <td>2006</td>\n",
       "    </tr>\n",
       "    <tr>\n",
       "      <th>1</th>\n",
       "      <td>1139248</td>\n",
       "      <td>57000.00</td>\n",
       "      <td>117657</td>\n",
       "      <td>77</td>\n",
       "      <td>121</td>\n",
       "      <td>3.00</td>\n",
       "      <td>1996</td>\n",
       "      <td>4640.00</td>\n",
       "      <td>Low</td>\n",
       "      <td>950FII</td>\n",
       "      <td>...</td>\n",
       "      <td>NaN</td>\n",
       "      <td>NaN</td>\n",
       "      <td>NaN</td>\n",
       "      <td>NaN</td>\n",
       "      <td>NaN</td>\n",
       "      <td>Standard</td>\n",
       "      <td>Conventional</td>\n",
       "      <td>26</td>\n",
       "      <td>3</td>\n",
       "      <td>2004</td>\n",
       "    </tr>\n",
       "    <tr>\n",
       "      <th>2</th>\n",
       "      <td>1139249</td>\n",
       "      <td>10000.00</td>\n",
       "      <td>434808</td>\n",
       "      <td>7009</td>\n",
       "      <td>121</td>\n",
       "      <td>3.00</td>\n",
       "      <td>2001</td>\n",
       "      <td>2838.00</td>\n",
       "      <td>High</td>\n",
       "      <td>226</td>\n",
       "      <td>...</td>\n",
       "      <td>NaN</td>\n",
       "      <td>NaN</td>\n",
       "      <td>NaN</td>\n",
       "      <td>NaN</td>\n",
       "      <td>NaN</td>\n",
       "      <td>NaN</td>\n",
       "      <td>NaN</td>\n",
       "      <td>26</td>\n",
       "      <td>2</td>\n",
       "      <td>2004</td>\n",
       "    </tr>\n",
       "    <tr>\n",
       "      <th>3</th>\n",
       "      <td>1139251</td>\n",
       "      <td>38500.00</td>\n",
       "      <td>1026470</td>\n",
       "      <td>332</td>\n",
       "      <td>121</td>\n",
       "      <td>3.00</td>\n",
       "      <td>2001</td>\n",
       "      <td>3486.00</td>\n",
       "      <td>High</td>\n",
       "      <td>PC120-6E</td>\n",
       "      <td>...</td>\n",
       "      <td>NaN</td>\n",
       "      <td>NaN</td>\n",
       "      <td>NaN</td>\n",
       "      <td>NaN</td>\n",
       "      <td>NaN</td>\n",
       "      <td>NaN</td>\n",
       "      <td>NaN</td>\n",
       "      <td>19</td>\n",
       "      <td>5</td>\n",
       "      <td>2011</td>\n",
       "    </tr>\n",
       "    <tr>\n",
       "      <th>4</th>\n",
       "      <td>1139253</td>\n",
       "      <td>11000.00</td>\n",
       "      <td>1057373</td>\n",
       "      <td>17311</td>\n",
       "      <td>121</td>\n",
       "      <td>3.00</td>\n",
       "      <td>2007</td>\n",
       "      <td>722.00</td>\n",
       "      <td>Medium</td>\n",
       "      <td>S175</td>\n",
       "      <td>...</td>\n",
       "      <td>NaN</td>\n",
       "      <td>NaN</td>\n",
       "      <td>NaN</td>\n",
       "      <td>NaN</td>\n",
       "      <td>NaN</td>\n",
       "      <td>NaN</td>\n",
       "      <td>NaN</td>\n",
       "      <td>23</td>\n",
       "      <td>7</td>\n",
       "      <td>2009</td>\n",
       "    </tr>\n",
       "  </tbody>\n",
       "</table>\n",
       "<p>5 rows × 55 columns</p>\n",
       "</div>"
      ],
      "text/plain": [
       "   SalesID  SalePrice  MachineID  ModelID  datasource  auctioneerID  YearMade  \\\n",
       "0  1139246   66000.00     999089     3157         121          3.00      2004   \n",
       "1  1139248   57000.00     117657       77         121          3.00      1996   \n",
       "2  1139249   10000.00     434808     7009         121          3.00      2001   \n",
       "3  1139251   38500.00    1026470      332         121          3.00      2001   \n",
       "4  1139253   11000.00    1057373    17311         121          3.00      2007   \n",
       "\n",
       "   MachineHoursCurrentMeter UsageBand fiModelDesc  ... Pattern_Changer  \\\n",
       "0                     68.00       Low        521D  ...             NaN   \n",
       "1                   4640.00       Low      950FII  ...             NaN   \n",
       "2                   2838.00      High         226  ...             NaN   \n",
       "3                   3486.00      High    PC120-6E  ...             NaN   \n",
       "4                    722.00    Medium        S175  ...             NaN   \n",
       "\n",
       "  Grouser_Type Backhoe_Mounting Blade_Type Travel_Controls Differential_Type  \\\n",
       "0          NaN              NaN        NaN             NaN          Standard   \n",
       "1          NaN              NaN        NaN             NaN          Standard   \n",
       "2          NaN              NaN        NaN             NaN               NaN   \n",
       "3          NaN              NaN        NaN             NaN               NaN   \n",
       "4          NaN              NaN        NaN             NaN               NaN   \n",
       "\n",
       "  Steering_Controls SaleDay SaleMonth SaleYear  \n",
       "0      Conventional      16        11     2006  \n",
       "1      Conventional      26         3     2004  \n",
       "2               NaN      26         2     2004  \n",
       "3               NaN      19         5     2011  \n",
       "4               NaN      23         7     2009  \n",
       "\n",
       "[5 rows x 55 columns]"
      ]
     },
     "execution_count": 26,
     "metadata": {},
     "output_type": "execute_result"
    }
   ],
   "source": [
    "# Derive day, month, and year from sale dates\n",
    "df_copy['SaleDay'] = df_copy['saledate'].dt.day\n",
    "df_copy['SaleMonth'] = df_copy['saledate'].dt.month\n",
    "df_copy['SaleYear'] = df_copy['saledate'].dt.year\n",
    "\n",
    "# Remove sale date column\n",
    "df_copy = df_copy.drop(columns=['saledate'], axis=1)\n",
    "\n",
    "df_copy.head()"
   ]
  },
  {
   "cell_type": "code",
   "execution_count": 27,
   "id": "b0ec0514-f71b-407e-8224-d31066723d74",
   "metadata": {},
   "outputs": [
    {
     "data": {
      "text/html": [
       "<div>\n",
       "<style scoped>\n",
       "    .dataframe tbody tr th:only-of-type {\n",
       "        vertical-align: middle;\n",
       "    }\n",
       "\n",
       "    .dataframe tbody tr th {\n",
       "        vertical-align: top;\n",
       "    }\n",
       "\n",
       "    .dataframe thead th {\n",
       "        text-align: right;\n",
       "    }\n",
       "</style>\n",
       "<table border=\"1\" class=\"dataframe\">\n",
       "  <thead>\n",
       "    <tr style=\"text-align: right;\">\n",
       "      <th></th>\n",
       "      <th>SaleYear</th>\n",
       "      <th>SalesCount</th>\n",
       "      <th>AveragePrice</th>\n",
       "    </tr>\n",
       "  </thead>\n",
       "  <tbody>\n",
       "    <tr>\n",
       "      <th>0</th>\n",
       "      <td>1989</td>\n",
       "      <td>4.81</td>\n",
       "      <td>28.45</td>\n",
       "    </tr>\n",
       "    <tr>\n",
       "      <th>1</th>\n",
       "      <td>1990</td>\n",
       "      <td>4.53</td>\n",
       "      <td>30.88</td>\n",
       "    </tr>\n",
       "    <tr>\n",
       "      <th>2</th>\n",
       "      <td>1991</td>\n",
       "      <td>5.11</td>\n",
       "      <td>31.27</td>\n",
       "    </tr>\n",
       "    <tr>\n",
       "      <th>3</th>\n",
       "      <td>1992</td>\n",
       "      <td>5.52</td>\n",
       "      <td>28.57</td>\n",
       "    </tr>\n",
       "    <tr>\n",
       "      <th>4</th>\n",
       "      <td>1993</td>\n",
       "      <td>6.30</td>\n",
       "      <td>29.92</td>\n",
       "    </tr>\n",
       "    <tr>\n",
       "      <th>5</th>\n",
       "      <td>1994</td>\n",
       "      <td>7.93</td>\n",
       "      <td>31.09</td>\n",
       "    </tr>\n",
       "    <tr>\n",
       "      <th>6</th>\n",
       "      <td>1995</td>\n",
       "      <td>8.53</td>\n",
       "      <td>29.06</td>\n",
       "    </tr>\n",
       "    <tr>\n",
       "      <th>7</th>\n",
       "      <td>1996</td>\n",
       "      <td>8.83</td>\n",
       "      <td>30.59</td>\n",
       "    </tr>\n",
       "    <tr>\n",
       "      <th>8</th>\n",
       "      <td>1997</td>\n",
       "      <td>9.79</td>\n",
       "      <td>30.77</td>\n",
       "    </tr>\n",
       "    <tr>\n",
       "      <th>9</th>\n",
       "      <td>1998</td>\n",
       "      <td>13.05</td>\n",
       "      <td>31.58</td>\n",
       "    </tr>\n",
       "    <tr>\n",
       "      <th>10</th>\n",
       "      <td>1999</td>\n",
       "      <td>12.79</td>\n",
       "      <td>29.77</td>\n",
       "    </tr>\n",
       "    <tr>\n",
       "      <th>11</th>\n",
       "      <td>2000</td>\n",
       "      <td>17.41</td>\n",
       "      <td>30.05</td>\n",
       "    </tr>\n",
       "    <tr>\n",
       "      <th>12</th>\n",
       "      <td>2001</td>\n",
       "      <td>17.59</td>\n",
       "      <td>29.04</td>\n",
       "    </tr>\n",
       "    <tr>\n",
       "      <th>13</th>\n",
       "      <td>2002</td>\n",
       "      <td>17.25</td>\n",
       "      <td>28.36</td>\n",
       "    </tr>\n",
       "    <tr>\n",
       "      <th>14</th>\n",
       "      <td>2003</td>\n",
       "      <td>15.25</td>\n",
       "      <td>28.30</td>\n",
       "    </tr>\n",
       "    <tr>\n",
       "      <th>15</th>\n",
       "      <td>2004</td>\n",
       "      <td>19.88</td>\n",
       "      <td>29.70</td>\n",
       "    </tr>\n",
       "    <tr>\n",
       "      <th>16</th>\n",
       "      <td>2005</td>\n",
       "      <td>20.46</td>\n",
       "      <td>31.19</td>\n",
       "    </tr>\n",
       "    <tr>\n",
       "      <th>17</th>\n",
       "      <td>2006</td>\n",
       "      <td>21.68</td>\n",
       "      <td>33.43</td>\n",
       "    </tr>\n",
       "    <tr>\n",
       "      <th>18</th>\n",
       "      <td>2007</td>\n",
       "      <td>32.21</td>\n",
       "      <td>33.35</td>\n",
       "    </tr>\n",
       "    <tr>\n",
       "      <th>19</th>\n",
       "      <td>2008</td>\n",
       "      <td>39.77</td>\n",
       "      <td>33.14</td>\n",
       "    </tr>\n",
       "    <tr>\n",
       "      <th>20</th>\n",
       "      <td>2009</td>\n",
       "      <td>43.85</td>\n",
       "      <td>29.73</td>\n",
       "    </tr>\n",
       "    <tr>\n",
       "      <th>21</th>\n",
       "      <td>2010</td>\n",
       "      <td>33.39</td>\n",
       "      <td>31.04</td>\n",
       "    </tr>\n",
       "    <tr>\n",
       "      <th>22</th>\n",
       "      <td>2011</td>\n",
       "      <td>35.20</td>\n",
       "      <td>33.89</td>\n",
       "    </tr>\n",
       "    <tr>\n",
       "      <th>23</th>\n",
       "      <td>2012</td>\n",
       "      <td>11.57</td>\n",
       "      <td>35.22</td>\n",
       "    </tr>\n",
       "  </tbody>\n",
       "</table>\n",
       "</div>"
      ],
      "text/plain": [
       "    SaleYear  SalesCount  AveragePrice\n",
       "0       1989        4.81         28.45\n",
       "1       1990        4.53         30.88\n",
       "2       1991        5.11         31.27\n",
       "3       1992        5.52         28.57\n",
       "4       1993        6.30         29.92\n",
       "5       1994        7.93         31.09\n",
       "6       1995        8.53         29.06\n",
       "7       1996        8.83         30.59\n",
       "8       1997        9.79         30.77\n",
       "9       1998       13.05         31.58\n",
       "10      1999       12.79         29.77\n",
       "11      2000       17.41         30.05\n",
       "12      2001       17.59         29.04\n",
       "13      2002       17.25         28.36\n",
       "14      2003       15.25         28.30\n",
       "15      2004       19.88         29.70\n",
       "16      2005       20.46         31.19\n",
       "17      2006       21.68         33.43\n",
       "18      2007       32.21         33.35\n",
       "19      2008       39.77         33.14\n",
       "20      2009       43.85         29.73\n",
       "21      2010       33.39         31.04\n",
       "22      2011       35.20         33.89\n",
       "23      2012       11.57         35.22"
      ]
     },
     "execution_count": 27,
     "metadata": {},
     "output_type": "execute_result"
    }
   ],
   "source": [
    "# Check yearly sales counts and average sale prices\n",
    "yearly_sales = df_copy.groupby('SaleYear', as_index=False)['SalePrice'].agg(SalesCount='count', AveragePrice='mean')\n",
    "\n",
    "# Convert Sales Count and Average Sale Prices to thousands\n",
    "yearly_sales['SalesCount'] = yearly_sales['SalesCount'] / 1_000\n",
    "yearly_sales['AveragePrice'] = yearly_sales['AveragePrice'] / 1_000\n",
    "\n",
    "yearly_sales"
   ]
  },
  {
   "cell_type": "code",
   "execution_count": 28,
   "id": "0c9bbf1f-d162-46a8-b1eb-5378dd174e58",
   "metadata": {},
   "outputs": [
    {
     "data": {
      "image/png": "[encoded data removed]",
      "text/plain": [
       "<Figure size 1200x600 with 1 Axes>"
      ]
     },
     "metadata": {},
     "output_type": "display_data"
    }
   ],
   "source": [
    "# Visualize total sales count by year\n",
    "fig, ax = plt.subplots(figsize=(12, 6))\n",
    "\n",
    "sns.barplot(data=yearly_sales,\n",
    "             x=yearly_sales['SaleYear'], \n",
    "             y=yearly_sales['SalesCount'],\n",
    "             ax=ax);\n",
    "\n",
    "plt.xticks(rotation=45)\n",
    "\n",
    "ax.set_xlabel(None)\n",
    "ax.set_ylabel('Sales Count (in k.)')\n",
    "\n",
    "fig.suptitle('Total Sales Count by Year',\n",
    "             y=0.93,\n",
    "             fontsize=14,\n",
    "             fontweight='bold');"
   ]
  },
  {
   "cell_type": "markdown",
   "id": "22a07f6e-3a26-495c-8672-6f23b5bf4f5c",
   "metadata": {},
   "source": [
    "* The data shows a consistent and steady <b>increase in sales count</b> over time between 119891 and `2008`, reaching its highest peak in `2009` at `over 40,000` sales.\n",
    "* A noticeable <b>decline in sales</b> can be observed in `2010` before slightly jumping back up in `2011`."
   ]
  },
  {
   "cell_type": "code",
   "execution_count": 29,
   "id": "2709b8f2-e32d-4a27-94da-a8e304031b3f",
   "metadata": {},
   "outputs": [
    {
     "data": {
      "image/png": "[encoded data removed]",
      "text/plain": [
       "<Figure size 1200x600 with 1 Axes>"
      ]
     },
     "metadata": {},
     "output_type": "display_data"
    }
   ],
   "source": [
    "# Visualize average sale price by year\n",
    "fig, ax = plt.subplots(figsize=(12, 6))\n",
    "\n",
    "sns.lineplot(data=yearly_sales,\n",
    "             x=yearly_sales['SaleYear'], \n",
    "             y=yearly_sales['AveragePrice'],\n",
    "             color='b',\n",
    "             marker='o',\n",
    "             ax=ax)\n",
    "\n",
    "ax.set_xticks(list(range(yearly_sales['SaleYear'].min(), yearly_sales['SaleYear'].max()+1, 2)))\n",
    "\n",
    "ax.set_xticklabels(ax.get_xticklabels(), rotation=45)\n",
    "\n",
    "ax.set_xlabel(None)\n",
    "ax.set_ylabel('Avg. Sale Price (in k.)')\n",
    "\n",
    "ax.grid(linewidth=0.5)\n",
    "\n",
    "fig.suptitle('Average Sale Price per Year',\n",
    "             y=0.93,\n",
    "             fontsize=14,\n",
    "             fontweight='bold');"
   ]
  },
  {
   "cell_type": "markdown",
   "id": "a2920b97-6b7b-4637-9b0e-429a205725bc",
   "metadata": {},
   "source": [
    "* The data shows <b>considerable fluctuations</b> in average sale prices between `1989` and `2003` ranging from `28,000` to `32,000`.\n",
    "* There is a <b>steady increase</b> in average sale prices between `2003` and `2007`, with prices rising up to over `33,000`, followed by a <b>sharp decrease</b> in `2009` with average sale prices dipping `below 30,000`."
   ]
  },
  {
   "cell_type": "code",
   "execution_count": 30,
   "id": "f640dcb9-c5ee-4f7a-ba5f-e3a971df0f7f",
   "metadata": {},
   "outputs": [
    {
     "data": {
      "text/html": [
       "<div>\n",
       "<style scoped>\n",
       "    .dataframe tbody tr th:only-of-type {\n",
       "        vertical-align: middle;\n",
       "    }\n",
       "\n",
       "    .dataframe tbody tr th {\n",
       "        vertical-align: top;\n",
       "    }\n",
       "\n",
       "    .dataframe thead th {\n",
       "        text-align: right;\n",
       "    }\n",
       "</style>\n",
       "<table border=\"1\" class=\"dataframe\">\n",
       "  <thead>\n",
       "    <tr style=\"text-align: right;\">\n",
       "      <th></th>\n",
       "      <th>SaleMonth</th>\n",
       "      <th>SalesCount</th>\n",
       "      <th>AveragePrice</th>\n",
       "    </tr>\n",
       "  </thead>\n",
       "  <tbody>\n",
       "    <tr>\n",
       "      <th>0</th>\n",
       "      <td>1</td>\n",
       "      <td>11.18</td>\n",
       "      <td>33.60</td>\n",
       "    </tr>\n",
       "    <tr>\n",
       "      <th>1</th>\n",
       "      <td>2</td>\n",
       "      <td>56.32</td>\n",
       "      <td>33.27</td>\n",
       "    </tr>\n",
       "    <tr>\n",
       "      <th>2</th>\n",
       "      <td>3</td>\n",
       "      <td>59.35</td>\n",
       "      <td>31.44</td>\n",
       "    </tr>\n",
       "    <tr>\n",
       "      <th>3</th>\n",
       "      <td>4</td>\n",
       "      <td>30.46</td>\n",
       "      <td>30.83</td>\n",
       "    </tr>\n",
       "    <tr>\n",
       "      <th>4</th>\n",
       "      <td>5</td>\n",
       "      <td>31.99</td>\n",
       "      <td>31.52</td>\n",
       "    </tr>\n",
       "    <tr>\n",
       "      <th>5</th>\n",
       "      <td>6</td>\n",
       "      <td>47.05</td>\n",
       "      <td>30.58</td>\n",
       "    </tr>\n",
       "    <tr>\n",
       "      <th>6</th>\n",
       "      <td>7</td>\n",
       "      <td>15.48</td>\n",
       "      <td>30.61</td>\n",
       "    </tr>\n",
       "    <tr>\n",
       "      <th>7</th>\n",
       "      <td>8</td>\n",
       "      <td>22.54</td>\n",
       "      <td>30.57</td>\n",
       "    </tr>\n",
       "    <tr>\n",
       "      <th>8</th>\n",
       "      <td>9</td>\n",
       "      <td>43.21</td>\n",
       "      <td>30.02</td>\n",
       "    </tr>\n",
       "    <tr>\n",
       "      <th>9</th>\n",
       "      <td>10</td>\n",
       "      <td>29.53</td>\n",
       "      <td>31.11</td>\n",
       "    </tr>\n",
       "    <tr>\n",
       "      <th>10</th>\n",
       "      <td>11</td>\n",
       "      <td>25.82</td>\n",
       "      <td>30.97</td>\n",
       "    </tr>\n",
       "    <tr>\n",
       "      <th>11</th>\n",
       "      <td>12</td>\n",
       "      <td>39.78</td>\n",
       "      <td>30.23</td>\n",
       "    </tr>\n",
       "  </tbody>\n",
       "</table>\n",
       "</div>"
      ],
      "text/plain": [
       "    SaleMonth  SalesCount  AveragePrice\n",
       "0           1       11.18         33.60\n",
       "1           2       56.32         33.27\n",
       "2           3       59.35         31.44\n",
       "3           4       30.46         30.83\n",
       "4           5       31.99         31.52\n",
       "5           6       47.05         30.58\n",
       "6           7       15.48         30.61\n",
       "7           8       22.54         30.57\n",
       "8           9       43.21         30.02\n",
       "9          10       29.53         31.11\n",
       "10         11       25.82         30.97\n",
       "11         12       39.78         30.23"
      ]
     },
     "execution_count": 30,
     "metadata": {},
     "output_type": "execute_result"
    }
   ],
   "source": [
    "# Check monthly sales count and average sale prices\n",
    "monthly_sales = df_copy.groupby('SaleMonth', as_index=False)['SalePrice'].agg(SalesCount='count', AveragePrice='mean')\n",
    "\n",
    "monthly_sales['SalesCount'] = monthly_sales['SalesCount'] / 1_000\n",
    "monthly_sales['AveragePrice'] = monthly_sales['AveragePrice'] / 1_000\n",
    "\n",
    "monthly_sales"
   ]
  },
  {
   "cell_type": "code",
   "execution_count": 31,
   "id": "f9faa766-6140-47b8-8b34-80f661a4d395",
   "metadata": {},
   "outputs": [
    {
     "data": {
      "image/png": "[encoded data removed]",
      "text/plain": [
       "<Figure size 1200x600 with 1 Axes>"
      ]
     },
     "metadata": {},
     "output_type": "display_data"
    }
   ],
   "source": [
    "# Visualize total sales count by month\n",
    "fig, ax = plt.subplots(figsize=(12, 6))\n",
    "\n",
    "mon_dict = {1: 'Jan',\n",
    "            2: 'Feb',\n",
    "            3: 'Mar',\n",
    "            4: 'Apr',\n",
    "            5: 'Mai',\n",
    "            6: 'Jun',\n",
    "            7: 'Jul',\n",
    "            8: 'Aug',\n",
    "            9: 'Sep',\n",
    "            10: 'Oct',\n",
    "            11: 'Nov',\n",
    "            12: 'Dec'}\n",
    "\n",
    "sns.barplot(data=monthly_sales,\n",
    "             x=monthly_sales['SaleMonth'].map(mon_dict), \n",
    "             y=monthly_sales['SalesCount'],\n",
    "             ax=ax);\n",
    "\n",
    "ax.set_xlabel(None)\n",
    "ax.set_ylabel('Sales Count (in k.)')\n",
    "\n",
    "fig.suptitle('Total Sales Count per Month',\n",
    "             y=0.93,\n",
    "             fontsize=14,\n",
    "             fontweight='bold');"
   ]
  },
  {
   "cell_type": "markdown",
   "id": "d49eb952-40f3-4f84-97d9-a81d5d77ffa8",
   "metadata": {},
   "source": [
    "* The highest sales counts are observed in <b>February</b> and <b>March</b>, with both months showing close to or `above 50,000` sales.\n",
    "* <b>January</b> and <b>July</b> have the lowest sales counts, with the remaining months exhibiting moderate sales."
   ]
  },
  {
   "cell_type": "code",
   "execution_count": 32,
   "id": "c48ac084-1eb8-4051-8021-45a63ecb561b",
   "metadata": {},
   "outputs": [
    {
     "data": {
      "text/html": [
       "<div>\n",
       "<style scoped>\n",
       "    .dataframe tbody tr th:only-of-type {\n",
       "        vertical-align: middle;\n",
       "    }\n",
       "\n",
       "    .dataframe tbody tr th {\n",
       "        vertical-align: top;\n",
       "    }\n",
       "\n",
       "    .dataframe thead th {\n",
       "        text-align: right;\n",
       "    }\n",
       "</style>\n",
       "<table border=\"1\" class=\"dataframe\">\n",
       "  <thead>\n",
       "    <tr style=\"text-align: right;\">\n",
       "      <th></th>\n",
       "      <th>state</th>\n",
       "      <th>SalesCount</th>\n",
       "      <th>AveragePrice</th>\n",
       "    </tr>\n",
       "  </thead>\n",
       "  <tbody>\n",
       "    <tr>\n",
       "      <th>8</th>\n",
       "      <td>Florida</td>\n",
       "      <td>67.32</td>\n",
       "      <td>34.39</td>\n",
       "    </tr>\n",
       "    <tr>\n",
       "      <th>43</th>\n",
       "      <td>Texas</td>\n",
       "      <td>53.11</td>\n",
       "      <td>32.98</td>\n",
       "    </tr>\n",
       "    <tr>\n",
       "      <th>4</th>\n",
       "      <td>California</td>\n",
       "      <td>29.76</td>\n",
       "      <td>29.82</td>\n",
       "    </tr>\n",
       "    <tr>\n",
       "      <th>48</th>\n",
       "      <td>Washington</td>\n",
       "      <td>16.22</td>\n",
       "      <td>27.69</td>\n",
       "    </tr>\n",
       "    <tr>\n",
       "      <th>9</th>\n",
       "      <td>Georgia</td>\n",
       "      <td>14.63</td>\n",
       "      <td>32.27</td>\n",
       "    </tr>\n",
       "    <tr>\n",
       "      <th>19</th>\n",
       "      <td>Maryland</td>\n",
       "      <td>13.32</td>\n",
       "      <td>28.62</td>\n",
       "    </tr>\n",
       "    <tr>\n",
       "      <th>23</th>\n",
       "      <td>Mississippi</td>\n",
       "      <td>13.24</td>\n",
       "      <td>32.57</td>\n",
       "    </tr>\n",
       "    <tr>\n",
       "      <th>34</th>\n",
       "      <td>Ohio</td>\n",
       "      <td>12.37</td>\n",
       "      <td>28.23</td>\n",
       "    </tr>\n",
       "    <tr>\n",
       "      <th>12</th>\n",
       "      <td>Illinois</td>\n",
       "      <td>11.54</td>\n",
       "      <td>29.09</td>\n",
       "    </tr>\n",
       "    <tr>\n",
       "      <th>5</th>\n",
       "      <td>Colorado</td>\n",
       "      <td>11.53</td>\n",
       "      <td>31.78</td>\n",
       "    </tr>\n",
       "  </tbody>\n",
       "</table>\n",
       "</div>"
      ],
      "text/plain": [
       "          state  SalesCount  AveragePrice\n",
       "8       Florida       67.32         34.39\n",
       "43        Texas       53.11         32.98\n",
       "4    California       29.76         29.82\n",
       "48   Washington       16.22         27.69\n",
       "9       Georgia       14.63         32.27\n",
       "19     Maryland       13.32         28.62\n",
       "23  Mississippi       13.24         32.57\n",
       "34         Ohio       12.37         28.23\n",
       "12     Illinois       11.54         29.09\n",
       "5      Colorado       11.53         31.78"
      ]
     },
     "execution_count": 32,
     "metadata": {},
     "output_type": "execute_result"
    }
   ],
   "source": [
    "# Check sales count and average sale prices by state\n",
    "states_sales = df_copy.groupby('state',\n",
    "                               as_index=False)['SalePrice'].agg(SalesCount='count',\n",
    "                                                                AveragePrice='mean').sort_values(by='SalesCount',\n",
    "                                                                                                 ascending=False)\n",
    "states_sales['SalesCount'] = states_sales['SalesCount'] / 1_000\n",
    "states_sales['AveragePrice'] = states_sales['AveragePrice'] / 1_000\n",
    "\n",
    "states_sales[:10]"
   ]
  },
  {
   "cell_type": "code",
   "execution_count": 33,
   "id": "89bc0911-95d8-4c33-b3de-e3d2dc349498",
   "metadata": {},
   "outputs": [
    {
     "data": {
      "image/png": "[encoded data removed]",
      "text/plain": [
       "<Figure size 1200x600 with 1 Axes>"
      ]
     },
     "metadata": {},
     "output_type": "display_data"
    }
   ],
   "source": [
    "# Visualize sales count and average sale prices by state\n",
    "fig, ax = plt.subplots(figsize=(12, 6))\n",
    "\n",
    "top_10 = states_sales.head(10)\n",
    "\n",
    "sns.barplot(data=top_10,\n",
    "             x=top_10['state'], \n",
    "             y=top_10['SalesCount'],\n",
    "             ax=ax);\n",
    "\n",
    "plt.xticks(rotation=45)\n",
    "\n",
    "ax.set_xlabel(None)\n",
    "ax.set_ylabel('Sales Count (in k.)')\n",
    "\n",
    "fig.suptitle('Total Sales Count by States',\n",
    "             y=0.93,\n",
    "             fontsize=14,\n",
    "             fontweight='bold');"
   ]
  },
  {
   "cell_type": "markdown",
   "id": "3dc78635-b7cc-4fab-bde4-d35e1a529ce8",
   "metadata": {},
   "source": [
    "* <b>Florida</b> has the highest sales count `exceeding 60,000`, followed by <b>Texas</b> with `over 50,000` and lastly <b>California</b> with `almost 30,000` total sales.\n",
    "* The <b>remaning states</b> all have proportionately sales count `below 20,000`."
   ]
  },
  {
   "cell_type": "markdown",
   "id": "efce597c-f3a6-415a-ab57-f9c0b6ea6f45",
   "metadata": {},
   "source": [
    "<br>"
   ]
  },
  {
   "cell_type": "markdown",
   "id": "c2f3165e-4f46-487b-b286-87b21d3e79a5",
   "metadata": {},
   "source": [
    "## 5. Data Preparation & Preprocessing"
   ]
  },
  {
   "cell_type": "markdown",
   "id": "4bb59a74-4b36-4da3-afe5-d62d02f06451",
   "metadata": {},
   "source": [
    "> #### 5.1 Categorical Encoding"
   ]
  },
  {
   "cell_type": "code",
   "execution_count": 34,
   "id": "499c7c8b-9ca3-4d44-ae68-1a649c28feea",
   "metadata": {},
   "outputs": [
    {
     "data": {
      "text/plain": [
       "Index(['UsageBand', 'fiModelDesc', 'fiBaseModel', 'fiSecondaryDesc',\n",
       "       'fiModelSeries', 'fiModelDescriptor', 'ProductSize',\n",
       "       'fiProductClassDesc', 'state', 'ProductGroup', 'ProductGroupDesc',\n",
       "       'Drive_System', 'Enclosure', 'Forks', 'Pad_Type', 'Ride_Control',\n",
       "       'Stick', 'Transmission', 'Turbocharged', 'Blade_Extension',\n",
       "       'Blade_Width', 'Enclosure_Type', 'Engine_Horsepower', 'Hydraulics',\n",
       "       'Pushblock', 'Ripper', 'Scarifier', 'Tip_Control', 'Tire_Size',\n",
       "       'Coupler', 'Coupler_System', 'Grouser_Tracks', 'Hydraulics_Flow',\n",
       "       'Track_Type', 'Undercarriage_Pad_Width', 'Stick_Length', 'Thumb',\n",
       "       'Pattern_Changer', 'Grouser_Type', 'Backhoe_Mounting', 'Blade_Type',\n",
       "       'Travel_Controls', 'Differential_Type', 'Steering_Controls'],\n",
       "      dtype='object')"
      ]
     },
     "execution_count": 34,
     "metadata": {},
     "output_type": "execute_result"
    }
   ],
   "source": [
    "# Select object-type features for categorical encoding (categories are numerically encoded)\n",
    "obj_cols = df_copy.select_dtypes(include=[object]).columns\n",
    "\n",
    "obj_cols"
   ]
  },
  {
   "cell_type": "code",
   "execution_count": 35,
   "id": "0768b999-605b-4718-bad1-636eb0031afb",
   "metadata": {
    "scrolled": true
   },
   "outputs": [
    {
     "name": "stdout",
     "output_type": "stream",
     "text": [
      "<class 'pandas.core.frame.DataFrame'>\n",
      "RangeIndex: 412698 entries, 0 to 412697\n",
      "Data columns (total 55 columns):\n",
      " #   Column                    Non-Null Count   Dtype   \n",
      "---  ------                    --------------   -----   \n",
      " 0   SalesID                   412698 non-null  int64   \n",
      " 1   SalePrice                 412698 non-null  float64 \n",
      " 2   MachineID                 412698 non-null  int64   \n",
      " 3   ModelID                   412698 non-null  int64   \n",
      " 4   datasource                412698 non-null  int64   \n",
      " 5   auctioneerID              392562 non-null  float64 \n",
      " 6   YearMade                  412698 non-null  int64   \n",
      " 7   MachineHoursCurrentMeter  147504 non-null  float64 \n",
      " 8   UsageBand                 73670 non-null   category\n",
      " 9   fiModelDesc               412698 non-null  category\n",
      " 10  fiBaseModel               412698 non-null  category\n",
      " 11  fiSecondaryDesc           271971 non-null  category\n",
      " 12  fiModelSeries             58667 non-null   category\n",
      " 13  fiModelDescriptor         74816 non-null   category\n",
      " 14  ProductSize               196093 non-null  category\n",
      " 15  fiProductClassDesc        412698 non-null  category\n",
      " 16  state                     412698 non-null  category\n",
      " 17  ProductGroup              412698 non-null  category\n",
      " 18  ProductGroupDesc          412698 non-null  category\n",
      " 19  Drive_System              107087 non-null  category\n",
      " 20  Enclosure                 412698 non-null  category\n",
      " 21  Forks                     197715 non-null  category\n",
      " 22  Pad_Type                  81096 non-null   category\n",
      " 23  Ride_Control              152728 non-null  category\n",
      " 24  Stick                     81096 non-null   category\n",
      " 25  Transmission              188007 non-null  category\n",
      " 26  Turbocharged              81096 non-null   category\n",
      " 27  Blade_Extension           25983 non-null   category\n",
      " 28  Blade_Width               25983 non-null   category\n",
      " 29  Enclosure_Type            25983 non-null   category\n",
      " 30  Engine_Horsepower         25983 non-null   category\n",
      " 31  Hydraulics                330133 non-null  category\n",
      " 32  Pushblock                 25983 non-null   category\n",
      " 33  Ripper                    106945 non-null  category\n",
      " 34  Scarifier                 25994 non-null   category\n",
      " 35  Tip_Control               25983 non-null   category\n",
      " 36  Tire_Size                 97638 non-null   category\n",
      " 37  Coupler                   220679 non-null  category\n",
      " 38  Coupler_System            44974 non-null   category\n",
      " 39  Grouser_Tracks            44875 non-null   category\n",
      " 40  Hydraulics_Flow           44875 non-null   category\n",
      " 41  Track_Type                102193 non-null  category\n",
      " 42  Undercarriage_Pad_Width   102916 non-null  category\n",
      " 43  Stick_Length              102261 non-null  category\n",
      " 44  Thumb                     102332 non-null  category\n",
      " 45  Pattern_Changer           102261 non-null  category\n",
      " 46  Grouser_Type              102193 non-null  category\n",
      " 47  Backhoe_Mounting          80712 non-null   category\n",
      " 48  Blade_Type                81875 non-null   category\n",
      " 49  Travel_Controls           81877 non-null   category\n",
      " 50  Differential_Type         71564 non-null   category\n",
      " 51  Steering_Controls         71522 non-null   category\n",
      " 52  SaleDay                   412698 non-null  int32   \n",
      " 53  SaleMonth                 412698 non-null  int32   \n",
      " 54  SaleYear                  412698 non-null  int32   \n",
      "dtypes: category(44), float64(3), int32(3), int64(5)\n",
      "memory usage: 49.5 MB\n"
     ]
    }
   ],
   "source": [
    "# Casting object-type features to category\n",
    "df_copy[obj_cols] = df_copy[obj_cols].astype('category')\n",
    "\n",
    "df_copy.info()"
   ]
  },
  {
   "cell_type": "markdown",
   "id": "43c4dea2-a1cc-44c5-bc75-6032226d244c",
   "metadata": {},
   "source": [
    "> #### 5.2 Handling Missing Values"
   ]
  },
  {
   "cell_type": "markdown",
   "id": "25c44167-9b5f-4910-92c7-828342e74636",
   "metadata": {},
   "source": [
    ">> <b>5.2.1 Filling Numerical Nulls</b>"
   ]
  },
  {
   "cell_type": "code",
   "execution_count": 36,
   "id": "51d748f9-7df5-4af3-9b02-f2203bcd0aa4",
   "metadata": {},
   "outputs": [
    {
     "data": {
      "text/plain": [
       "Index(['SalesID', 'SalePrice', 'MachineID', 'ModelID', 'datasource',\n",
       "       'auctioneerID', 'YearMade', 'MachineHoursCurrentMeter', 'SaleDay',\n",
       "       'SaleMonth', 'SaleYear'],\n",
       "      dtype='object')"
      ]
     },
     "execution_count": 36,
     "metadata": {},
     "output_type": "execute_result"
    }
   ],
   "source": [
    "num_cols = df_copy.select_dtypes(include=['int', 'float']).columns\n",
    "\n",
    "num_cols"
   ]
  },
  {
   "cell_type": "code",
   "execution_count": 37,
   "id": "a314c595-4dd8-40e4-be96-072072b11616",
   "metadata": {},
   "outputs": [
    {
     "data": {
      "text/plain": [
       "SalesID                     0.00\n",
       "SalePrice                   0.00\n",
       "MachineID                   0.00\n",
       "ModelID                     0.00\n",
       "datasource                  0.00\n",
       "auctioneerID                4.88\n",
       "YearMade                    0.00\n",
       "MachineHoursCurrentMeter   64.26\n",
       "SaleDay                     0.00\n",
       "SaleMonth                   0.00\n",
       "SaleYear                    0.00\n",
       "dtype: float64"
      ]
     },
     "execution_count": 37,
     "metadata": {},
     "output_type": "execute_result"
    }
   ],
   "source": [
    "# Check nulls percentages\n",
    "df_copy[num_cols].isna().sum() / df_copy.shape[0] * 100"
   ]
  },
  {
   "cell_type": "markdown",
   "id": "d8d846a2-a2f3-4b83-88a4-31d666e03db6",
   "metadata": {},
   "source": [
    "<b>auctioneerID</b> has less than `5%` missing values, while <b>MachineHoursCurrentMeter</b> has `over 60%`."
   ]
  },
  {
   "cell_type": "code",
   "execution_count": 38,
   "id": "808c6ab8-17fc-4bab-b202-5216d6904294",
   "metadata": {},
   "outputs": [
    {
     "data": {
      "image/png": "[encoded data removed]",
      "text/plain": [
       "<Figure size 1200x500 with 2 Axes>"
      ]
     },
     "metadata": {},
     "output_type": "display_data"
    }
   ],
   "source": [
    "# Check distribution of auctioneerID and MachineHoursCurrentMeter columns\n",
    "fig, (ax1, ax2) = plt.subplots(nrows=1,\n",
    "                               ncols=2,\n",
    "                               figsize=(12, 5))\n",
    "\n",
    "ax1.hist(df_copy['auctioneerID'])\n",
    "\n",
    "ax1.set_title('auctioneerID',\n",
    "              loc='left',\n",
    "              fontweight='bold')\n",
    "\n",
    "ax2.hist(df_copy['MachineHoursCurrentMeter'])\n",
    "\n",
    "ax2.set_title('MachineHoursCurrentMeter',\n",
    "              loc='left',\n",
    "              fontweight='bold');"
   ]
  },
  {
   "cell_type": "markdown",
   "id": "2dbf3cd5-2ecb-4b7f-a0d9-08a5e43dd7ec",
   "metadata": {},
   "source": [
    "Both graphs show <b>right-skewed distrbutioned</b> data, so impute missing values with the <b>median</b>."
   ]
  },
  {
   "cell_type": "code",
   "execution_count": 39,
   "id": "e46b3a16-cc58-4667-998c-b96e43c8b8bf",
   "metadata": {},
   "outputs": [
    {
     "data": {
      "text/plain": [
       "SalesID                     0\n",
       "SalePrice                   0\n",
       "MachineID                   0\n",
       "ModelID                     0\n",
       "datasource                  0\n",
       "auctioneerID                0\n",
       "YearMade                    0\n",
       "MachineHoursCurrentMeter    0\n",
       "SaleDay                     0\n",
       "SaleMonth                   0\n",
       "SaleYear                    0\n",
       "dtype: int64"
      ]
     },
     "execution_count": 39,
     "metadata": {},
     "output_type": "execute_result"
    }
   ],
   "source": [
    "for col in df_copy.columns:\n",
    "    if pd.api.types.is_numeric_dtype(df_copy[col]):\n",
    "        if df_copy[col].isna().sum():\n",
    "            df_copy[col + '_is_missing'] = df_copy[col].isna() # add a column (True/False) to keep track of imputed missing values\n",
    "            df_copy[col] = df_copy[col].fillna(df_copy[col].median()) # fill missing values with median\n",
    "\n",
    "df_copy[num_cols].isna().sum()"
   ]
  },
  {
   "cell_type": "markdown",
   "id": "00c55146-b8cd-4334-a9df-61f2d80693e9",
   "metadata": {},
   "source": [
    ">> <b> 5.2.2 Fill Categorical Nulls </b>"
   ]
  },
  {
   "cell_type": "code",
   "execution_count": 40,
   "id": "fd7f03ab-b104-49b5-8ac4-2baa11493d88",
   "metadata": {
    "scrolled": true
   },
   "outputs": [
    {
     "data": {
      "text/plain": [
       "UsageBand                 82.15\n",
       "fiModelDesc                0.00\n",
       "fiBaseModel                0.00\n",
       "fiSecondaryDesc           34.10\n",
       "fiModelSeries             85.78\n",
       "fiModelDescriptor         81.87\n",
       "ProductSize               52.49\n",
       "fiProductClassDesc         0.00\n",
       "state                      0.00\n",
       "ProductGroup               0.00\n",
       "ProductGroupDesc           0.00\n",
       "Drive_System              74.05\n",
       "Enclosure                  0.00\n",
       "Forks                     52.09\n",
       "Pad_Type                  80.35\n",
       "Ride_Control              62.99\n",
       "Stick                     80.35\n",
       "Transmission              54.44\n",
       "Turbocharged              80.35\n",
       "Blade_Extension           93.70\n",
       "Blade_Width               93.70\n",
       "Enclosure_Type            93.70\n",
       "Engine_Horsepower         93.70\n",
       "Hydraulics                20.01\n",
       "Pushblock                 93.70\n",
       "Ripper                    74.09\n",
       "Scarifier                 93.70\n",
       "Tip_Control               93.70\n",
       "Tire_Size                 76.34\n",
       "Coupler                   46.53\n",
       "Coupler_System            89.10\n",
       "Grouser_Tracks            89.13\n",
       "Hydraulics_Flow           89.13\n",
       "Track_Type                75.24\n",
       "Undercarriage_Pad_Width   75.06\n",
       "Stick_Length              75.22\n",
       "Thumb                     75.20\n",
       "Pattern_Changer           75.22\n",
       "Grouser_Type              75.24\n",
       "Backhoe_Mounting          80.44\n",
       "Blade_Type                80.16\n",
       "Travel_Controls           80.16\n",
       "Differential_Type         82.66\n",
       "Steering_Controls         82.67\n",
       "dtype: float64"
      ]
     },
     "execution_count": 40,
     "metadata": {},
     "output_type": "execute_result"
    }
   ],
   "source": [
    "cat_cols = df_copy.select_dtypes(include=['category']).columns\n",
    "\n",
    "# Check null percentages\n",
    "df_copy[cat_cols].isna().sum() / df_copy.shape[0] * 100"
   ]
  },
  {
   "cell_type": "markdown",
   "id": "edbccdb7-f242-4c7a-9f33-9cd9afa67f0e",
   "metadata": {},
   "source": [
    "For categorical variables, we'll fill missing values with their <b>code</b> attributes.\n",
    "\n",
    "It is important to note that missing categorical values have a `-1` code."
   ]
  },
  {
   "cell_type": "code",
   "execution_count": 41,
   "id": "c56d19d4-74eb-453f-ad4f-46d271c730c6",
   "metadata": {},
   "outputs": [
    {
     "data": {
      "text/plain": [
       "2   -1\n",
       "3   -1\n",
       "4   -1\n",
       "5   -1\n",
       "6   -1\n",
       "dtype: int8"
      ]
     },
     "execution_count": 41,
     "metadata": {},
     "output_type": "execute_result"
    }
   ],
   "source": [
    "# Example\n",
    "df_copy['Steering_Controls'][df_copy['Steering_Controls'].isna()][:5].cat.codes"
   ]
  },
  {
   "cell_type": "code",
   "execution_count": 42,
   "id": "5559f2dd-f869-4b82-8c69-d42d57ddf3bf",
   "metadata": {},
   "outputs": [
    {
     "name": "stderr",
     "output_type": "stream",
     "text": [
      "C:\\Users\\t_aym\\AppData\\Local\\Temp\\ipykernel_6560\\4046602072.py:3: DeprecationWarning: is_categorical_dtype is deprecated and will be removed in a future version. Use isinstance(dtype, pd.CategoricalDtype) instead\n",
      "  if pd.api.types.is_categorical_dtype(df_copy[col]):\n",
      "C:\\Users\\t_aym\\AppData\\Local\\Temp\\ipykernel_6560\\4046602072.py:3: DeprecationWarning: is_categorical_dtype is deprecated and will be removed in a future version. Use isinstance(dtype, pd.CategoricalDtype) instead\n",
      "  if pd.api.types.is_categorical_dtype(df_copy[col]):\n",
      "C:\\Users\\t_aym\\AppData\\Local\\Temp\\ipykernel_6560\\4046602072.py:3: DeprecationWarning: is_categorical_dtype is deprecated and will be removed in a future version. Use isinstance(dtype, pd.CategoricalDtype) instead\n",
      "  if pd.api.types.is_categorical_dtype(df_copy[col]):\n",
      "C:\\Users\\t_aym\\AppData\\Local\\Temp\\ipykernel_6560\\4046602072.py:3: DeprecationWarning: is_categorical_dtype is deprecated and will be removed in a future version. Use isinstance(dtype, pd.CategoricalDtype) instead\n",
      "  if pd.api.types.is_categorical_dtype(df_copy[col]):\n",
      "C:\\Users\\t_aym\\AppData\\Local\\Temp\\ipykernel_6560\\4046602072.py:3: DeprecationWarning: is_categorical_dtype is deprecated and will be removed in a future version. Use isinstance(dtype, pd.CategoricalDtype) instead\n",
      "  if pd.api.types.is_categorical_dtype(df_copy[col]):\n",
      "C:\\Users\\t_aym\\AppData\\Local\\Temp\\ipykernel_6560\\4046602072.py:3: DeprecationWarning: is_categorical_dtype is deprecated and will be removed in a future version. Use isinstance(dtype, pd.CategoricalDtype) instead\n",
      "  if pd.api.types.is_categorical_dtype(df_copy[col]):\n",
      "C:\\Users\\t_aym\\AppData\\Local\\Temp\\ipykernel_6560\\4046602072.py:3: DeprecationWarning: is_categorical_dtype is deprecated and will be removed in a future version. Use isinstance(dtype, pd.CategoricalDtype) instead\n",
      "  if pd.api.types.is_categorical_dtype(df_copy[col]):\n",
      "C:\\Users\\t_aym\\AppData\\Local\\Temp\\ipykernel_6560\\4046602072.py:3: DeprecationWarning: is_categorical_dtype is deprecated and will be removed in a future version. Use isinstance(dtype, pd.CategoricalDtype) instead\n",
      "  if pd.api.types.is_categorical_dtype(df_copy[col]):\n",
      "C:\\Users\\t_aym\\AppData\\Local\\Temp\\ipykernel_6560\\4046602072.py:3: DeprecationWarning: is_categorical_dtype is deprecated and will be removed in a future version. Use isinstance(dtype, pd.CategoricalDtype) instead\n",
      "  if pd.api.types.is_categorical_dtype(df_copy[col]):\n",
      "C:\\Users\\t_aym\\AppData\\Local\\Temp\\ipykernel_6560\\4046602072.py:3: DeprecationWarning: is_categorical_dtype is deprecated and will be removed in a future version. Use isinstance(dtype, pd.CategoricalDtype) instead\n",
      "  if pd.api.types.is_categorical_dtype(df_copy[col]):\n",
      "C:\\Users\\t_aym\\AppData\\Local\\Temp\\ipykernel_6560\\4046602072.py:3: DeprecationWarning: is_categorical_dtype is deprecated and will be removed in a future version. Use isinstance(dtype, pd.CategoricalDtype) instead\n",
      "  if pd.api.types.is_categorical_dtype(df_copy[col]):\n",
      "C:\\Users\\t_aym\\AppData\\Local\\Temp\\ipykernel_6560\\4046602072.py:3: DeprecationWarning: is_categorical_dtype is deprecated and will be removed in a future version. Use isinstance(dtype, pd.CategoricalDtype) instead\n",
      "  if pd.api.types.is_categorical_dtype(df_copy[col]):\n",
      "C:\\Users\\t_aym\\AppData\\Local\\Temp\\ipykernel_6560\\4046602072.py:3: DeprecationWarning: is_categorical_dtype is deprecated and will be removed in a future version. Use isinstance(dtype, pd.CategoricalDtype) instead\n",
      "  if pd.api.types.is_categorical_dtype(df_copy[col]):\n",
      "C:\\Users\\t_aym\\AppData\\Local\\Temp\\ipykernel_6560\\4046602072.py:3: DeprecationWarning: is_categorical_dtype is deprecated and will be removed in a future version. Use isinstance(dtype, pd.CategoricalDtype) instead\n",
      "  if pd.api.types.is_categorical_dtype(df_copy[col]):\n",
      "C:\\Users\\t_aym\\AppData\\Local\\Temp\\ipykernel_6560\\4046602072.py:3: DeprecationWarning: is_categorical_dtype is deprecated and will be removed in a future version. Use isinstance(dtype, pd.CategoricalDtype) instead\n",
      "  if pd.api.types.is_categorical_dtype(df_copy[col]):\n",
      "C:\\Users\\t_aym\\AppData\\Local\\Temp\\ipykernel_6560\\4046602072.py:3: DeprecationWarning: is_categorical_dtype is deprecated and will be removed in a future version. Use isinstance(dtype, pd.CategoricalDtype) instead\n",
      "  if pd.api.types.is_categorical_dtype(df_copy[col]):\n",
      "C:\\Users\\t_aym\\AppData\\Local\\Temp\\ipykernel_6560\\4046602072.py:3: DeprecationWarning: is_categorical_dtype is deprecated and will be removed in a future version. Use isinstance(dtype, pd.CategoricalDtype) instead\n",
      "  if pd.api.types.is_categorical_dtype(df_copy[col]):\n",
      "C:\\Users\\t_aym\\AppData\\Local\\Temp\\ipykernel_6560\\4046602072.py:3: DeprecationWarning: is_categorical_dtype is deprecated and will be removed in a future version. Use isinstance(dtype, pd.CategoricalDtype) instead\n",
      "  if pd.api.types.is_categorical_dtype(df_copy[col]):\n",
      "C:\\Users\\t_aym\\AppData\\Local\\Temp\\ipykernel_6560\\4046602072.py:3: DeprecationWarning: is_categorical_dtype is deprecated and will be removed in a future version. Use isinstance(dtype, pd.CategoricalDtype) instead\n",
      "  if pd.api.types.is_categorical_dtype(df_copy[col]):\n",
      "C:\\Users\\t_aym\\AppData\\Local\\Temp\\ipykernel_6560\\4046602072.py:3: DeprecationWarning: is_categorical_dtype is deprecated and will be removed in a future version. Use isinstance(dtype, pd.CategoricalDtype) instead\n",
      "  if pd.api.types.is_categorical_dtype(df_copy[col]):\n",
      "C:\\Users\\t_aym\\AppData\\Local\\Temp\\ipykernel_6560\\4046602072.py:3: DeprecationWarning: is_categorical_dtype is deprecated and will be removed in a future version. Use isinstance(dtype, pd.CategoricalDtype) instead\n",
      "  if pd.api.types.is_categorical_dtype(df_copy[col]):\n",
      "C:\\Users\\t_aym\\AppData\\Local\\Temp\\ipykernel_6560\\4046602072.py:3: DeprecationWarning: is_categorical_dtype is deprecated and will be removed in a future version. Use isinstance(dtype, pd.CategoricalDtype) instead\n",
      "  if pd.api.types.is_categorical_dtype(df_copy[col]):\n",
      "C:\\Users\\t_aym\\AppData\\Local\\Temp\\ipykernel_6560\\4046602072.py:3: DeprecationWarning: is_categorical_dtype is deprecated and will be removed in a future version. Use isinstance(dtype, pd.CategoricalDtype) instead\n",
      "  if pd.api.types.is_categorical_dtype(df_copy[col]):\n",
      "C:\\Users\\t_aym\\AppData\\Local\\Temp\\ipykernel_6560\\4046602072.py:3: DeprecationWarning: is_categorical_dtype is deprecated and will be removed in a future version. Use isinstance(dtype, pd.CategoricalDtype) instead\n",
      "  if pd.api.types.is_categorical_dtype(df_copy[col]):\n",
      "C:\\Users\\t_aym\\AppData\\Local\\Temp\\ipykernel_6560\\4046602072.py:3: DeprecationWarning: is_categorical_dtype is deprecated and will be removed in a future version. Use isinstance(dtype, pd.CategoricalDtype) instead\n",
      "  if pd.api.types.is_categorical_dtype(df_copy[col]):\n",
      "C:\\Users\\t_aym\\AppData\\Local\\Temp\\ipykernel_6560\\4046602072.py:3: DeprecationWarning: is_categorical_dtype is deprecated and will be removed in a future version. Use isinstance(dtype, pd.CategoricalDtype) instead\n",
      "  if pd.api.types.is_categorical_dtype(df_copy[col]):\n",
      "C:\\Users\\t_aym\\AppData\\Local\\Temp\\ipykernel_6560\\4046602072.py:3: DeprecationWarning: is_categorical_dtype is deprecated and will be removed in a future version. Use isinstance(dtype, pd.CategoricalDtype) instead\n",
      "  if pd.api.types.is_categorical_dtype(df_copy[col]):\n",
      "C:\\Users\\t_aym\\AppData\\Local\\Temp\\ipykernel_6560\\4046602072.py:3: DeprecationWarning: is_categorical_dtype is deprecated and will be removed in a future version. Use isinstance(dtype, pd.CategoricalDtype) instead\n",
      "  if pd.api.types.is_categorical_dtype(df_copy[col]):\n",
      "C:\\Users\\t_aym\\AppData\\Local\\Temp\\ipykernel_6560\\4046602072.py:3: DeprecationWarning: is_categorical_dtype is deprecated and will be removed in a future version. Use isinstance(dtype, pd.CategoricalDtype) instead\n",
      "  if pd.api.types.is_categorical_dtype(df_copy[col]):\n",
      "C:\\Users\\t_aym\\AppData\\Local\\Temp\\ipykernel_6560\\4046602072.py:3: DeprecationWarning: is_categorical_dtype is deprecated and will be removed in a future version. Use isinstance(dtype, pd.CategoricalDtype) instead\n",
      "  if pd.api.types.is_categorical_dtype(df_copy[col]):\n",
      "C:\\Users\\t_aym\\AppData\\Local\\Temp\\ipykernel_6560\\4046602072.py:3: DeprecationWarning: is_categorical_dtype is deprecated and will be removed in a future version. Use isinstance(dtype, pd.CategoricalDtype) instead\n",
      "  if pd.api.types.is_categorical_dtype(df_copy[col]):\n",
      "C:\\Users\\t_aym\\AppData\\Local\\Temp\\ipykernel_6560\\4046602072.py:3: DeprecationWarning: is_categorical_dtype is deprecated and will be removed in a future version. Use isinstance(dtype, pd.CategoricalDtype) instead\n",
      "  if pd.api.types.is_categorical_dtype(df_copy[col]):\n",
      "C:\\Users\\t_aym\\AppData\\Local\\Temp\\ipykernel_6560\\4046602072.py:3: DeprecationWarning: is_categorical_dtype is deprecated and will be removed in a future version. Use isinstance(dtype, pd.CategoricalDtype) instead\n",
      "  if pd.api.types.is_categorical_dtype(df_copy[col]):\n",
      "C:\\Users\\t_aym\\AppData\\Local\\Temp\\ipykernel_6560\\4046602072.py:3: DeprecationWarning: is_categorical_dtype is deprecated and will be removed in a future version. Use isinstance(dtype, pd.CategoricalDtype) instead\n",
      "  if pd.api.types.is_categorical_dtype(df_copy[col]):\n",
      "C:\\Users\\t_aym\\AppData\\Local\\Temp\\ipykernel_6560\\4046602072.py:3: DeprecationWarning: is_categorical_dtype is deprecated and will be removed in a future version. Use isinstance(dtype, pd.CategoricalDtype) instead\n",
      "  if pd.api.types.is_categorical_dtype(df_copy[col]):\n",
      "C:\\Users\\t_aym\\AppData\\Local\\Temp\\ipykernel_6560\\4046602072.py:3: DeprecationWarning: is_categorical_dtype is deprecated and will be removed in a future version. Use isinstance(dtype, pd.CategoricalDtype) instead\n",
      "  if pd.api.types.is_categorical_dtype(df_copy[col]):\n",
      "C:\\Users\\t_aym\\AppData\\Local\\Temp\\ipykernel_6560\\4046602072.py:3: DeprecationWarning: is_categorical_dtype is deprecated and will be removed in a future version. Use isinstance(dtype, pd.CategoricalDtype) instead\n",
      "  if pd.api.types.is_categorical_dtype(df_copy[col]):\n",
      "C:\\Users\\t_aym\\AppData\\Local\\Temp\\ipykernel_6560\\4046602072.py:3: DeprecationWarning: is_categorical_dtype is deprecated and will be removed in a future version. Use isinstance(dtype, pd.CategoricalDtype) instead\n",
      "  if pd.api.types.is_categorical_dtype(df_copy[col]):\n",
      "C:\\Users\\t_aym\\AppData\\Local\\Temp\\ipykernel_6560\\4046602072.py:3: DeprecationWarning: is_categorical_dtype is deprecated and will be removed in a future version. Use isinstance(dtype, pd.CategoricalDtype) instead\n",
      "  if pd.api.types.is_categorical_dtype(df_copy[col]):\n",
      "C:\\Users\\t_aym\\AppData\\Local\\Temp\\ipykernel_6560\\4046602072.py:3: DeprecationWarning: is_categorical_dtype is deprecated and will be removed in a future version. Use isinstance(dtype, pd.CategoricalDtype) instead\n",
      "  if pd.api.types.is_categorical_dtype(df_copy[col]):\n",
      "C:\\Users\\t_aym\\AppData\\Local\\Temp\\ipykernel_6560\\4046602072.py:3: DeprecationWarning: is_categorical_dtype is deprecated and will be removed in a future version. Use isinstance(dtype, pd.CategoricalDtype) instead\n",
      "  if pd.api.types.is_categorical_dtype(df_copy[col]):\n",
      "C:\\Users\\t_aym\\AppData\\Local\\Temp\\ipykernel_6560\\4046602072.py:3: DeprecationWarning: is_categorical_dtype is deprecated and will be removed in a future version. Use isinstance(dtype, pd.CategoricalDtype) instead\n",
      "  if pd.api.types.is_categorical_dtype(df_copy[col]):\n",
      "C:\\Users\\t_aym\\AppData\\Local\\Temp\\ipykernel_6560\\4046602072.py:3: DeprecationWarning: is_categorical_dtype is deprecated and will be removed in a future version. Use isinstance(dtype, pd.CategoricalDtype) instead\n",
      "  if pd.api.types.is_categorical_dtype(df_copy[col]):\n",
      "C:\\Users\\t_aym\\AppData\\Local\\Temp\\ipykernel_6560\\4046602072.py:3: DeprecationWarning: is_categorical_dtype is deprecated and will be removed in a future version. Use isinstance(dtype, pd.CategoricalDtype) instead\n",
      "  if pd.api.types.is_categorical_dtype(df_copy[col]):\n",
      "C:\\Users\\t_aym\\AppData\\Local\\Temp\\ipykernel_6560\\4046602072.py:3: DeprecationWarning: is_categorical_dtype is deprecated and will be removed in a future version. Use isinstance(dtype, pd.CategoricalDtype) instead\n",
      "  if pd.api.types.is_categorical_dtype(df_copy[col]):\n"
     ]
    },
    {
     "data": {
      "text/plain": [
       "0"
      ]
     },
     "execution_count": 42,
     "metadata": {},
     "output_type": "execute_result"
    }
   ],
   "source": [
    "# Turn categorical variables into numerics and fill missing with their codes\n",
    "for col in df_copy.columns:\n",
    "    if pd.api.types.is_categorical_dtype(df_copy[col]):\n",
    "        df_copy[col + '_is_missing'] = df_copy[col].isna()\n",
    "        df_copy[col] = df_copy[col].cat.codes + 1 # this ensures that nulls will be have a value of 0\n",
    "\n",
    "# Check null counts\n",
    "df_copy.isna().sum().sum()"
   ]
  },
  {
   "cell_type": "code",
   "execution_count": 43,
   "id": "0b6622cc-8b50-4a3c-9299-a36aa0b4fa73",
   "metadata": {},
   "outputs": [
    {
     "data": {
      "text/plain": [
       "(412698, 101)"
      ]
     },
     "execution_count": 43,
     "metadata": {},
     "output_type": "execute_result"
    }
   ],
   "source": [
    "# Check dataframe dimensions\n",
    "df_copy.shape"
   ]
  },
  {
   "cell_type": "markdown",
   "id": "86f0ee4c-1ca8-4858-a1cb-015cb2e49805",
   "metadata": {},
   "source": [
    "Our dataframe now has `101` columns."
   ]
  },
  {
   "cell_type": "code",
   "execution_count": 44,
   "id": "ea11b29a-c064-4eb2-a280-3dec613cae0f",
   "metadata": {},
   "outputs": [
    {
     "data": {
      "text/html": [
       "<div>\n",
       "<style scoped>\n",
       "    .dataframe tbody tr th:only-of-type {\n",
       "        vertical-align: middle;\n",
       "    }\n",
       "\n",
       "    .dataframe tbody tr th {\n",
       "        vertical-align: top;\n",
       "    }\n",
       "\n",
       "    .dataframe thead th {\n",
       "        text-align: right;\n",
       "    }\n",
       "</style>\n",
       "<table border=\"1\" class=\"dataframe\">\n",
       "  <thead>\n",
       "    <tr style=\"text-align: right;\">\n",
       "      <th></th>\n",
       "      <th>SalesID</th>\n",
       "      <th>SalePrice</th>\n",
       "      <th>MachineID</th>\n",
       "      <th>ModelID</th>\n",
       "      <th>datasource</th>\n",
       "      <th>auctioneerID</th>\n",
       "      <th>YearMade</th>\n",
       "      <th>MachineHoursCurrentMeter</th>\n",
       "      <th>UsageBand</th>\n",
       "      <th>fiModelDesc</th>\n",
       "      <th>...</th>\n",
       "      <th>Undercarriage_Pad_Width_is_missing</th>\n",
       "      <th>Stick_Length_is_missing</th>\n",
       "      <th>Thumb_is_missing</th>\n",
       "      <th>Pattern_Changer_is_missing</th>\n",
       "      <th>Grouser_Type_is_missing</th>\n",
       "      <th>Backhoe_Mounting_is_missing</th>\n",
       "      <th>Blade_Type_is_missing</th>\n",
       "      <th>Travel_Controls_is_missing</th>\n",
       "      <th>Differential_Type_is_missing</th>\n",
       "      <th>Steering_Controls_is_missing</th>\n",
       "    </tr>\n",
       "  </thead>\n",
       "  <tbody>\n",
       "    <tr>\n",
       "      <th>0</th>\n",
       "      <td>1139246</td>\n",
       "      <td>66000.00</td>\n",
       "      <td>999089</td>\n",
       "      <td>3157</td>\n",
       "      <td>121</td>\n",
       "      <td>3.00</td>\n",
       "      <td>2004</td>\n",
       "      <td>68.00</td>\n",
       "      <td>2</td>\n",
       "      <td>963</td>\n",
       "      <td>...</td>\n",
       "      <td>True</td>\n",
       "      <td>True</td>\n",
       "      <td>True</td>\n",
       "      <td>True</td>\n",
       "      <td>True</td>\n",
       "      <td>True</td>\n",
       "      <td>True</td>\n",
       "      <td>True</td>\n",
       "      <td>False</td>\n",
       "      <td>False</td>\n",
       "    </tr>\n",
       "    <tr>\n",
       "      <th>1</th>\n",
       "      <td>1139248</td>\n",
       "      <td>57000.00</td>\n",
       "      <td>117657</td>\n",
       "      <td>77</td>\n",
       "      <td>121</td>\n",
       "      <td>3.00</td>\n",
       "      <td>1996</td>\n",
       "      <td>4640.00</td>\n",
       "      <td>2</td>\n",
       "      <td>1745</td>\n",
       "      <td>...</td>\n",
       "      <td>True</td>\n",
       "      <td>True</td>\n",
       "      <td>True</td>\n",
       "      <td>True</td>\n",
       "      <td>True</td>\n",
       "      <td>True</td>\n",
       "      <td>True</td>\n",
       "      <td>True</td>\n",
       "      <td>False</td>\n",
       "      <td>False</td>\n",
       "    </tr>\n",
       "    <tr>\n",
       "      <th>2</th>\n",
       "      <td>1139249</td>\n",
       "      <td>10000.00</td>\n",
       "      <td>434808</td>\n",
       "      <td>7009</td>\n",
       "      <td>121</td>\n",
       "      <td>3.00</td>\n",
       "      <td>2001</td>\n",
       "      <td>2838.00</td>\n",
       "      <td>1</td>\n",
       "      <td>336</td>\n",
       "      <td>...</td>\n",
       "      <td>True</td>\n",
       "      <td>True</td>\n",
       "      <td>True</td>\n",
       "      <td>True</td>\n",
       "      <td>True</td>\n",
       "      <td>True</td>\n",
       "      <td>True</td>\n",
       "      <td>True</td>\n",
       "      <td>True</td>\n",
       "      <td>True</td>\n",
       "    </tr>\n",
       "    <tr>\n",
       "      <th>3</th>\n",
       "      <td>1139251</td>\n",
       "      <td>38500.00</td>\n",
       "      <td>1026470</td>\n",
       "      <td>332</td>\n",
       "      <td>121</td>\n",
       "      <td>3.00</td>\n",
       "      <td>2001</td>\n",
       "      <td>3486.00</td>\n",
       "      <td>1</td>\n",
       "      <td>3716</td>\n",
       "      <td>...</td>\n",
       "      <td>True</td>\n",
       "      <td>True</td>\n",
       "      <td>True</td>\n",
       "      <td>True</td>\n",
       "      <td>True</td>\n",
       "      <td>True</td>\n",
       "      <td>True</td>\n",
       "      <td>True</td>\n",
       "      <td>True</td>\n",
       "      <td>True</td>\n",
       "    </tr>\n",
       "    <tr>\n",
       "      <th>4</th>\n",
       "      <td>1139253</td>\n",
       "      <td>11000.00</td>\n",
       "      <td>1057373</td>\n",
       "      <td>17311</td>\n",
       "      <td>121</td>\n",
       "      <td>3.00</td>\n",
       "      <td>2007</td>\n",
       "      <td>722.00</td>\n",
       "      <td>3</td>\n",
       "      <td>4261</td>\n",
       "      <td>...</td>\n",
       "      <td>True</td>\n",
       "      <td>True</td>\n",
       "      <td>True</td>\n",
       "      <td>True</td>\n",
       "      <td>True</td>\n",
       "      <td>True</td>\n",
       "      <td>True</td>\n",
       "      <td>True</td>\n",
       "      <td>True</td>\n",
       "      <td>True</td>\n",
       "    </tr>\n",
       "  </tbody>\n",
       "</table>\n",
       "<p>5 rows × 101 columns</p>\n",
       "</div>"
      ],
      "text/plain": [
       "   SalesID  SalePrice  MachineID  ModelID  datasource  auctioneerID  YearMade  \\\n",
       "0  1139246   66000.00     999089     3157         121          3.00      2004   \n",
       "1  1139248   57000.00     117657       77         121          3.00      1996   \n",
       "2  1139249   10000.00     434808     7009         121          3.00      2001   \n",
       "3  1139251   38500.00    1026470      332         121          3.00      2001   \n",
       "4  1139253   11000.00    1057373    17311         121          3.00      2007   \n",
       "\n",
       "   MachineHoursCurrentMeter  UsageBand  fiModelDesc  ...  \\\n",
       "0                     68.00          2          963  ...   \n",
       "1                   4640.00          2         1745  ...   \n",
       "2                   2838.00          1          336  ...   \n",
       "3                   3486.00          1         3716  ...   \n",
       "4                    722.00          3         4261  ...   \n",
       "\n",
       "   Undercarriage_Pad_Width_is_missing  Stick_Length_is_missing  \\\n",
       "0                                True                     True   \n",
       "1                                True                     True   \n",
       "2                                True                     True   \n",
       "3                                True                     True   \n",
       "4                                True                     True   \n",
       "\n",
       "   Thumb_is_missing  Pattern_Changer_is_missing  Grouser_Type_is_missing  \\\n",
       "0              True                        True                     True   \n",
       "1              True                        True                     True   \n",
       "2              True                        True                     True   \n",
       "3              True                        True                     True   \n",
       "4              True                        True                     True   \n",
       "\n",
       "   Backhoe_Mounting_is_missing  Blade_Type_is_missing  \\\n",
       "0                         True                   True   \n",
       "1                         True                   True   \n",
       "2                         True                   True   \n",
       "3                         True                   True   \n",
       "4                         True                   True   \n",
       "\n",
       "   Travel_Controls_is_missing  Differential_Type_is_missing  \\\n",
       "0                        True                         False   \n",
       "1                        True                         False   \n",
       "2                        True                          True   \n",
       "3                        True                          True   \n",
       "4                        True                          True   \n",
       "\n",
       "   Steering_Controls_is_missing  \n",
       "0                         False  \n",
       "1                         False  \n",
       "2                          True  \n",
       "3                          True  \n",
       "4                          True  \n",
       "\n",
       "[5 rows x 101 columns]"
      ]
     },
     "execution_count": 44,
     "metadata": {},
     "output_type": "execute_result"
    }
   ],
   "source": [
    "df_copy.head()"
   ]
  },
  {
   "cell_type": "markdown",
   "id": "c6f8b34e-7903-4c91-ab11-1799b116e6a4",
   "metadata": {},
   "source": [
    "<br>"
   ]
  },
  {
   "cell_type": "markdown",
   "id": "f1a621c1-8f96-423c-bad2-dd274cb484b9",
   "metadata": {},
   "source": [
    "## 6. Modelling"
   ]
  },
  {
   "cell_type": "code",
   "execution_count": 45,
   "id": "310ea46c-d7d3-4322-b114-e2983c74676b",
   "metadata": {},
   "outputs": [],
   "source": [
    "# Import sklearn tools\n",
    "from sklearn.ensemble import RandomForestRegressor\n",
    "from sklearn.model_selection import train_test_split\n",
    "\n",
    "# Split data into train and validation sets\n",
    "# According to Kaggle, the validation set should contain data from Jan, 1, 2012 till Apr, 30, 2012\n",
    "df_train = df_copy[:][df_copy['SaleYear'] != 2012]\n",
    "df_valid = df_copy[:][df_copy['SaleYear'] == 2012]\n",
    "\n",
    "# Split data into features and labels\n",
    "X_train, y_train = df_train.drop(columns='SalePrice', axis=1), df_train['SalePrice']\n",
    "X_valid, y_valid = df_valid.drop(columns='SalePrice', axis=1), df_valid['SalePrice']"
   ]
  },
  {
   "cell_type": "markdown",
   "id": "30c207ba-46a1-4b56-af05-ee66d8ae18e9",
   "metadata": {},
   "source": [
    "Fitting over `400K` samples is time consuming and requires a lot of computational power, so we'll test our model on a subset of the data.\n",
    "\n",
    "<b>Random Forest Regressor</b> model has a built-in parameter called `max_samples` which allows us to specify how many samples to fit to the model. "
   ]
  },
  {
   "cell_type": "code",
   "execution_count": 46,
   "id": "9d13b7d4-3bd8-4b0c-a502-eb7ce3f59788",
   "metadata": {},
   "outputs": [],
   "source": [
    "# Instantiate a Random Forest Regressor model\n",
    "reg = RandomForestRegressor(n_jobs=-1,         # Use all CPU cores\n",
    "                            random_state=41,   # Alternative to setting static seed\n",
    "                            max_samples=20000) # Specify how many samples to fit "
   ]
  },
  {
   "cell_type": "code",
   "execution_count": 47,
   "id": "d8ba08b4-c2b2-485c-bff2-a97c3ad52121",
   "metadata": {},
   "outputs": [
    {
     "data": {
      "text/html": [
       "<style>#sk-container-id-1 {color: black;}#sk-container-id-1 pre{padding: 0;}#sk-container-id-1 div.sk-toggleable {background-color: white;}#sk-container-id-1 label.sk-toggleable__label {cursor: pointer;display: block;width: 100%;margin-bottom: 0;padding: 0.3em;box-sizing: border-box;text-align: center;}#sk-container-id-1 label.sk-toggleable__label-arrow:before {content: \"▸\";float: left;margin-right: 0.25em;color: #696969;}#sk-container-id-1 label.sk-toggleable__label-arrow:hover:before {color: black;}#sk-container-id-1 div.sk-estimator:hover label.sk-toggleable__label-arrow:before {color: black;}#sk-container-id-1 div.sk-toggleable__content {max-height: 0;max-width: 0;overflow: hidden;text-align: left;background-color: #f0f8ff;}#sk-container-id-1 div.sk-toggleable__content pre {margin: 0.2em;color: black;border-radius: 0.25em;background-color: #f0f8ff;}#sk-container-id-1 input.sk-toggleable__control:checked~div.sk-toggleable__content {max-height: 200px;max-width: 100%;overflow: auto;}#sk-container-id-1 input.sk-toggleable__control:checked~label.sk-toggleable__label-arrow:before {content: \"▾\";}#sk-container-id-1 div.sk-estimator input.sk-toggleable__control:checked~label.sk-toggleable__label {background-color: #d4ebff;}#sk-container-id-1 div.sk-label input.sk-toggleable__control:checked~label.sk-toggleable__label {background-color: #d4ebff;}#sk-container-id-1 input.sk-hidden--visually {border: 0;clip: rect(1px 1px 1px 1px);clip: rect(1px, 1px, 1px, 1px);height: 1px;margin: -1px;overflow: hidden;padding: 0;position: absolute;width: 1px;}#sk-container-id-1 div.sk-estimator {font-family: monospace;background-color: #f0f8ff;border: 1px dotted black;border-radius: 0.25em;box-sizing: border-box;margin-bottom: 0.5em;}#sk-container-id-1 div.sk-estimator:hover {background-color: #d4ebff;}#sk-container-id-1 div.sk-parallel-item::after {content: \"\";width: 100%;border-bottom: 1px solid gray;flex-grow: 1;}#sk-container-id-1 div.sk-label:hover label.sk-toggleable__label {background-color: #d4ebff;}#sk-container-id-1 div.sk-serial::before {content: \"\";position: absolute;border-left: 1px solid gray;box-sizing: border-box;top: 0;bottom: 0;left: 50%;z-index: 0;}#sk-container-id-1 div.sk-serial {display: flex;flex-direction: column;align-items: center;background-color: white;padding-right: 0.2em;padding-left: 0.2em;position: relative;}#sk-container-id-1 div.sk-item {position: relative;z-index: 1;}#sk-container-id-1 div.sk-parallel {display: flex;align-items: stretch;justify-content: center;background-color: white;position: relative;}#sk-container-id-1 div.sk-item::before, #sk-container-id-1 div.sk-parallel-item::before {content: \"\";position: absolute;border-left: 1px solid gray;box-sizing: border-box;top: 0;bottom: 0;left: 50%;z-index: -1;}#sk-container-id-1 div.sk-parallel-item {display: flex;flex-direction: column;z-index: 1;position: relative;background-color: white;}#sk-container-id-1 div.sk-parallel-item:first-child::after {align-self: flex-end;width: 50%;}#sk-container-id-1 div.sk-parallel-item:last-child::after {align-self: flex-start;width: 50%;}#sk-container-id-1 div.sk-parallel-item:only-child::after {width: 0;}#sk-container-id-1 div.sk-dashed-wrapped {border: 1px dashed gray;margin: 0 0.4em 0.5em 0.4em;box-sizing: border-box;padding-bottom: 0.4em;background-color: white;}#sk-container-id-1 div.sk-label label {font-family: monospace;font-weight: bold;display: inline-block;line-height: 1.2em;}#sk-container-id-1 div.sk-label-container {text-align: center;}#sk-container-id-1 div.sk-container {/* jupyter's `normalize.less` sets `[hidden] { display: none; }` but bootstrap.min.css set `[hidden] { display: none !important; }` so we also need the `!important` here to be able to override the default hidden behavior on the sphinx rendered scikit-learn.org. See: https://github.com/scikit-learn/scikit-learn/issues/21755 */display: inline-block !important;position: relative;}#sk-container-id-1 div.sk-text-repr-fallback {display: none;}</style><div id=\"sk-container-id-1\" class=\"sk-top-container\"><div class=\"sk-text-repr-fallback\"><pre>RandomForestRegressor(max_samples=20000, n_jobs=-1, random_state=41)</pre><b>In a Jupyter environment, please rerun this cell to show the HTML representation or trust the notebook. <br />On GitHub, the HTML representation is unable to render, please try loading this page with nbviewer.org.</b></div><div class=\"sk-container\" hidden><div class=\"sk-item\"><div class=\"sk-estimator sk-toggleable\"><input class=\"sk-toggleable__control sk-hidden--visually\" id=\"sk-estimator-id-1\" type=\"checkbox\" checked><label for=\"sk-estimator-id-1\" class=\"sk-toggleable__label sk-toggleable__label-arrow\">RandomForestRegressor</label><div class=\"sk-toggleable__content\"><pre>RandomForestRegressor(max_samples=20000, n_jobs=-1, random_state=41)</pre></div></div></div></div></div>"
      ],
      "text/plain": [
       "RandomForestRegressor(max_samples=20000, n_jobs=-1, random_state=41)"
      ]
     },
     "execution_count": 47,
     "metadata": {},
     "output_type": "execute_result"
    }
   ],
   "source": [
    "reg.fit(X_train, y_train)"
   ]
  },
  {
   "cell_type": "code",
   "execution_count": 48,
   "id": "7f4bcb39-5425-4b9a-846c-7ac6bc90bcae",
   "metadata": {},
   "outputs": [
    {
     "data": {
      "text/plain": [
       "0.8548529928338412"
      ]
     },
     "execution_count": 48,
     "metadata": {},
     "output_type": "execute_result"
    }
   ],
   "source": [
    "reg.score(X_valid, y_valid)"
   ]
  },
  {
   "cell_type": "markdown",
   "id": "9441ce05-b5e1-4511-8c67-9148321f03ae",
   "metadata": {},
   "source": [
    "Baseline <b>Random Forest Regressor</b> model yields an `R2-score` (Coefficient of Determination) of `0.85`."
   ]
  },
  {
   "cell_type": "markdown",
   "id": "99bbea74-1d68-4e0e-bb93-c9cfa1c7f160",
   "metadata": {},
   "source": [
    "As a reminder, our evaluation metric for this analysis is the <b>RMSLE</b> (Root Mean Squared Log Error). I.e. the lower the value, the higher the prediction accuracy."
   ]
  },
  {
   "cell_type": "markdown",
   "id": "057e220e-2530-4e54-9eca-92acb62e6d99",
   "metadata": {},
   "source": [
    "## 7. Experimentation & Evaluation"
   ]
  },
  {
   "cell_type": "code",
   "execution_count": 49,
   "id": "1bd0af3a-de28-4fa4-bc5e-72668ad26a2f",
   "metadata": {},
   "outputs": [],
   "source": [
    "from sklearn.metrics import mean_squared_log_error, mean_absolute_error, r2_score\n",
    "\n",
    "# Create customer function to return the square root of MSLE\n",
    "def rmsle(y_test, y_preds):\n",
    "    return np.sqrt(mean_squared_log_error(y_test, y_preds))\n",
    "\n",
    "# Create custom evaluation function\n",
    "def model_scores(model, X_train, X_valid, y_train, y_valid):\n",
    "    train_preds = model.predict(X_train)\n",
    "    valid_preds = model.predict(X_valid)\n",
    "    scores = {'Train MAE': mean_absolute_error(y_train, train_preds),\n",
    "              'Valid MAE': mean_absolute_error(y_valid, valid_preds),\n",
    "              'Train RMSLE': rmsle(y_train, train_preds),\n",
    "              'Valid RMSLE': rmsle(y_valid, valid_preds),\n",
    "              'Train R2': r2_score(y_train, train_preds),\n",
    "              'Valid R2': r2_score(y_valid, valid_preds)}\n",
    "    return scores"
   ]
  },
  {
   "cell_type": "code",
   "execution_count": 50,
   "id": "ae1a26b4-7428-40a8-9f38-528356e2eb18",
   "metadata": {},
   "outputs": [
    {
     "data": {
      "text/plain": [
       "{'Train MAE': 5017.738137139295,\n",
       " 'Valid MAE': 6617.205486045105,\n",
       " 'Train RMSLE': 0.23597877750516283,\n",
       " 'Valid RMSLE': 0.2720323064454567,\n",
       " 'Train R2': 0.884725731265357,\n",
       " 'Valid R2': 0.8548529928338412}"
      ]
     },
     "execution_count": 50,
     "metadata": {},
     "output_type": "execute_result"
    }
   ],
   "source": [
    "model_scores(reg, X_train, X_valid, y_train, y_valid)"
   ]
  },
  {
   "cell_type": "code",
   "execution_count": 51,
   "id": "9c9fd49e-bb1d-432d-8855-1507be097759",
   "metadata": {},
   "outputs": [
    {
     "data": {
      "text/html": [
       "<div>\n",
       "<style scoped>\n",
       "    .dataframe tbody tr th:only-of-type {\n",
       "        vertical-align: middle;\n",
       "    }\n",
       "\n",
       "    .dataframe tbody tr th {\n",
       "        vertical-align: top;\n",
       "    }\n",
       "\n",
       "    .dataframe thead th {\n",
       "        text-align: right;\n",
       "    }\n",
       "</style>\n",
       "<table border=\"1\" class=\"dataframe\">\n",
       "  <thead>\n",
       "    <tr style=\"text-align: right;\">\n",
       "      <th></th>\n",
       "      <th>Score</th>\n",
       "    </tr>\n",
       "  </thead>\n",
       "  <tbody>\n",
       "    <tr>\n",
       "      <th>Train MAE</th>\n",
       "      <td>5017.74</td>\n",
       "    </tr>\n",
       "    <tr>\n",
       "      <th>Valid MAE</th>\n",
       "      <td>6617.21</td>\n",
       "    </tr>\n",
       "    <tr>\n",
       "      <th>Train RMSLE</th>\n",
       "      <td>0.24</td>\n",
       "    </tr>\n",
       "    <tr>\n",
       "      <th>Valid RMSLE</th>\n",
       "      <td>0.27</td>\n",
       "    </tr>\n",
       "    <tr>\n",
       "      <th>Train R2</th>\n",
       "      <td>0.88</td>\n",
       "    </tr>\n",
       "    <tr>\n",
       "      <th>Valid R2</th>\n",
       "      <td>0.85</td>\n",
       "    </tr>\n",
       "  </tbody>\n",
       "</table>\n",
       "</div>"
      ],
      "text/plain": [
       "              Score\n",
       "Train MAE   5017.74\n",
       "Valid MAE   6617.21\n",
       "Train RMSLE    0.24\n",
       "Valid RMSLE    0.27\n",
       "Train R2       0.88\n",
       "Valid R2       0.85"
      ]
     },
     "execution_count": 51,
     "metadata": {},
     "output_type": "execute_result"
    }
   ],
   "source": [
    "# Store baseline model scores in a dataframe\n",
    "scores = model_scores(reg, X_train, X_valid, y_train, y_valid)\n",
    "\n",
    "df_scores = pd.DataFrame(scores,\n",
    "                         index=['Score']).T\n",
    "\n",
    "df_scores"
   ]
  },
  {
   "cell_type": "markdown",
   "id": "98457569-aac4-49d5-b2b7-2392d5f0f813",
   "metadata": {},
   "source": [
    "Our baseline model achieved an `RMSLE` score of `0.27`."
   ]
  },
  {
   "cell_type": "markdown",
   "id": "7f26350e-6cf5-456f-a810-12d24dacd767",
   "metadata": {},
   "source": [
    "> #### 7.1. Tuning Hyperparameters using `RandomizedSearchCV`"
   ]
  },
  {
   "cell_type": "code",
   "execution_count": 52,
   "id": "5bfedf63-e2b9-4cbb-9cc7-f2ce22ee6504",
   "metadata": {},
   "outputs": [
    {
     "data": {
      "text/html": [
       "<style>#sk-container-id-2 {color: black;}#sk-container-id-2 pre{padding: 0;}#sk-container-id-2 div.sk-toggleable {background-color: white;}#sk-container-id-2 label.sk-toggleable__label {cursor: pointer;display: block;width: 100%;margin-bottom: 0;padding: 0.3em;box-sizing: border-box;text-align: center;}#sk-container-id-2 label.sk-toggleable__label-arrow:before {content: \"▸\";float: left;margin-right: 0.25em;color: #696969;}#sk-container-id-2 label.sk-toggleable__label-arrow:hover:before {color: black;}#sk-container-id-2 div.sk-estimator:hover label.sk-toggleable__label-arrow:before {color: black;}#sk-container-id-2 div.sk-toggleable__content {max-height: 0;max-width: 0;overflow: hidden;text-align: left;background-color: #f0f8ff;}#sk-container-id-2 div.sk-toggleable__content pre {margin: 0.2em;color: black;border-radius: 0.25em;background-color: #f0f8ff;}#sk-container-id-2 input.sk-toggleable__control:checked~div.sk-toggleable__content {max-height: 200px;max-width: 100%;overflow: auto;}#sk-container-id-2 input.sk-toggleable__control:checked~label.sk-toggleable__label-arrow:before {content: \"▾\";}#sk-container-id-2 div.sk-estimator input.sk-toggleable__control:checked~label.sk-toggleable__label {background-color: #d4ebff;}#sk-container-id-2 div.sk-label input.sk-toggleable__control:checked~label.sk-toggleable__label {background-color: #d4ebff;}#sk-container-id-2 input.sk-hidden--visually {border: 0;clip: rect(1px 1px 1px 1px);clip: rect(1px, 1px, 1px, 1px);height: 1px;margin: -1px;overflow: hidden;padding: 0;position: absolute;width: 1px;}#sk-container-id-2 div.sk-estimator {font-family: monospace;background-color: #f0f8ff;border: 1px dotted black;border-radius: 0.25em;box-sizing: border-box;margin-bottom: 0.5em;}#sk-container-id-2 div.sk-estimator:hover {background-color: #d4ebff;}#sk-container-id-2 div.sk-parallel-item::after {content: \"\";width: 100%;border-bottom: 1px solid gray;flex-grow: 1;}#sk-container-id-2 div.sk-label:hover label.sk-toggleable__label {background-color: #d4ebff;}#sk-container-id-2 div.sk-serial::before {content: \"\";position: absolute;border-left: 1px solid gray;box-sizing: border-box;top: 0;bottom: 0;left: 50%;z-index: 0;}#sk-container-id-2 div.sk-serial {display: flex;flex-direction: column;align-items: center;background-color: white;padding-right: 0.2em;padding-left: 0.2em;position: relative;}#sk-container-id-2 div.sk-item {position: relative;z-index: 1;}#sk-container-id-2 div.sk-parallel {display: flex;align-items: stretch;justify-content: center;background-color: white;position: relative;}#sk-container-id-2 div.sk-item::before, #sk-container-id-2 div.sk-parallel-item::before {content: \"\";position: absolute;border-left: 1px solid gray;box-sizing: border-box;top: 0;bottom: 0;left: 50%;z-index: -1;}#sk-container-id-2 div.sk-parallel-item {display: flex;flex-direction: column;z-index: 1;position: relative;background-color: white;}#sk-container-id-2 div.sk-parallel-item:first-child::after {align-self: flex-end;width: 50%;}#sk-container-id-2 div.sk-parallel-item:last-child::after {align-self: flex-start;width: 50%;}#sk-container-id-2 div.sk-parallel-item:only-child::after {width: 0;}#sk-container-id-2 div.sk-dashed-wrapped {border: 1px dashed gray;margin: 0 0.4em 0.5em 0.4em;box-sizing: border-box;padding-bottom: 0.4em;background-color: white;}#sk-container-id-2 div.sk-label label {font-family: monospace;font-weight: bold;display: inline-block;line-height: 1.2em;}#sk-container-id-2 div.sk-label-container {text-align: center;}#sk-container-id-2 div.sk-container {/* jupyter's `normalize.less` sets `[hidden] { display: none; }` but bootstrap.min.css set `[hidden] { display: none !important; }` so we also need the `!important` here to be able to override the default hidden behavior on the sphinx rendered scikit-learn.org. See: https://github.com/scikit-learn/scikit-learn/issues/21755 */display: inline-block !important;position: relative;}#sk-container-id-2 div.sk-text-repr-fallback {display: none;}</style><div id=\"sk-container-id-2\" class=\"sk-top-container\"><div class=\"sk-text-repr-fallback\"><pre>RandomizedSearchCV(cv=5,\n",
       "                   estimator=RandomForestRegressor(n_jobs=-1, random_state=41),\n",
       "                   n_iter=20,\n",
       "                   param_distributions={&#x27;max_depth&#x27;: [None, 3, 5, 10],\n",
       "                                        &#x27;max_features&#x27;: [&#x27;sqrt&#x27;, &#x27;log2&#x27;, None],\n",
       "                                        &#x27;max_samples&#x27;: [20000],\n",
       "                                        &#x27;min_samples_leaf&#x27;: array([ 1,  3,  5,  7,  9, 11, 13, 15, 17, 19]),\n",
       "                                        &#x27;min_samples_split&#x27;: array([ 2,  4,  6,  8, 10, 12, 14, 16, 18]),\n",
       "                                        &#x27;n_estimators&#x27;: array([10, 20, 30, 40, 50, 60, 70, 80, 90])})</pre><b>In a Jupyter environment, please rerun this cell to show the HTML representation or trust the notebook. <br />On GitHub, the HTML representation is unable to render, please try loading this page with nbviewer.org.</b></div><div class=\"sk-container\" hidden><div class=\"sk-item sk-dashed-wrapped\"><div class=\"sk-label-container\"><div class=\"sk-label sk-toggleable\"><input class=\"sk-toggleable__control sk-hidden--visually\" id=\"sk-estimator-id-2\" type=\"checkbox\" ><label for=\"sk-estimator-id-2\" class=\"sk-toggleable__label sk-toggleable__label-arrow\">RandomizedSearchCV</label><div class=\"sk-toggleable__content\"><pre>RandomizedSearchCV(cv=5,\n",
       "                   estimator=RandomForestRegressor(n_jobs=-1, random_state=41),\n",
       "                   n_iter=20,\n",
       "                   param_distributions={&#x27;max_depth&#x27;: [None, 3, 5, 10],\n",
       "                                        &#x27;max_features&#x27;: [&#x27;sqrt&#x27;, &#x27;log2&#x27;, None],\n",
       "                                        &#x27;max_samples&#x27;: [20000],\n",
       "                                        &#x27;min_samples_leaf&#x27;: array([ 1,  3,  5,  7,  9, 11, 13, 15, 17, 19]),\n",
       "                                        &#x27;min_samples_split&#x27;: array([ 2,  4,  6,  8, 10, 12, 14, 16, 18]),\n",
       "                                        &#x27;n_estimators&#x27;: array([10, 20, 30, 40, 50, 60, 70, 80, 90])})</pre></div></div></div><div class=\"sk-parallel\"><div class=\"sk-parallel-item\"><div class=\"sk-item\"><div class=\"sk-label-container\"><div class=\"sk-label sk-toggleable\"><input class=\"sk-toggleable__control sk-hidden--visually\" id=\"sk-estimator-id-3\" type=\"checkbox\" ><label for=\"sk-estimator-id-3\" class=\"sk-toggleable__label sk-toggleable__label-arrow\">estimator: RandomForestRegressor</label><div class=\"sk-toggleable__content\"><pre>RandomForestRegressor(n_jobs=-1, random_state=41)</pre></div></div></div><div class=\"sk-serial\"><div class=\"sk-item\"><div class=\"sk-estimator sk-toggleable\"><input class=\"sk-toggleable__control sk-hidden--visually\" id=\"sk-estimator-id-4\" type=\"checkbox\" ><label for=\"sk-estimator-id-4\" class=\"sk-toggleable__label sk-toggleable__label-arrow\">RandomForestRegressor</label><div class=\"sk-toggleable__content\"><pre>RandomForestRegressor(n_jobs=-1, random_state=41)</pre></div></div></div></div></div></div></div></div></div></div>"
      ],
      "text/plain": [
       "RandomizedSearchCV(cv=5,\n",
       "                   estimator=RandomForestRegressor(n_jobs=-1, random_state=41),\n",
       "                   n_iter=20,\n",
       "                   param_distributions={'max_depth': [None, 3, 5, 10],\n",
       "                                        'max_features': ['sqrt', 'log2', None],\n",
       "                                        'max_samples': [20000],\n",
       "                                        'min_samples_leaf': array([ 1,  3,  5,  7,  9, 11, 13, 15, 17, 19]),\n",
       "                                        'min_samples_split': array([ 2,  4,  6,  8, 10, 12, 14, 16, 18]),\n",
       "                                        'n_estimators': array([10, 20, 30, 40, 50, 60, 70, 80, 90])})"
      ]
     },
     "execution_count": 52,
     "metadata": {},
     "output_type": "execute_result"
    }
   ],
   "source": [
    "from sklearn.model_selection import RandomizedSearchCV\n",
    "\n",
    "rf_grid = {'n_estimators': np.arange(10, 100, 10),\n",
    "           'max_depth': [None, 3, 5, 10],\n",
    "           'min_samples_split': np.arange(2, 20, 2),\n",
    "           'min_samples_leaf': np.arange(1, 20, 2),\n",
    "           'max_features': ['sqrt', 'log2', None],\n",
    "           'max_samples': [20000]}\n",
    "\n",
    "# Instantiate RandomizedSearchCV\n",
    "rs_model = RandomizedSearchCV(RandomForestRegressor(n_jobs=-1, random_state=41),\n",
    "                              param_distributions=rf_grid,\n",
    "                              n_iter=20,\n",
    "                              cv=5)\n",
    "\n",
    "# Fit model to data\n",
    "rs_model.fit(X_train, y_train)"
   ]
  },
  {
   "cell_type": "code",
   "execution_count": 53,
   "id": "663bc683-7efa-472a-9e12-c28d98504620",
   "metadata": {},
   "outputs": [
    {
     "data": {
      "text/plain": [
       "{'n_estimators': 60,\n",
       " 'min_samples_split': 4,\n",
       " 'min_samples_leaf': 9,\n",
       " 'max_samples': 20000,\n",
       " 'max_features': None,\n",
       " 'max_depth': None}"
      ]
     },
     "execution_count": 53,
     "metadata": {},
     "output_type": "execute_result"
    }
   ],
   "source": [
    "rs_model.best_params_"
   ]
  },
  {
   "cell_type": "code",
   "execution_count": 54,
   "id": "a1cb9f53-2ec8-407e-8455-a409ffe972cb",
   "metadata": {},
   "outputs": [
    {
     "data": {
      "text/plain": [
       "0.8332578671674888"
      ]
     },
     "execution_count": 54,
     "metadata": {},
     "output_type": "execute_result"
    }
   ],
   "source": [
    "rs_model.score(X_valid, y_valid)"
   ]
  },
  {
   "cell_type": "markdown",
   "id": "404bf593-1eca-4e28-af4b-26298cb58010",
   "metadata": {},
   "source": [
    "<b> Fast-Forward </b>: We kept re-iterating our `RandomizedSearchCV` until we've reached the following best hyperparameters for our model:\n",
    "\n",
    "With `n_iter`: 100\n",
    "* `n_estimators`: 40\n",
    "* `min_samples_leaf`: 1\n",
    "* `min_samples_split`: 14\n",
    "* `max_feature`: None\n",
    "* `n_jobs`: -1\n",
    "* `max_samples`: None "
   ]
  },
  {
   "cell_type": "code",
   "execution_count": 55,
   "id": "fb00a7e3-b566-411c-b6c6-c72216f4d69b",
   "metadata": {},
   "outputs": [
    {
     "data": {
      "text/html": [
       "<style>#sk-container-id-3 {color: black;}#sk-container-id-3 pre{padding: 0;}#sk-container-id-3 div.sk-toggleable {background-color: white;}#sk-container-id-3 label.sk-toggleable__label {cursor: pointer;display: block;width: 100%;margin-bottom: 0;padding: 0.3em;box-sizing: border-box;text-align: center;}#sk-container-id-3 label.sk-toggleable__label-arrow:before {content: \"▸\";float: left;margin-right: 0.25em;color: #696969;}#sk-container-id-3 label.sk-toggleable__label-arrow:hover:before {color: black;}#sk-container-id-3 div.sk-estimator:hover label.sk-toggleable__label-arrow:before {color: black;}#sk-container-id-3 div.sk-toggleable__content {max-height: 0;max-width: 0;overflow: hidden;text-align: left;background-color: #f0f8ff;}#sk-container-id-3 div.sk-toggleable__content pre {margin: 0.2em;color: black;border-radius: 0.25em;background-color: #f0f8ff;}#sk-container-id-3 input.sk-toggleable__control:checked~div.sk-toggleable__content {max-height: 200px;max-width: 100%;overflow: auto;}#sk-container-id-3 input.sk-toggleable__control:checked~label.sk-toggleable__label-arrow:before {content: \"▾\";}#sk-container-id-3 div.sk-estimator input.sk-toggleable__control:checked~label.sk-toggleable__label {background-color: #d4ebff;}#sk-container-id-3 div.sk-label input.sk-toggleable__control:checked~label.sk-toggleable__label {background-color: #d4ebff;}#sk-container-id-3 input.sk-hidden--visually {border: 0;clip: rect(1px 1px 1px 1px);clip: rect(1px, 1px, 1px, 1px);height: 1px;margin: -1px;overflow: hidden;padding: 0;position: absolute;width: 1px;}#sk-container-id-3 div.sk-estimator {font-family: monospace;background-color: #f0f8ff;border: 1px dotted black;border-radius: 0.25em;box-sizing: border-box;margin-bottom: 0.5em;}#sk-container-id-3 div.sk-estimator:hover {background-color: #d4ebff;}#sk-container-id-3 div.sk-parallel-item::after {content: \"\";width: 100%;border-bottom: 1px solid gray;flex-grow: 1;}#sk-container-id-3 div.sk-label:hover label.sk-toggleable__label {background-color: #d4ebff;}#sk-container-id-3 div.sk-serial::before {content: \"\";position: absolute;border-left: 1px solid gray;box-sizing: border-box;top: 0;bottom: 0;left: 50%;z-index: 0;}#sk-container-id-3 div.sk-serial {display: flex;flex-direction: column;align-items: center;background-color: white;padding-right: 0.2em;padding-left: 0.2em;position: relative;}#sk-container-id-3 div.sk-item {position: relative;z-index: 1;}#sk-container-id-3 div.sk-parallel {display: flex;align-items: stretch;justify-content: center;background-color: white;position: relative;}#sk-container-id-3 div.sk-item::before, #sk-container-id-3 div.sk-parallel-item::before {content: \"\";position: absolute;border-left: 1px solid gray;box-sizing: border-box;top: 0;bottom: 0;left: 50%;z-index: -1;}#sk-container-id-3 div.sk-parallel-item {display: flex;flex-direction: column;z-index: 1;position: relative;background-color: white;}#sk-container-id-3 div.sk-parallel-item:first-child::after {align-self: flex-end;width: 50%;}#sk-container-id-3 div.sk-parallel-item:last-child::after {align-self: flex-start;width: 50%;}#sk-container-id-3 div.sk-parallel-item:only-child::after {width: 0;}#sk-container-id-3 div.sk-dashed-wrapped {border: 1px dashed gray;margin: 0 0.4em 0.5em 0.4em;box-sizing: border-box;padding-bottom: 0.4em;background-color: white;}#sk-container-id-3 div.sk-label label {font-family: monospace;font-weight: bold;display: inline-block;line-height: 1.2em;}#sk-container-id-3 div.sk-label-container {text-align: center;}#sk-container-id-3 div.sk-container {/* jupyter's `normalize.less` sets `[hidden] { display: none; }` but bootstrap.min.css set `[hidden] { display: none !important; }` so we also need the `!important` here to be able to override the default hidden behavior on the sphinx rendered scikit-learn.org. See: https://github.com/scikit-learn/scikit-learn/issues/21755 */display: inline-block !important;position: relative;}#sk-container-id-3 div.sk-text-repr-fallback {display: none;}</style><div id=\"sk-container-id-3\" class=\"sk-top-container\"><div class=\"sk-text-repr-fallback\"><pre>RandomForestRegressor(max_features=None, min_samples_split=14, n_estimators=40,\n",
       "                      n_jobs=-1, random_state=41)</pre><b>In a Jupyter environment, please rerun this cell to show the HTML representation or trust the notebook. <br />On GitHub, the HTML representation is unable to render, please try loading this page with nbviewer.org.</b></div><div class=\"sk-container\" hidden><div class=\"sk-item\"><div class=\"sk-estimator sk-toggleable\"><input class=\"sk-toggleable__control sk-hidden--visually\" id=\"sk-estimator-id-5\" type=\"checkbox\" checked><label for=\"sk-estimator-id-5\" class=\"sk-toggleable__label sk-toggleable__label-arrow\">RandomForestRegressor</label><div class=\"sk-toggleable__content\"><pre>RandomForestRegressor(max_features=None, min_samples_split=14, n_estimators=40,\n",
       "                      n_jobs=-1, random_state=41)</pre></div></div></div></div></div>"
      ],
      "text/plain": [
       "RandomForestRegressor(max_features=None, min_samples_split=14, n_estimators=40,\n",
       "                      n_jobs=-1, random_state=41)"
      ]
     },
     "execution_count": 55,
     "metadata": {},
     "output_type": "execute_result"
    }
   ],
   "source": [
    "tuned_model = RandomForestRegressor(n_estimators=40,\n",
    "                                    min_samples_leaf=1,\n",
    "                                    min_samples_split=14,\n",
    "                                    max_features=None,\n",
    "                                    n_jobs=-1,\n",
    "                                    max_samples=None,\n",
    "                                    random_state=41)\n",
    "\n",
    "tuned_model.fit(X_train, y_train)"
   ]
  },
  {
   "cell_type": "code",
   "execution_count": 56,
   "id": "36278365-8449-4002-b5f5-13af9965c0c4",
   "metadata": {},
   "outputs": [
    {
     "data": {
      "text/html": [
       "<div>\n",
       "<style scoped>\n",
       "    .dataframe tbody tr th:only-of-type {\n",
       "        vertical-align: middle;\n",
       "    }\n",
       "\n",
       "    .dataframe tbody tr th {\n",
       "        vertical-align: top;\n",
       "    }\n",
       "\n",
       "    .dataframe thead th {\n",
       "        text-align: right;\n",
       "    }\n",
       "</style>\n",
       "<table border=\"1\" class=\"dataframe\">\n",
       "  <thead>\n",
       "    <tr style=\"text-align: right;\">\n",
       "      <th></th>\n",
       "      <th>Score</th>\n",
       "    </tr>\n",
       "  </thead>\n",
       "  <tbody>\n",
       "    <tr>\n",
       "      <th>Train MAE</th>\n",
       "      <td>5017.74</td>\n",
       "    </tr>\n",
       "    <tr>\n",
       "      <th>Valid MAE</th>\n",
       "      <td>6617.21</td>\n",
       "    </tr>\n",
       "    <tr>\n",
       "      <th>Train RMSLE</th>\n",
       "      <td>0.24</td>\n",
       "    </tr>\n",
       "    <tr>\n",
       "      <th>Valid RMSLE</th>\n",
       "      <td>0.27</td>\n",
       "    </tr>\n",
       "    <tr>\n",
       "      <th>Train R2</th>\n",
       "      <td>0.88</td>\n",
       "    </tr>\n",
       "    <tr>\n",
       "      <th>Valid R2</th>\n",
       "      <td>0.85</td>\n",
       "    </tr>\n",
       "  </tbody>\n",
       "</table>\n",
       "</div>"
      ],
      "text/plain": [
       "              Score\n",
       "Train MAE   5017.74\n",
       "Valid MAE   6617.21\n",
       "Train RMSLE    0.24\n",
       "Valid RMSLE    0.27\n",
       "Train R2       0.88\n",
       "Valid R2       0.85"
      ]
     },
     "execution_count": 56,
     "metadata": {},
     "output_type": "execute_result"
    }
   ],
   "source": [
    "# Baseline model scores\n",
    "df_scores"
   ]
  },
  {
   "cell_type": "code",
   "execution_count": 57,
   "id": "27c67ccb-3cdd-42c6-9f03-1b9a1e7604c2",
   "metadata": {},
   "outputs": [
    {
     "data": {
      "text/html": [
       "<div>\n",
       "<style scoped>\n",
       "    .dataframe tbody tr th:only-of-type {\n",
       "        vertical-align: middle;\n",
       "    }\n",
       "\n",
       "    .dataframe tbody tr th {\n",
       "        vertical-align: top;\n",
       "    }\n",
       "\n",
       "    .dataframe thead th {\n",
       "        text-align: right;\n",
       "    }\n",
       "</style>\n",
       "<table border=\"1\" class=\"dataframe\">\n",
       "  <thead>\n",
       "    <tr style=\"text-align: right;\">\n",
       "      <th></th>\n",
       "      <th>Score</th>\n",
       "    </tr>\n",
       "  </thead>\n",
       "  <tbody>\n",
       "    <tr>\n",
       "      <th>Train MAE</th>\n",
       "      <td>2875.31</td>\n",
       "    </tr>\n",
       "    <tr>\n",
       "      <th>Valid MAE</th>\n",
       "      <td>6106.57</td>\n",
       "    </tr>\n",
       "    <tr>\n",
       "      <th>Train RMSLE</th>\n",
       "      <td>0.14</td>\n",
       "    </tr>\n",
       "    <tr>\n",
       "      <th>Valid RMSLE</th>\n",
       "      <td>0.25</td>\n",
       "    </tr>\n",
       "    <tr>\n",
       "      <th>Train R2</th>\n",
       "      <td>0.96</td>\n",
       "    </tr>\n",
       "    <tr>\n",
       "      <th>Valid R2</th>\n",
       "      <td>0.87</td>\n",
       "    </tr>\n",
       "  </tbody>\n",
       "</table>\n",
       "</div>"
      ],
      "text/plain": [
       "              Score\n",
       "Train MAE   2875.31\n",
       "Valid MAE   6106.57\n",
       "Train RMSLE    0.14\n",
       "Valid RMSLE    0.25\n",
       "Train R2       0.96\n",
       "Valid R2       0.87"
      ]
     },
     "execution_count": 57,
     "metadata": {},
     "output_type": "execute_result"
    }
   ],
   "source": [
    "# Tuned model scores\n",
    "df_tuned_scores = pd.DataFrame(model_scores(tuned_model, X_train, X_valid, y_train, y_valid),\n",
    "                               index=['Score']).T\n",
    "\n",
    "df_tuned_scores"
   ]
  },
  {
   "cell_type": "code",
   "execution_count": 58,
   "id": "963bb83c-cf49-4a4d-a055-b8c8ec862167",
   "metadata": {},
   "outputs": [
    {
     "data": {
      "image/png": "[encoded data removed]",
      "text/plain": [
       "<Figure size 1200x500 with 3 Axes>"
      ]
     },
     "metadata": {},
     "output_type": "display_data"
    }
   ],
   "source": [
    "# Visualize tuned model scores\n",
    "fig, (ax1, ax2, ax3) = plt.subplots(nrows=1,\n",
    "                                    ncols=3,\n",
    "                                    figsize=(12, 5))\n",
    "\n",
    "MAE_score = df_tuned_scores.loc[df_tuned_scores.index.isin(['Train MAE', 'Valid MAE'])]\n",
    "RMSLE_score = df_tuned_scores.loc[df_tuned_scores.index.isin(['Train RMSLE', 'Valid RMSLE'])]\n",
    "R2_score = df_tuned_scores.loc[df_tuned_scores.index.isin(['Train R2', 'Valid R2'])]\n",
    "\n",
    "sns.barplot(data=R2_score,\n",
    "            x=R2_score.index,\n",
    "            y=R2_score['Score'],\n",
    "            hue=R2_score.index,\n",
    "            width=0.5,\n",
    "            ax=ax1)\n",
    "\n",
    "ax1.set_xlabel(None)\n",
    "ax1.set_ylabel('Value')\n",
    "ax1.set_title('R2 Score',\n",
    "             fontweight='bold')\n",
    "\n",
    "sns.barplot(data=RMSLE_score,\n",
    "            x=RMSLE_score.index,\n",
    "            y=RMSLE_score['Score'],\n",
    "            hue=RMSLE_score.index,\n",
    "            width=0.5,\n",
    "            ax=ax2)\n",
    "\n",
    "ax2.set_xlabel(None)\n",
    "ax2.set_ylabel(None)\n",
    "ax2.set_title('RMSLE',\n",
    "             fontweight='bold')\n",
    "\n",
    "sns.barplot(data=MAE_score,\n",
    "            x=MAE_score.index,\n",
    "            y=MAE_score['Score'],\n",
    "            hue=MAE_score.index,\n",
    "            width=0.5,\n",
    "            ax=ax3);\n",
    "\n",
    "ax3.set_xlabel(None)\n",
    "ax3.set_ylabel(None)\n",
    "ax3.set_title('MAE',\n",
    "             fontweight='bold');"
   ]
  },
  {
   "cell_type": "markdown",
   "id": "496d4cef-6e60-403e-9079-b7f95142240c",
   "metadata": {},
   "source": [
    "* Our tuned <b>Random Forest Regressor</b> model now yields an `RMSLE` value of approx. `0.25`.\n",
    "* We also see an improvement in the `R2 Score` and `MAE` (Mean Absolute Error) value, with approx `0.87` and `6106` respectively."
   ]
  },
  {
   "cell_type": "markdown",
   "id": "2beacfe8-cf4f-40de-bfd4-4ebfee2bb757",
   "metadata": {},
   "source": [
    "> #### 7.2. Make Predictions on Test Data"
   ]
  },
  {
   "cell_type": "code",
   "execution_count": 59,
   "id": "f0827235-b891-4f44-abe4-8bdcbc22d43d",
   "metadata": {},
   "outputs": [
    {
     "data": {
      "text/html": [
       "<div>\n",
       "<style scoped>\n",
       "    .dataframe tbody tr th:only-of-type {\n",
       "        vertical-align: middle;\n",
       "    }\n",
       "\n",
       "    .dataframe tbody tr th {\n",
       "        vertical-align: top;\n",
       "    }\n",
       "\n",
       "    .dataframe thead th {\n",
       "        text-align: right;\n",
       "    }\n",
       "</style>\n",
       "<table border=\"1\" class=\"dataframe\">\n",
       "  <thead>\n",
       "    <tr style=\"text-align: right;\">\n",
       "      <th></th>\n",
       "      <th>SalesID</th>\n",
       "      <th>MachineID</th>\n",
       "      <th>ModelID</th>\n",
       "      <th>datasource</th>\n",
       "      <th>auctioneerID</th>\n",
       "      <th>YearMade</th>\n",
       "      <th>MachineHoursCurrentMeter</th>\n",
       "      <th>UsageBand</th>\n",
       "      <th>saledate</th>\n",
       "      <th>fiModelDesc</th>\n",
       "      <th>...</th>\n",
       "      <th>Undercarriage_Pad_Width</th>\n",
       "      <th>Stick_Length</th>\n",
       "      <th>Thumb</th>\n",
       "      <th>Pattern_Changer</th>\n",
       "      <th>Grouser_Type</th>\n",
       "      <th>Backhoe_Mounting</th>\n",
       "      <th>Blade_Type</th>\n",
       "      <th>Travel_Controls</th>\n",
       "      <th>Differential_Type</th>\n",
       "      <th>Steering_Controls</th>\n",
       "    </tr>\n",
       "  </thead>\n",
       "  <tbody>\n",
       "    <tr>\n",
       "      <th>0</th>\n",
       "      <td>1227829</td>\n",
       "      <td>1006309</td>\n",
       "      <td>3168</td>\n",
       "      <td>121</td>\n",
       "      <td>3</td>\n",
       "      <td>1999</td>\n",
       "      <td>3688.00</td>\n",
       "      <td>Low</td>\n",
       "      <td>2012-05-03</td>\n",
       "      <td>580G</td>\n",
       "      <td>...</td>\n",
       "      <td>NaN</td>\n",
       "      <td>NaN</td>\n",
       "      <td>NaN</td>\n",
       "      <td>NaN</td>\n",
       "      <td>NaN</td>\n",
       "      <td>NaN</td>\n",
       "      <td>NaN</td>\n",
       "      <td>NaN</td>\n",
       "      <td>NaN</td>\n",
       "      <td>NaN</td>\n",
       "    </tr>\n",
       "    <tr>\n",
       "      <th>1</th>\n",
       "      <td>1227844</td>\n",
       "      <td>1022817</td>\n",
       "      <td>7271</td>\n",
       "      <td>121</td>\n",
       "      <td>3</td>\n",
       "      <td>1000</td>\n",
       "      <td>28555.00</td>\n",
       "      <td>High</td>\n",
       "      <td>2012-05-10</td>\n",
       "      <td>936</td>\n",
       "      <td>...</td>\n",
       "      <td>NaN</td>\n",
       "      <td>NaN</td>\n",
       "      <td>NaN</td>\n",
       "      <td>NaN</td>\n",
       "      <td>NaN</td>\n",
       "      <td>NaN</td>\n",
       "      <td>NaN</td>\n",
       "      <td>NaN</td>\n",
       "      <td>Standard</td>\n",
       "      <td>Conventional</td>\n",
       "    </tr>\n",
       "    <tr>\n",
       "      <th>2</th>\n",
       "      <td>1227847</td>\n",
       "      <td>1031560</td>\n",
       "      <td>22805</td>\n",
       "      <td>121</td>\n",
       "      <td>3</td>\n",
       "      <td>2004</td>\n",
       "      <td>6038.00</td>\n",
       "      <td>Medium</td>\n",
       "      <td>2012-05-10</td>\n",
       "      <td>EC210BLC</td>\n",
       "      <td>...</td>\n",
       "      <td>None or Unspecified</td>\n",
       "      <td>9' 6\"</td>\n",
       "      <td>Manual</td>\n",
       "      <td>None or Unspecified</td>\n",
       "      <td>Double</td>\n",
       "      <td>NaN</td>\n",
       "      <td>NaN</td>\n",
       "      <td>NaN</td>\n",
       "      <td>NaN</td>\n",
       "      <td>NaN</td>\n",
       "    </tr>\n",
       "    <tr>\n",
       "      <th>3</th>\n",
       "      <td>1227848</td>\n",
       "      <td>56204</td>\n",
       "      <td>1269</td>\n",
       "      <td>121</td>\n",
       "      <td>3</td>\n",
       "      <td>2006</td>\n",
       "      <td>8940.00</td>\n",
       "      <td>High</td>\n",
       "      <td>2012-05-10</td>\n",
       "      <td>330CL</td>\n",
       "      <td>...</td>\n",
       "      <td>None or Unspecified</td>\n",
       "      <td>None or Unspecified</td>\n",
       "      <td>Manual</td>\n",
       "      <td>Yes</td>\n",
       "      <td>Triple</td>\n",
       "      <td>NaN</td>\n",
       "      <td>NaN</td>\n",
       "      <td>NaN</td>\n",
       "      <td>NaN</td>\n",
       "      <td>NaN</td>\n",
       "    </tr>\n",
       "    <tr>\n",
       "      <th>4</th>\n",
       "      <td>1227863</td>\n",
       "      <td>1053887</td>\n",
       "      <td>22312</td>\n",
       "      <td>121</td>\n",
       "      <td>3</td>\n",
       "      <td>2005</td>\n",
       "      <td>2286.00</td>\n",
       "      <td>Low</td>\n",
       "      <td>2012-05-10</td>\n",
       "      <td>650K</td>\n",
       "      <td>...</td>\n",
       "      <td>NaN</td>\n",
       "      <td>NaN</td>\n",
       "      <td>NaN</td>\n",
       "      <td>NaN</td>\n",
       "      <td>NaN</td>\n",
       "      <td>None or Unspecified</td>\n",
       "      <td>PAT</td>\n",
       "      <td>None or Unspecified</td>\n",
       "      <td>NaN</td>\n",
       "      <td>NaN</td>\n",
       "    </tr>\n",
       "  </tbody>\n",
       "</table>\n",
       "<p>5 rows × 52 columns</p>\n",
       "</div>"
      ],
      "text/plain": [
       "   SalesID  MachineID  ModelID  datasource  auctioneerID  YearMade  \\\n",
       "0  1227829    1006309     3168         121             3      1999   \n",
       "1  1227844    1022817     7271         121             3      1000   \n",
       "2  1227847    1031560    22805         121             3      2004   \n",
       "3  1227848      56204     1269         121             3      2006   \n",
       "4  1227863    1053887    22312         121             3      2005   \n",
       "\n",
       "   MachineHoursCurrentMeter UsageBand   saledate fiModelDesc  ...  \\\n",
       "0                   3688.00       Low 2012-05-03        580G  ...   \n",
       "1                  28555.00      High 2012-05-10         936  ...   \n",
       "2                   6038.00    Medium 2012-05-10    EC210BLC  ...   \n",
       "3                   8940.00      High 2012-05-10       330CL  ...   \n",
       "4                   2286.00       Low 2012-05-10        650K  ...   \n",
       "\n",
       "  Undercarriage_Pad_Width         Stick_Length   Thumb      Pattern_Changer  \\\n",
       "0                     NaN                  NaN     NaN                  NaN   \n",
       "1                     NaN                  NaN     NaN                  NaN   \n",
       "2     None or Unspecified                9' 6\"  Manual  None or Unspecified   \n",
       "3     None or Unspecified  None or Unspecified  Manual                  Yes   \n",
       "4                     NaN                  NaN     NaN                  NaN   \n",
       "\n",
       "  Grouser_Type     Backhoe_Mounting Blade_Type      Travel_Controls  \\\n",
       "0          NaN                  NaN        NaN                  NaN   \n",
       "1          NaN                  NaN        NaN                  NaN   \n",
       "2       Double                  NaN        NaN                  NaN   \n",
       "3       Triple                  NaN        NaN                  NaN   \n",
       "4          NaN  None or Unspecified        PAT  None or Unspecified   \n",
       "\n",
       "  Differential_Type Steering_Controls  \n",
       "0               NaN               NaN  \n",
       "1          Standard      Conventional  \n",
       "2               NaN               NaN  \n",
       "3               NaN               NaN  \n",
       "4               NaN               NaN  \n",
       "\n",
       "[5 rows x 52 columns]"
      ]
     },
     "execution_count": 59,
     "metadata": {},
     "output_type": "execute_result"
    }
   ],
   "source": [
    "# Import test data\n",
    "df_test = pd.read_csv('Data/Test.csv', parse_dates=['saledate'])\n",
    "\n",
    "df_test.head(5)"
   ]
  },
  {
   "cell_type": "code",
   "execution_count": 60,
   "id": "fd12d902-e1a8-4076-8e3d-6142dc00851a",
   "metadata": {
    "scrolled": true
   },
   "outputs": [
    {
     "name": "stdout",
     "output_type": "stream",
     "text": [
      "<class 'pandas.core.frame.DataFrame'>\n",
      "RangeIndex: 12457 entries, 0 to 12456\n",
      "Data columns (total 52 columns):\n",
      " #   Column                    Non-Null Count  Dtype         \n",
      "---  ------                    --------------  -----         \n",
      " 0   SalesID                   12457 non-null  int64         \n",
      " 1   MachineID                 12457 non-null  int64         \n",
      " 2   ModelID                   12457 non-null  int64         \n",
      " 3   datasource                12457 non-null  int64         \n",
      " 4   auctioneerID              12457 non-null  int64         \n",
      " 5   YearMade                  12457 non-null  int64         \n",
      " 6   MachineHoursCurrentMeter  2129 non-null   float64       \n",
      " 7   UsageBand                 1834 non-null   object        \n",
      " 8   saledate                  12457 non-null  datetime64[ns]\n",
      " 9   fiModelDesc               12457 non-null  object        \n",
      " 10  fiBaseModel               12457 non-null  object        \n",
      " 11  fiSecondaryDesc           8482 non-null   object        \n",
      " 12  fiModelSeries             2006 non-null   object        \n",
      " 13  fiModelDescriptor         3024 non-null   object        \n",
      " 14  ProductSize               6048 non-null   object        \n",
      " 15  fiProductClassDesc        12457 non-null  object        \n",
      " 16  state                     12457 non-null  object        \n",
      " 17  ProductGroup              12457 non-null  object        \n",
      " 18  ProductGroupDesc          12457 non-null  object        \n",
      " 19  Drive_System              2759 non-null   object        \n",
      " 20  Enclosure                 12455 non-null  object        \n",
      " 21  Forks                     6308 non-null   object        \n",
      " 22  Pad_Type                  2108 non-null   object        \n",
      " 23  Ride_Control              4241 non-null   object        \n",
      " 24  Stick                     2108 non-null   object        \n",
      " 25  Transmission              4818 non-null   object        \n",
      " 26  Turbocharged              2108 non-null   object        \n",
      " 27  Blade_Extension           651 non-null    object        \n",
      " 28  Blade_Width               651 non-null    object        \n",
      " 29  Enclosure_Type            651 non-null    object        \n",
      " 30  Engine_Horsepower         651 non-null    object        \n",
      " 31  Hydraulics                10315 non-null  object        \n",
      " 32  Pushblock                 651 non-null    object        \n",
      " 33  Ripper                    2704 non-null   object        \n",
      " 34  Scarifier                 651 non-null    object        \n",
      " 35  Tip_Control               651 non-null    object        \n",
      " 36  Tire_Size                 2778 non-null   object        \n",
      " 37  Coupler                   7601 non-null   object        \n",
      " 38  Coupler_System            2066 non-null   object        \n",
      " 39  Grouser_Tracks            2066 non-null   object        \n",
      " 40  Hydraulics_Flow           2066 non-null   object        \n",
      " 41  Track_Type                3394 non-null   object        \n",
      " 42  Undercarriage_Pad_Width   3398 non-null   object        \n",
      " 43  Stick_Length              3394 non-null   object        \n",
      " 44  Thumb                     3395 non-null   object        \n",
      " 45  Pattern_Changer           3394 non-null   object        \n",
      " 46  Grouser_Type              3394 non-null   object        \n",
      " 47  Backhoe_Mounting          2051 non-null   object        \n",
      " 48  Blade_Type                2058 non-null   object        \n",
      " 49  Travel_Controls           2058 non-null   object        \n",
      " 50  Differential_Type         2129 non-null   object        \n",
      " 51  Steering_Controls         2129 non-null   object        \n",
      "dtypes: datetime64[ns](1), float64(1), int64(6), object(44)\n",
      "memory usage: 4.9+ MB\n"
     ]
    }
   ],
   "source": [
    "df_test.info()"
   ]
  },
  {
   "cell_type": "code",
   "execution_count": 61,
   "id": "6a360b0a-a2e0-4c0a-8add-b11947ad8bfa",
   "metadata": {},
   "outputs": [
    {
     "data": {
      "text/plain": [
       "(12457, 52)"
      ]
     },
     "execution_count": 61,
     "metadata": {},
     "output_type": "execute_result"
    }
   ],
   "source": [
    "df_test.shape"
   ]
  },
  {
   "cell_type": "code",
   "execution_count": 62,
   "id": "d664d2da-689d-47f5-9a7f-af42ca2d8058",
   "metadata": {
    "scrolled": true
   },
   "outputs": [
    {
     "data": {
      "text/plain": [
       "SalesID                     0.00\n",
       "MachineID                   0.00\n",
       "ModelID                     0.00\n",
       "datasource                  0.00\n",
       "auctioneerID                0.00\n",
       "YearMade                    0.00\n",
       "MachineHoursCurrentMeter   82.91\n",
       "UsageBand                  85.28\n",
       "saledate                    0.00\n",
       "fiModelDesc                 0.00\n",
       "fiBaseModel                 0.00\n",
       "fiSecondaryDesc            31.91\n",
       "fiModelSeries              83.90\n",
       "fiModelDescriptor          75.72\n",
       "ProductSize                51.45\n",
       "fiProductClassDesc          0.00\n",
       "state                       0.00\n",
       "ProductGroup                0.00\n",
       "ProductGroupDesc            0.00\n",
       "Drive_System               77.85\n",
       "Enclosure                   0.02\n",
       "Forks                      49.36\n",
       "Pad_Type                   83.08\n",
       "Ride_Control               65.95\n",
       "Stick                      83.08\n",
       "Transmission               61.32\n",
       "Turbocharged               83.08\n",
       "Blade_Extension            94.77\n",
       "Blade_Width                94.77\n",
       "Enclosure_Type             94.77\n",
       "Engine_Horsepower          94.77\n",
       "Hydraulics                 17.20\n",
       "Pushblock                  94.77\n",
       "Ripper                     78.29\n",
       "Scarifier                  94.77\n",
       "Tip_Control                94.77\n",
       "Tire_Size                  77.70\n",
       "Coupler                    38.98\n",
       "Coupler_System             83.41\n",
       "Grouser_Tracks             83.41\n",
       "Hydraulics_Flow            83.41\n",
       "Track_Type                 72.75\n",
       "Undercarriage_Pad_Width    72.72\n",
       "Stick_Length               72.75\n",
       "Thumb                      72.75\n",
       "Pattern_Changer            72.75\n",
       "Grouser_Type               72.75\n",
       "Backhoe_Mounting           83.54\n",
       "Blade_Type                 83.48\n",
       "Travel_Controls            83.48\n",
       "Differential_Type          82.91\n",
       "Steering_Controls          82.91\n",
       "dtype: float64"
      ]
     },
     "execution_count": 62,
     "metadata": {},
     "output_type": "execute_result"
    }
   ],
   "source": [
    "# Check nulls percentage\n",
    "test_nulls_perc = df_test.isna().sum() / len(df_test) * 100\n",
    "\n",
    "test_nulls_perc"
   ]
  },
  {
   "cell_type": "code",
   "execution_count": 63,
   "id": "ee6dbca3-9b6e-457e-b2d3-9b488ce2afe4",
   "metadata": {},
   "outputs": [
    {
     "data": {
      "text/plain": [
       "Index(['SalesID', 'SalePrice', 'MachineID', 'ModelID', 'datasource',\n",
       "       'auctioneerID', 'YearMade', 'MachineHoursCurrentMeter', 'UsageBand',\n",
       "       'fiModelDesc',\n",
       "       ...\n",
       "       'Undercarriage_Pad_Width_is_missing', 'Stick_Length_is_missing',\n",
       "       'Thumb_is_missing', 'Pattern_Changer_is_missing',\n",
       "       'Grouser_Type_is_missing', 'Backhoe_Mounting_is_missing',\n",
       "       'Blade_Type_is_missing', 'Travel_Controls_is_missing',\n",
       "       'Differential_Type_is_missing', 'Steering_Controls_is_missing'],\n",
       "      dtype='object', length=101)"
      ]
     },
     "execution_count": 63,
     "metadata": {},
     "output_type": "execute_result"
    }
   ],
   "source": [
    "df_copy.columns"
   ]
  },
  {
   "cell_type": "markdown",
   "id": "02c5dbff-7317-489b-a34d-f5b656153b48",
   "metadata": {},
   "source": [
    "We can see that the test dataset is not <u>in the same format</u> as the train and valid dataset. In order to make predictions on the test dataset, we need to <b>standardize</b> it."
   ]
  },
  {
   "cell_type": "code",
   "execution_count": 64,
   "id": "fad99b1b-0675-4d3f-8bf6-013727679a32",
   "metadata": {},
   "outputs": [],
   "source": [
    "# Impute Enclosure missing values with the mode\n",
    "df_test['Enclosure'] = df_test['Enclosure'].fillna(df_test['Enclosure'].mode()[0])"
   ]
  },
  {
   "cell_type": "code",
   "execution_count": 65,
   "id": "9615d337-59e8-4bc7-87ff-58377d878f74",
   "metadata": {},
   "outputs": [],
   "source": [
    "# Create a preprocessing function\n",
    "def preprocess_data(df):\n",
    "    # Replace invalid year of manufacture with median\n",
    "    df['YearMade'] = df['YearMade'].replace([1000, 2014, 2013], df_copy['YearMade'].median())\n",
    "    \n",
    "    # Derive year and month columns\n",
    "    df['SaleDay'] = df['saledate'].dt.day\n",
    "    df['SaleMonth'] = df['saledate'].dt.month\n",
    "    df['SaleYear'] = df['saledate'].dt.year\n",
    "\n",
    "    # Drop saledate column\n",
    "    df = df.drop(columns='saledate', axis=1)\n",
    "\n",
    "    # Fill missing numerical values\n",
    "    for col in df.columns:\n",
    "        if pd.api.types.is_numeric_dtype(df[col]):\n",
    "            if df[col].isna().sum():\n",
    "                df[col + '_is_missing'] = df[col].isna()\n",
    "                df[col] = df[col].fillna(df[col].median())\n",
    "\n",
    "    # Cast object columns to category\n",
    "    obj_cols = df.select_dtypes(include=[object]).columns\n",
    "    df[obj_cols] = df[obj_cols].astype('category')\n",
    "\n",
    "    # Encode categorical values \n",
    "    for col in df.columns:\n",
    "        if pd.api.types.is_categorical_dtype(df[col]):\n",
    "            df[col + '_is_missing'] = df[col].isna()\n",
    "            df[col] = df[col].cat.codes + 1\n",
    "\n",
    "    return df"
   ]
  },
  {
   "cell_type": "code",
   "execution_count": 66,
   "id": "c7572c17-6c21-4c6d-a2e6-c09c47132678",
   "metadata": {
    "scrolled": true
   },
   "outputs": [
    {
     "name": "stderr",
     "output_type": "stream",
     "text": [
      "C:\\Users\\t_aym\\AppData\\Local\\Temp\\ipykernel_6560\\2613267234.py:27: DeprecationWarning: is_categorical_dtype is deprecated and will be removed in a future version. Use isinstance(dtype, pd.CategoricalDtype) instead\n",
      "  if pd.api.types.is_categorical_dtype(df[col]):\n",
      "C:\\Users\\t_aym\\AppData\\Local\\Temp\\ipykernel_6560\\2613267234.py:27: DeprecationWarning: is_categorical_dtype is deprecated and will be removed in a future version. Use isinstance(dtype, pd.CategoricalDtype) instead\n",
      "  if pd.api.types.is_categorical_dtype(df[col]):\n",
      "C:\\Users\\t_aym\\AppData\\Local\\Temp\\ipykernel_6560\\2613267234.py:27: DeprecationWarning: is_categorical_dtype is deprecated and will be removed in a future version. Use isinstance(dtype, pd.CategoricalDtype) instead\n",
      "  if pd.api.types.is_categorical_dtype(df[col]):\n",
      "C:\\Users\\t_aym\\AppData\\Local\\Temp\\ipykernel_6560\\2613267234.py:27: DeprecationWarning: is_categorical_dtype is deprecated and will be removed in a future version. Use isinstance(dtype, pd.CategoricalDtype) instead\n",
      "  if pd.api.types.is_categorical_dtype(df[col]):\n",
      "C:\\Users\\t_aym\\AppData\\Local\\Temp\\ipykernel_6560\\2613267234.py:27: DeprecationWarning: is_categorical_dtype is deprecated and will be removed in a future version. Use isinstance(dtype, pd.CategoricalDtype) instead\n",
      "  if pd.api.types.is_categorical_dtype(df[col]):\n",
      "C:\\Users\\t_aym\\AppData\\Local\\Temp\\ipykernel_6560\\2613267234.py:27: DeprecationWarning: is_categorical_dtype is deprecated and will be removed in a future version. Use isinstance(dtype, pd.CategoricalDtype) instead\n",
      "  if pd.api.types.is_categorical_dtype(df[col]):\n",
      "C:\\Users\\t_aym\\AppData\\Local\\Temp\\ipykernel_6560\\2613267234.py:27: DeprecationWarning: is_categorical_dtype is deprecated and will be removed in a future version. Use isinstance(dtype, pd.CategoricalDtype) instead\n",
      "  if pd.api.types.is_categorical_dtype(df[col]):\n",
      "C:\\Users\\t_aym\\AppData\\Local\\Temp\\ipykernel_6560\\2613267234.py:27: DeprecationWarning: is_categorical_dtype is deprecated and will be removed in a future version. Use isinstance(dtype, pd.CategoricalDtype) instead\n",
      "  if pd.api.types.is_categorical_dtype(df[col]):\n",
      "C:\\Users\\t_aym\\AppData\\Local\\Temp\\ipykernel_6560\\2613267234.py:27: DeprecationWarning: is_categorical_dtype is deprecated and will be removed in a future version. Use isinstance(dtype, pd.CategoricalDtype) instead\n",
      "  if pd.api.types.is_categorical_dtype(df[col]):\n",
      "C:\\Users\\t_aym\\AppData\\Local\\Temp\\ipykernel_6560\\2613267234.py:27: DeprecationWarning: is_categorical_dtype is deprecated and will be removed in a future version. Use isinstance(dtype, pd.CategoricalDtype) instead\n",
      "  if pd.api.types.is_categorical_dtype(df[col]):\n",
      "C:\\Users\\t_aym\\AppData\\Local\\Temp\\ipykernel_6560\\2613267234.py:27: DeprecationWarning: is_categorical_dtype is deprecated and will be removed in a future version. Use isinstance(dtype, pd.CategoricalDtype) instead\n",
      "  if pd.api.types.is_categorical_dtype(df[col]):\n",
      "C:\\Users\\t_aym\\AppData\\Local\\Temp\\ipykernel_6560\\2613267234.py:27: DeprecationWarning: is_categorical_dtype is deprecated and will be removed in a future version. Use isinstance(dtype, pd.CategoricalDtype) instead\n",
      "  if pd.api.types.is_categorical_dtype(df[col]):\n",
      "C:\\Users\\t_aym\\AppData\\Local\\Temp\\ipykernel_6560\\2613267234.py:27: DeprecationWarning: is_categorical_dtype is deprecated and will be removed in a future version. Use isinstance(dtype, pd.CategoricalDtype) instead\n",
      "  if pd.api.types.is_categorical_dtype(df[col]):\n",
      "C:\\Users\\t_aym\\AppData\\Local\\Temp\\ipykernel_6560\\2613267234.py:27: DeprecationWarning: is_categorical_dtype is deprecated and will be removed in a future version. Use isinstance(dtype, pd.CategoricalDtype) instead\n",
      "  if pd.api.types.is_categorical_dtype(df[col]):\n",
      "C:\\Users\\t_aym\\AppData\\Local\\Temp\\ipykernel_6560\\2613267234.py:27: DeprecationWarning: is_categorical_dtype is deprecated and will be removed in a future version. Use isinstance(dtype, pd.CategoricalDtype) instead\n",
      "  if pd.api.types.is_categorical_dtype(df[col]):\n",
      "C:\\Users\\t_aym\\AppData\\Local\\Temp\\ipykernel_6560\\2613267234.py:27: DeprecationWarning: is_categorical_dtype is deprecated and will be removed in a future version. Use isinstance(dtype, pd.CategoricalDtype) instead\n",
      "  if pd.api.types.is_categorical_dtype(df[col]):\n",
      "C:\\Users\\t_aym\\AppData\\Local\\Temp\\ipykernel_6560\\2613267234.py:27: DeprecationWarning: is_categorical_dtype is deprecated and will be removed in a future version. Use isinstance(dtype, pd.CategoricalDtype) instead\n",
      "  if pd.api.types.is_categorical_dtype(df[col]):\n",
      "C:\\Users\\t_aym\\AppData\\Local\\Temp\\ipykernel_6560\\2613267234.py:27: DeprecationWarning: is_categorical_dtype is deprecated and will be removed in a future version. Use isinstance(dtype, pd.CategoricalDtype) instead\n",
      "  if pd.api.types.is_categorical_dtype(df[col]):\n",
      "C:\\Users\\t_aym\\AppData\\Local\\Temp\\ipykernel_6560\\2613267234.py:27: DeprecationWarning: is_categorical_dtype is deprecated and will be removed in a future version. Use isinstance(dtype, pd.CategoricalDtype) instead\n",
      "  if pd.api.types.is_categorical_dtype(df[col]):\n",
      "C:\\Users\\t_aym\\AppData\\Local\\Temp\\ipykernel_6560\\2613267234.py:27: DeprecationWarning: is_categorical_dtype is deprecated and will be removed in a future version. Use isinstance(dtype, pd.CategoricalDtype) instead\n",
      "  if pd.api.types.is_categorical_dtype(df[col]):\n",
      "C:\\Users\\t_aym\\AppData\\Local\\Temp\\ipykernel_6560\\2613267234.py:27: DeprecationWarning: is_categorical_dtype is deprecated and will be removed in a future version. Use isinstance(dtype, pd.CategoricalDtype) instead\n",
      "  if pd.api.types.is_categorical_dtype(df[col]):\n",
      "C:\\Users\\t_aym\\AppData\\Local\\Temp\\ipykernel_6560\\2613267234.py:27: DeprecationWarning: is_categorical_dtype is deprecated and will be removed in a future version. Use isinstance(dtype, pd.CategoricalDtype) instead\n",
      "  if pd.api.types.is_categorical_dtype(df[col]):\n",
      "C:\\Users\\t_aym\\AppData\\Local\\Temp\\ipykernel_6560\\2613267234.py:27: DeprecationWarning: is_categorical_dtype is deprecated and will be removed in a future version. Use isinstance(dtype, pd.CategoricalDtype) instead\n",
      "  if pd.api.types.is_categorical_dtype(df[col]):\n",
      "C:\\Users\\t_aym\\AppData\\Local\\Temp\\ipykernel_6560\\2613267234.py:27: DeprecationWarning: is_categorical_dtype is deprecated and will be removed in a future version. Use isinstance(dtype, pd.CategoricalDtype) instead\n",
      "  if pd.api.types.is_categorical_dtype(df[col]):\n",
      "C:\\Users\\t_aym\\AppData\\Local\\Temp\\ipykernel_6560\\2613267234.py:27: DeprecationWarning: is_categorical_dtype is deprecated and will be removed in a future version. Use isinstance(dtype, pd.CategoricalDtype) instead\n",
      "  if pd.api.types.is_categorical_dtype(df[col]):\n",
      "C:\\Users\\t_aym\\AppData\\Local\\Temp\\ipykernel_6560\\2613267234.py:27: DeprecationWarning: is_categorical_dtype is deprecated and will be removed in a future version. Use isinstance(dtype, pd.CategoricalDtype) instead\n",
      "  if pd.api.types.is_categorical_dtype(df[col]):\n",
      "C:\\Users\\t_aym\\AppData\\Local\\Temp\\ipykernel_6560\\2613267234.py:27: DeprecationWarning: is_categorical_dtype is deprecated and will be removed in a future version. Use isinstance(dtype, pd.CategoricalDtype) instead\n",
      "  if pd.api.types.is_categorical_dtype(df[col]):\n",
      "C:\\Users\\t_aym\\AppData\\Local\\Temp\\ipykernel_6560\\2613267234.py:27: DeprecationWarning: is_categorical_dtype is deprecated and will be removed in a future version. Use isinstance(dtype, pd.CategoricalDtype) instead\n",
      "  if pd.api.types.is_categorical_dtype(df[col]):\n",
      "C:\\Users\\t_aym\\AppData\\Local\\Temp\\ipykernel_6560\\2613267234.py:27: DeprecationWarning: is_categorical_dtype is deprecated and will be removed in a future version. Use isinstance(dtype, pd.CategoricalDtype) instead\n",
      "  if pd.api.types.is_categorical_dtype(df[col]):\n",
      "C:\\Users\\t_aym\\AppData\\Local\\Temp\\ipykernel_6560\\2613267234.py:27: DeprecationWarning: is_categorical_dtype is deprecated and will be removed in a future version. Use isinstance(dtype, pd.CategoricalDtype) instead\n",
      "  if pd.api.types.is_categorical_dtype(df[col]):\n",
      "C:\\Users\\t_aym\\AppData\\Local\\Temp\\ipykernel_6560\\2613267234.py:27: DeprecationWarning: is_categorical_dtype is deprecated and will be removed in a future version. Use isinstance(dtype, pd.CategoricalDtype) instead\n",
      "  if pd.api.types.is_categorical_dtype(df[col]):\n",
      "C:\\Users\\t_aym\\AppData\\Local\\Temp\\ipykernel_6560\\2613267234.py:27: DeprecationWarning: is_categorical_dtype is deprecated and will be removed in a future version. Use isinstance(dtype, pd.CategoricalDtype) instead\n",
      "  if pd.api.types.is_categorical_dtype(df[col]):\n",
      "C:\\Users\\t_aym\\AppData\\Local\\Temp\\ipykernel_6560\\2613267234.py:27: DeprecationWarning: is_categorical_dtype is deprecated and will be removed in a future version. Use isinstance(dtype, pd.CategoricalDtype) instead\n",
      "  if pd.api.types.is_categorical_dtype(df[col]):\n",
      "C:\\Users\\t_aym\\AppData\\Local\\Temp\\ipykernel_6560\\2613267234.py:27: DeprecationWarning: is_categorical_dtype is deprecated and will be removed in a future version. Use isinstance(dtype, pd.CategoricalDtype) instead\n",
      "  if pd.api.types.is_categorical_dtype(df[col]):\n",
      "C:\\Users\\t_aym\\AppData\\Local\\Temp\\ipykernel_6560\\2613267234.py:27: DeprecationWarning: is_categorical_dtype is deprecated and will be removed in a future version. Use isinstance(dtype, pd.CategoricalDtype) instead\n",
      "  if pd.api.types.is_categorical_dtype(df[col]):\n",
      "C:\\Users\\t_aym\\AppData\\Local\\Temp\\ipykernel_6560\\2613267234.py:27: DeprecationWarning: is_categorical_dtype is deprecated and will be removed in a future version. Use isinstance(dtype, pd.CategoricalDtype) instead\n",
      "  if pd.api.types.is_categorical_dtype(df[col]):\n",
      "C:\\Users\\t_aym\\AppData\\Local\\Temp\\ipykernel_6560\\2613267234.py:27: DeprecationWarning: is_categorical_dtype is deprecated and will be removed in a future version. Use isinstance(dtype, pd.CategoricalDtype) instead\n",
      "  if pd.api.types.is_categorical_dtype(df[col]):\n",
      "C:\\Users\\t_aym\\AppData\\Local\\Temp\\ipykernel_6560\\2613267234.py:27: DeprecationWarning: is_categorical_dtype is deprecated and will be removed in a future version. Use isinstance(dtype, pd.CategoricalDtype) instead\n",
      "  if pd.api.types.is_categorical_dtype(df[col]):\n",
      "C:\\Users\\t_aym\\AppData\\Local\\Temp\\ipykernel_6560\\2613267234.py:27: DeprecationWarning: is_categorical_dtype is deprecated and will be removed in a future version. Use isinstance(dtype, pd.CategoricalDtype) instead\n",
      "  if pd.api.types.is_categorical_dtype(df[col]):\n",
      "C:\\Users\\t_aym\\AppData\\Local\\Temp\\ipykernel_6560\\2613267234.py:27: DeprecationWarning: is_categorical_dtype is deprecated and will be removed in a future version. Use isinstance(dtype, pd.CategoricalDtype) instead\n",
      "  if pd.api.types.is_categorical_dtype(df[col]):\n",
      "C:\\Users\\t_aym\\AppData\\Local\\Temp\\ipykernel_6560\\2613267234.py:27: DeprecationWarning: is_categorical_dtype is deprecated and will be removed in a future version. Use isinstance(dtype, pd.CategoricalDtype) instead\n",
      "  if pd.api.types.is_categorical_dtype(df[col]):\n",
      "C:\\Users\\t_aym\\AppData\\Local\\Temp\\ipykernel_6560\\2613267234.py:27: DeprecationWarning: is_categorical_dtype is deprecated and will be removed in a future version. Use isinstance(dtype, pd.CategoricalDtype) instead\n",
      "  if pd.api.types.is_categorical_dtype(df[col]):\n",
      "C:\\Users\\t_aym\\AppData\\Local\\Temp\\ipykernel_6560\\2613267234.py:27: DeprecationWarning: is_categorical_dtype is deprecated and will be removed in a future version. Use isinstance(dtype, pd.CategoricalDtype) instead\n",
      "  if pd.api.types.is_categorical_dtype(df[col]):\n",
      "C:\\Users\\t_aym\\AppData\\Local\\Temp\\ipykernel_6560\\2613267234.py:27: DeprecationWarning: is_categorical_dtype is deprecated and will be removed in a future version. Use isinstance(dtype, pd.CategoricalDtype) instead\n",
      "  if pd.api.types.is_categorical_dtype(df[col]):\n",
      "C:\\Users\\t_aym\\AppData\\Local\\Temp\\ipykernel_6560\\2613267234.py:27: DeprecationWarning: is_categorical_dtype is deprecated and will be removed in a future version. Use isinstance(dtype, pd.CategoricalDtype) instead\n",
      "  if pd.api.types.is_categorical_dtype(df[col]):\n"
     ]
    },
    {
     "data": {
      "text/html": [
       "<div>\n",
       "<style scoped>\n",
       "    .dataframe tbody tr th:only-of-type {\n",
       "        vertical-align: middle;\n",
       "    }\n",
       "\n",
       "    .dataframe tbody tr th {\n",
       "        vertical-align: top;\n",
       "    }\n",
       "\n",
       "    .dataframe thead th {\n",
       "        text-align: right;\n",
       "    }\n",
       "</style>\n",
       "<table border=\"1\" class=\"dataframe\">\n",
       "  <thead>\n",
       "    <tr style=\"text-align: right;\">\n",
       "      <th></th>\n",
       "      <th>SalesID</th>\n",
       "      <th>MachineID</th>\n",
       "      <th>ModelID</th>\n",
       "      <th>datasource</th>\n",
       "      <th>auctioneerID</th>\n",
       "      <th>YearMade</th>\n",
       "      <th>MachineHoursCurrentMeter</th>\n",
       "      <th>UsageBand</th>\n",
       "      <th>fiModelDesc</th>\n",
       "      <th>fiBaseModel</th>\n",
       "      <th>...</th>\n",
       "      <th>Undercarriage_Pad_Width_is_missing</th>\n",
       "      <th>Stick_Length_is_missing</th>\n",
       "      <th>Thumb_is_missing</th>\n",
       "      <th>Pattern_Changer_is_missing</th>\n",
       "      <th>Grouser_Type_is_missing</th>\n",
       "      <th>Backhoe_Mounting_is_missing</th>\n",
       "      <th>Blade_Type_is_missing</th>\n",
       "      <th>Travel_Controls_is_missing</th>\n",
       "      <th>Differential_Type_is_missing</th>\n",
       "      <th>Steering_Controls_is_missing</th>\n",
       "    </tr>\n",
       "  </thead>\n",
       "  <tbody>\n",
       "    <tr>\n",
       "      <th>0</th>\n",
       "      <td>1227829</td>\n",
       "      <td>1006309</td>\n",
       "      <td>3168</td>\n",
       "      <td>121</td>\n",
       "      <td>3</td>\n",
       "      <td>1999</td>\n",
       "      <td>3688.00</td>\n",
       "      <td>2</td>\n",
       "      <td>499</td>\n",
       "      <td>180</td>\n",
       "      <td>...</td>\n",
       "      <td>True</td>\n",
       "      <td>True</td>\n",
       "      <td>True</td>\n",
       "      <td>True</td>\n",
       "      <td>True</td>\n",
       "      <td>True</td>\n",
       "      <td>True</td>\n",
       "      <td>True</td>\n",
       "      <td>True</td>\n",
       "      <td>True</td>\n",
       "    </tr>\n",
       "    <tr>\n",
       "      <th>1</th>\n",
       "      <td>1227844</td>\n",
       "      <td>1022817</td>\n",
       "      <td>7271</td>\n",
       "      <td>121</td>\n",
       "      <td>3</td>\n",
       "      <td>1995</td>\n",
       "      <td>28555.00</td>\n",
       "      <td>1</td>\n",
       "      <td>831</td>\n",
       "      <td>292</td>\n",
       "      <td>...</td>\n",
       "      <td>True</td>\n",
       "      <td>True</td>\n",
       "      <td>True</td>\n",
       "      <td>True</td>\n",
       "      <td>True</td>\n",
       "      <td>True</td>\n",
       "      <td>True</td>\n",
       "      <td>True</td>\n",
       "      <td>False</td>\n",
       "      <td>False</td>\n",
       "    </tr>\n",
       "    <tr>\n",
       "      <th>2</th>\n",
       "      <td>1227847</td>\n",
       "      <td>1031560</td>\n",
       "      <td>22805</td>\n",
       "      <td>121</td>\n",
       "      <td>3</td>\n",
       "      <td>2004</td>\n",
       "      <td>6038.00</td>\n",
       "      <td>3</td>\n",
       "      <td>1177</td>\n",
       "      <td>404</td>\n",
       "      <td>...</td>\n",
       "      <td>False</td>\n",
       "      <td>False</td>\n",
       "      <td>False</td>\n",
       "      <td>False</td>\n",
       "      <td>False</td>\n",
       "      <td>True</td>\n",
       "      <td>True</td>\n",
       "      <td>True</td>\n",
       "      <td>True</td>\n",
       "      <td>True</td>\n",
       "    </tr>\n",
       "    <tr>\n",
       "      <th>3</th>\n",
       "      <td>1227848</td>\n",
       "      <td>56204</td>\n",
       "      <td>1269</td>\n",
       "      <td>121</td>\n",
       "      <td>3</td>\n",
       "      <td>2006</td>\n",
       "      <td>8940.00</td>\n",
       "      <td>1</td>\n",
       "      <td>287</td>\n",
       "      <td>113</td>\n",
       "      <td>...</td>\n",
       "      <td>False</td>\n",
       "      <td>False</td>\n",
       "      <td>False</td>\n",
       "      <td>False</td>\n",
       "      <td>False</td>\n",
       "      <td>True</td>\n",
       "      <td>True</td>\n",
       "      <td>True</td>\n",
       "      <td>True</td>\n",
       "      <td>True</td>\n",
       "    </tr>\n",
       "    <tr>\n",
       "      <th>4</th>\n",
       "      <td>1227863</td>\n",
       "      <td>1053887</td>\n",
       "      <td>22312</td>\n",
       "      <td>121</td>\n",
       "      <td>3</td>\n",
       "      <td>2005</td>\n",
       "      <td>2286.00</td>\n",
       "      <td>2</td>\n",
       "      <td>566</td>\n",
       "      <td>196</td>\n",
       "      <td>...</td>\n",
       "      <td>True</td>\n",
       "      <td>True</td>\n",
       "      <td>True</td>\n",
       "      <td>True</td>\n",
       "      <td>True</td>\n",
       "      <td>False</td>\n",
       "      <td>False</td>\n",
       "      <td>False</td>\n",
       "      <td>True</td>\n",
       "      <td>True</td>\n",
       "    </tr>\n",
       "  </tbody>\n",
       "</table>\n",
       "<p>5 rows × 99 columns</p>\n",
       "</div>"
      ],
      "text/plain": [
       "   SalesID  MachineID  ModelID  datasource  auctioneerID  YearMade  \\\n",
       "0  1227829    1006309     3168         121             3      1999   \n",
       "1  1227844    1022817     7271         121             3      1995   \n",
       "2  1227847    1031560    22805         121             3      2004   \n",
       "3  1227848      56204     1269         121             3      2006   \n",
       "4  1227863    1053887    22312         121             3      2005   \n",
       "\n",
       "   MachineHoursCurrentMeter  UsageBand  fiModelDesc  fiBaseModel  ...  \\\n",
       "0                   3688.00          2          499          180  ...   \n",
       "1                  28555.00          1          831          292  ...   \n",
       "2                   6038.00          3         1177          404  ...   \n",
       "3                   8940.00          1          287          113  ...   \n",
       "4                   2286.00          2          566          196  ...   \n",
       "\n",
       "   Undercarriage_Pad_Width_is_missing  Stick_Length_is_missing  \\\n",
       "0                                True                     True   \n",
       "1                                True                     True   \n",
       "2                               False                    False   \n",
       "3                               False                    False   \n",
       "4                                True                     True   \n",
       "\n",
       "   Thumb_is_missing  Pattern_Changer_is_missing  Grouser_Type_is_missing  \\\n",
       "0              True                        True                     True   \n",
       "1              True                        True                     True   \n",
       "2             False                       False                    False   \n",
       "3             False                       False                    False   \n",
       "4              True                        True                     True   \n",
       "\n",
       "   Backhoe_Mounting_is_missing  Blade_Type_is_missing  \\\n",
       "0                         True                   True   \n",
       "1                         True                   True   \n",
       "2                         True                   True   \n",
       "3                         True                   True   \n",
       "4                        False                  False   \n",
       "\n",
       "   Travel_Controls_is_missing  Differential_Type_is_missing  \\\n",
       "0                        True                          True   \n",
       "1                        True                         False   \n",
       "2                        True                          True   \n",
       "3                        True                          True   \n",
       "4                       False                          True   \n",
       "\n",
       "   Steering_Controls_is_missing  \n",
       "0                          True  \n",
       "1                         False  \n",
       "2                          True  \n",
       "3                          True  \n",
       "4                          True  \n",
       "\n",
       "[5 rows x 99 columns]"
      ]
     },
     "execution_count": 66,
     "metadata": {},
     "output_type": "execute_result"
    }
   ],
   "source": [
    "X_test = preprocess_data(df_test)\n",
    "X_test.head()"
   ]
  },
  {
   "cell_type": "code",
   "execution_count": 67,
   "id": "6e86a459-c80f-4d47-a653-cb40464a5aa1",
   "metadata": {},
   "outputs": [
    {
     "data": {
      "text/plain": [
       "0"
      ]
     },
     "execution_count": 67,
     "metadata": {},
     "output_type": "execute_result"
    }
   ],
   "source": [
    "X_test.isna().sum().sum()"
   ]
  },
  {
   "cell_type": "code",
   "execution_count": 68,
   "id": "28b78c3e-45a0-47bc-9ce4-80d387b730c1",
   "metadata": {},
   "outputs": [],
   "source": [
    "# Add auctioneerID_is_missing column to test set\n",
    "X_test['auctioneerID_is_missing'] = False"
   ]
  },
  {
   "cell_type": "code",
   "execution_count": 69,
   "id": "93790745-3278-41ac-a075-379283a2f3b7",
   "metadata": {},
   "outputs": [
    {
     "data": {
      "text/plain": [
       "(12457, 100)"
      ]
     },
     "execution_count": 69,
     "metadata": {},
     "output_type": "execute_result"
    }
   ],
   "source": [
    "X_test.shape"
   ]
  },
  {
   "cell_type": "code",
   "execution_count": 70,
   "id": "d15487e7-8511-44fd-96eb-920924bb2b41",
   "metadata": {},
   "outputs": [],
   "source": [
    "X_test = X_test.reindex(X_train.columns, axis=1)"
   ]
  },
  {
   "cell_type": "code",
   "execution_count": 71,
   "id": "69c7fd60-c674-4f1d-aed8-fb4bd127a192",
   "metadata": {},
   "outputs": [],
   "source": [
    "# Reorder test set\n",
    "X_test = X_test[X_train.columns]"
   ]
  },
  {
   "cell_type": "code",
   "execution_count": 72,
   "id": "2d7dbd32-f8c7-490b-8d7f-1811f4f8e1db",
   "metadata": {
    "scrolled": true
   },
   "outputs": [
    {
     "data": {
      "text/plain": [
       "Index(['SalesID', 'MachineID', 'ModelID', 'datasource', 'auctioneerID',\n",
       "       'YearMade', 'MachineHoursCurrentMeter', 'UsageBand', 'fiModelDesc',\n",
       "       'fiBaseModel', 'fiSecondaryDesc', 'fiModelSeries', 'fiModelDescriptor',\n",
       "       'ProductSize', 'fiProductClassDesc', 'state', 'ProductGroup',\n",
       "       'ProductGroupDesc', 'Drive_System', 'Enclosure', 'Forks', 'Pad_Type',\n",
       "       'Ride_Control', 'Stick', 'Transmission', 'Turbocharged',\n",
       "       'Blade_Extension', 'Blade_Width', 'Enclosure_Type', 'Engine_Horsepower',\n",
       "       'Hydraulics', 'Pushblock', 'Ripper', 'Scarifier', 'Tip_Control',\n",
       "       'Tire_Size', 'Coupler', 'Coupler_System', 'Grouser_Tracks',\n",
       "       'Hydraulics_Flow', 'Track_Type', 'Undercarriage_Pad_Width',\n",
       "       'Stick_Length', 'Thumb', 'Pattern_Changer', 'Grouser_Type',\n",
       "       'Backhoe_Mounting', 'Blade_Type', 'Travel_Controls',\n",
       "       'Differential_Type', 'Steering_Controls', 'SaleDay', 'SaleMonth',\n",
       "       'SaleYear', 'auctioneerID_is_missing',\n",
       "       'MachineHoursCurrentMeter_is_missing', 'UsageBand_is_missing',\n",
       "       'fiModelDesc_is_missing', 'fiBaseModel_is_missing',\n",
       "       'fiSecondaryDesc_is_missing', 'fiModelSeries_is_missing',\n",
       "       'fiModelDescriptor_is_missing', 'ProductSize_is_missing',\n",
       "       'fiProductClassDesc_is_missing', 'state_is_missing',\n",
       "       'ProductGroup_is_missing', 'ProductGroupDesc_is_missing',\n",
       "       'Drive_System_is_missing', 'Enclosure_is_missing', 'Forks_is_missing',\n",
       "       'Pad_Type_is_missing', 'Ride_Control_is_missing', 'Stick_is_missing',\n",
       "       'Transmission_is_missing', 'Turbocharged_is_missing',\n",
       "       'Blade_Extension_is_missing', 'Blade_Width_is_missing',\n",
       "       'Enclosure_Type_is_missing', 'Engine_Horsepower_is_missing',\n",
       "       'Hydraulics_is_missing', 'Pushblock_is_missing', 'Ripper_is_missing',\n",
       "       'Scarifier_is_missing', 'Tip_Control_is_missing',\n",
       "       'Tire_Size_is_missing', 'Coupler_is_missing',\n",
       "       'Coupler_System_is_missing', 'Grouser_Tracks_is_missing',\n",
       "       'Hydraulics_Flow_is_missing', 'Track_Type_is_missing',\n",
       "       'Undercarriage_Pad_Width_is_missing', 'Stick_Length_is_missing',\n",
       "       'Thumb_is_missing', 'Pattern_Changer_is_missing',\n",
       "       'Grouser_Type_is_missing', 'Backhoe_Mounting_is_missing',\n",
       "       'Blade_Type_is_missing', 'Travel_Controls_is_missing',\n",
       "       'Differential_Type_is_missing', 'Steering_Controls_is_missing'],\n",
       "      dtype='object')"
      ]
     },
     "execution_count": 72,
     "metadata": {},
     "output_type": "execute_result"
    }
   ],
   "source": [
    "X_test.columns"
   ]
  },
  {
   "cell_type": "code",
   "execution_count": 73,
   "id": "af460c14-8130-457a-ba1f-55de40650972",
   "metadata": {},
   "outputs": [
    {
     "data": {
      "text/plain": [
       "array([22543.80010341, 21371.65384766, 50469.48811898, ...,\n",
       "       11740.43033676, 18574.9420708 , 30018.51866216])"
      ]
     },
     "execution_count": 73,
     "metadata": {},
     "output_type": "execute_result"
    }
   ],
   "source": [
    "# Make predictions\n",
    "test_preds = tuned_model.predict(X_test)\n",
    "\n",
    "test_preds"
   ]
  },
  {
   "cell_type": "code",
   "execution_count": 74,
   "id": "f7aac377-0f49-4043-a29d-0bcc97d25651",
   "metadata": {},
   "outputs": [
    {
     "data": {
      "text/html": [
       "<div>\n",
       "<style scoped>\n",
       "    .dataframe tbody tr th:only-of-type {\n",
       "        vertical-align: middle;\n",
       "    }\n",
       "\n",
       "    .dataframe tbody tr th {\n",
       "        vertical-align: top;\n",
       "    }\n",
       "\n",
       "    .dataframe thead th {\n",
       "        text-align: right;\n",
       "    }\n",
       "</style>\n",
       "<table border=\"1\" class=\"dataframe\">\n",
       "  <thead>\n",
       "    <tr style=\"text-align: right;\">\n",
       "      <th></th>\n",
       "      <th>SalesID</th>\n",
       "      <th>SalesPrice</th>\n",
       "    </tr>\n",
       "  </thead>\n",
       "  <tbody>\n",
       "    <tr>\n",
       "      <th>0</th>\n",
       "      <td>1227829</td>\n",
       "      <td>22543.80</td>\n",
       "    </tr>\n",
       "    <tr>\n",
       "      <th>1</th>\n",
       "      <td>1227844</td>\n",
       "      <td>21371.65</td>\n",
       "    </tr>\n",
       "    <tr>\n",
       "      <th>2</th>\n",
       "      <td>1227847</td>\n",
       "      <td>50469.49</td>\n",
       "    </tr>\n",
       "    <tr>\n",
       "      <th>3</th>\n",
       "      <td>1227848</td>\n",
       "      <td>83161.37</td>\n",
       "    </tr>\n",
       "    <tr>\n",
       "      <th>4</th>\n",
       "      <td>1227863</td>\n",
       "      <td>60350.95</td>\n",
       "    </tr>\n",
       "  </tbody>\n",
       "</table>\n",
       "</div>"
      ],
      "text/plain": [
       "   SalesID  SalesPrice\n",
       "0  1227829    22543.80\n",
       "1  1227844    21371.65\n",
       "2  1227847    50469.49\n",
       "3  1227848    83161.37\n",
       "4  1227863    60350.95"
      ]
     },
     "execution_count": 74,
     "metadata": {},
     "output_type": "execute_result"
    }
   ],
   "source": [
    "# Format test predictions for competition submission\n",
    "df_preds = pd.DataFrame()\n",
    "\n",
    "df_preds['SalesID'] = X_test['SalesID']\n",
    "df_preds['SalesPrice'] = test_preds\n",
    "\n",
    "df_preds.head()"
   ]
  },
  {
   "cell_type": "markdown",
   "id": "bcaf9621-2101-4712-9004-ea74ab9126f0",
   "metadata": {},
   "source": [
    "> #### 7.3 Features Importance & Model-driven EDA"
   ]
  },
  {
   "cell_type": "code",
   "execution_count": 75,
   "id": "2ab5b7dc-1b57-43ed-b4a9-74b147cfcea9",
   "metadata": {
    "scrolled": true
   },
   "outputs": [
    {
     "data": {
      "text/plain": [
       "array([5.87755588e-02, 1.46066249e-02, 2.44835617e-02, 1.89349773e-04,\n",
       "       3.46681416e-03, 2.30039743e-01, 2.46645669e-03, 8.60892711e-04,\n",
       "       2.37048091e-02, 8.51922920e-02, 8.54241911e-02, 4.10108254e-03,\n",
       "       4.49894065e-03, 2.35813440e-01, 3.72834538e-02, 6.92391608e-03,\n",
       "       2.23104373e-04, 2.71952911e-04, 3.58749441e-03, 7.83147412e-03,\n",
       "       3.31703922e-04, 4.01967437e-05, 4.52431622e-04, 1.58671488e-04,\n",
       "       9.49336605e-04, 2.54373586e-05, 2.34353533e-03, 4.59254414e-03,\n",
       "       5.64811093e-04, 1.31455861e-03, 1.22268432e-03, 1.08562872e-03,\n",
       "       2.51525166e-03, 5.48530014e-03, 1.85874292e-04, 2.29774353e-03,\n",
       "       8.71904271e-04, 1.63879028e-02, 4.17580525e-06, 2.23722091e-06,\n",
       "       1.44850434e-04, 8.96002147e-04, 9.31748858e-04, 5.61334069e-04,\n",
       "       1.71181899e-04, 3.60780718e-04, 8.38631163e-05, 1.48989830e-03,\n",
       "       5.31669987e-04, 2.14935838e-04, 1.49541691e-04, 6.75926430e-03,\n",
       "       9.33341949e-03, 7.89249371e-02, 2.41347239e-04, 2.71079971e-04,\n",
       "       1.17287454e-04, 0.00000000e+00, 0.00000000e+00, 3.90275087e-04,\n",
       "       5.11231146e-04, 1.15342880e-03, 3.30110066e-03, 0.00000000e+00,\n",
       "       0.00000000e+00, 0.00000000e+00, 0.00000000e+00, 1.05554362e-05,\n",
       "       0.00000000e+00, 5.35462593e-05, 2.00056208e-06, 6.29634654e-05,\n",
       "       4.09031410e-06, 7.77218292e-05, 3.24851887e-06, 2.01271856e-05,\n",
       "       2.30245716e-05, 2.16601565e-05, 4.30432909e-04, 3.10582334e-04,\n",
       "       5.47996100e-06, 7.45620966e-05, 5.66207170e-03, 3.92519791e-04,\n",
       "       2.09966632e-04, 1.14681013e-04, 1.48818629e-02, 4.81141944e-06,\n",
       "       8.57030837e-08, 2.42292925e-05, 2.16833807e-05, 1.43272652e-05,\n",
       "       1.88658778e-05, 1.28674722e-05, 1.68000488e-05, 1.07704075e-04,\n",
       "       1.08172491e-04, 7.27383959e-05, 6.63316363e-05, 5.40238040e-05])"
      ]
     },
     "execution_count": 75,
     "metadata": {},
     "output_type": "execute_result"
    }
   ],
   "source": [
    "tuned_model.feature_importances_"
   ]
  },
  {
   "cell_type": "code",
   "execution_count": 76,
   "id": "13c9c58c-6b79-4c6d-9f7f-5bfd7abb6ba0",
   "metadata": {},
   "outputs": [],
   "source": [
    "def feature_importance(columns, importances):\n",
    "    # Create a dataframe out of our feature importances\n",
    "    df = (pd.DataFrame({'Features':columns,\n",
    "                        'Importances':importances})\n",
    "          .sort_values(by='Importances', ascending=False)\n",
    "          .reset_index(drop=True)\n",
    "          ).head(10)\n",
    "    \n",
    "    # Plot our features importances in a horizontal bar chart\n",
    "    fig, ax = plt.subplots(figsize=(11, 5))\n",
    "    ax = sns.barplot(data=df,\n",
    "                     x='Importances',\n",
    "                     y='Features', \n",
    "                     orient='h')\n",
    "    \n",
    "    fig.suptitle('Feature Importances',\n",
    "                 y=0.95,\n",
    "                 fontsize=14,\n",
    "                 fontweight='bold');\n",
    "    return df"
   ]
  },
  {
   "cell_type": "code",
   "execution_count": 77,
   "id": "8759f6c1-032f-44d2-aa0b-c6497a94dd91",
   "metadata": {},
   "outputs": [
    {
     "data": {
      "text/html": [
       "<div>\n",
       "<style scoped>\n",
       "    .dataframe tbody tr th:only-of-type {\n",
       "        vertical-align: middle;\n",
       "    }\n",
       "\n",
       "    .dataframe tbody tr th {\n",
       "        vertical-align: top;\n",
       "    }\n",
       "\n",
       "    .dataframe thead th {\n",
       "        text-align: right;\n",
       "    }\n",
       "</style>\n",
       "<table border=\"1\" class=\"dataframe\">\n",
       "  <thead>\n",
       "    <tr style=\"text-align: right;\">\n",
       "      <th></th>\n",
       "      <th>Features</th>\n",
       "      <th>Importances</th>\n",
       "    </tr>\n",
       "  </thead>\n",
       "  <tbody>\n",
       "    <tr>\n",
       "      <th>0</th>\n",
       "      <td>ProductSize</td>\n",
       "      <td>0.24</td>\n",
       "    </tr>\n",
       "    <tr>\n",
       "      <th>1</th>\n",
       "      <td>YearMade</td>\n",
       "      <td>0.23</td>\n",
       "    </tr>\n",
       "    <tr>\n",
       "      <th>2</th>\n",
       "      <td>fiSecondaryDesc</td>\n",
       "      <td>0.09</td>\n",
       "    </tr>\n",
       "    <tr>\n",
       "      <th>3</th>\n",
       "      <td>fiBaseModel</td>\n",
       "      <td>0.09</td>\n",
       "    </tr>\n",
       "    <tr>\n",
       "      <th>4</th>\n",
       "      <td>SaleYear</td>\n",
       "      <td>0.08</td>\n",
       "    </tr>\n",
       "    <tr>\n",
       "      <th>5</th>\n",
       "      <td>SalesID</td>\n",
       "      <td>0.06</td>\n",
       "    </tr>\n",
       "    <tr>\n",
       "      <th>6</th>\n",
       "      <td>fiProductClassDesc</td>\n",
       "      <td>0.04</td>\n",
       "    </tr>\n",
       "    <tr>\n",
       "      <th>7</th>\n",
       "      <td>ModelID</td>\n",
       "      <td>0.02</td>\n",
       "    </tr>\n",
       "    <tr>\n",
       "      <th>8</th>\n",
       "      <td>fiModelDesc</td>\n",
       "      <td>0.02</td>\n",
       "    </tr>\n",
       "    <tr>\n",
       "      <th>9</th>\n",
       "      <td>Coupler_System</td>\n",
       "      <td>0.02</td>\n",
       "    </tr>\n",
       "  </tbody>\n",
       "</table>\n",
       "</div>"
      ],
      "text/plain": [
       "             Features  Importances\n",
       "0         ProductSize         0.24\n",
       "1            YearMade         0.23\n",
       "2     fiSecondaryDesc         0.09\n",
       "3         fiBaseModel         0.09\n",
       "4            SaleYear         0.08\n",
       "5             SalesID         0.06\n",
       "6  fiProductClassDesc         0.04\n",
       "7             ModelID         0.02\n",
       "8         fiModelDesc         0.02\n",
       "9      Coupler_System         0.02"
      ]
     },
     "execution_count": 77,
     "metadata": {},
     "output_type": "execute_result"
    },
    {
     "data": {
      "image/png": "[encoded data removed]",
      "text/plain": [
       "<Figure size 1100x500 with 1 Axes>"
      ]
     },
     "metadata": {},
     "output_type": "display_data"
    }
   ],
   "source": [
    "feature_importance(X_train.columns, tuned_model.feature_importances_)"
   ]
  },
  {
   "cell_type": "markdown",
   "id": "00ea1604-6ea4-45e1-91c8-3783d5b05b1c",
   "metadata": {},
   "source": [
    "* Our model determined that the most two important predictive features are <b>ProductSize</b> and <b>YearMade</b>."
   ]
  },
  {
   "cell_type": "markdown",
   "id": "b3358d02-e1b6-478b-9f7a-d5491e83b959",
   "metadata": {},
   "source": [
    "Let's check the sales count and average sale prices by product size and year of manufacture."
   ]
  },
  {
   "cell_type": "code",
   "execution_count": 78,
   "id": "f2f484f4-656d-4232-903d-9bc84a3a06c8",
   "metadata": {},
   "outputs": [
    {
     "data": {
      "text/html": [
       "<div>\n",
       "<style scoped>\n",
       "    .dataframe tbody tr th:only-of-type {\n",
       "        vertical-align: middle;\n",
       "    }\n",
       "\n",
       "    .dataframe tbody tr th {\n",
       "        vertical-align: top;\n",
       "    }\n",
       "\n",
       "    .dataframe thead th {\n",
       "        text-align: right;\n",
       "    }\n",
       "</style>\n",
       "<table border=\"1\" class=\"dataframe\">\n",
       "  <thead>\n",
       "    <tr style=\"text-align: right;\">\n",
       "      <th></th>\n",
       "      <th>ProductSize</th>\n",
       "      <th>SalesCount</th>\n",
       "      <th>AveragePrice</th>\n",
       "    </tr>\n",
       "  </thead>\n",
       "  <tbody>\n",
       "    <tr>\n",
       "      <th>0</th>\n",
       "      <td>0</td>\n",
       "      <td>216.60</td>\n",
       "      <td>24.05</td>\n",
       "    </tr>\n",
       "    <tr>\n",
       "      <th>1</th>\n",
       "      <td>1</td>\n",
       "      <td>6.28</td>\n",
       "      <td>17.50</td>\n",
       "    </tr>\n",
       "    <tr>\n",
       "      <th>2</th>\n",
       "      <td>2</td>\n",
       "      <td>21.40</td>\n",
       "      <td>42.02</td>\n",
       "    </tr>\n",
       "    <tr>\n",
       "      <th>3</th>\n",
       "      <td>3</td>\n",
       "      <td>51.30</td>\n",
       "      <td>47.83</td>\n",
       "    </tr>\n",
       "    <tr>\n",
       "      <th>4</th>\n",
       "      <td>4</td>\n",
       "      <td>64.34</td>\n",
       "      <td>45.70</td>\n",
       "    </tr>\n",
       "    <tr>\n",
       "      <th>5</th>\n",
       "      <td>5</td>\n",
       "      <td>25.72</td>\n",
       "      <td>15.19</td>\n",
       "    </tr>\n",
       "    <tr>\n",
       "      <th>6</th>\n",
       "      <td>6</td>\n",
       "      <td>27.06</td>\n",
       "      <td>32.51</td>\n",
       "    </tr>\n",
       "  </tbody>\n",
       "</table>\n",
       "</div>"
      ],
      "text/plain": [
       "   ProductSize  SalesCount  AveragePrice\n",
       "0            0      216.60         24.05\n",
       "1            1        6.28         17.50\n",
       "2            2       21.40         42.02\n",
       "3            3       51.30         47.83\n",
       "4            4       64.34         45.70\n",
       "5            5       25.72         15.19\n",
       "6            6       27.06         32.51"
      ]
     },
     "execution_count": 78,
     "metadata": {},
     "output_type": "execute_result"
    }
   ],
   "source": [
    "# Check sales count and average sale prices by product size\n",
    "sales_by_prod_size = df_copy.groupby('ProductSize', as_index=False)['SalePrice'].agg(SalesCount='count',\n",
    "                                                                                     AveragePrice='mean')\n",
    "\n",
    "sales_by_prod_size['SalesCount'] = sales_by_prod_size['SalesCount'] / 1_000\n",
    "sales_by_prod_size['AveragePrice'] = sales_by_prod_size['AveragePrice'] / 1_000\n",
    "\n",
    "sales_by_prod_size"
   ]
  },
  {
   "cell_type": "code",
   "execution_count": 79,
   "id": "fa563982-6e8a-4521-98df-ed5ef2685f6e",
   "metadata": {},
   "outputs": [
    {
     "data": {
      "image/png": "[encoded data removed]",
      "text/plain": [
       "<Figure size 1200x500 with 2 Axes>"
      ]
     },
     "metadata": {},
     "output_type": "display_data"
    }
   ],
   "source": [
    "# Visualize sales count and average sale prices by product size\n",
    "fig, (ax, ax1) = plt.subplots(nrows=1,\n",
    "                              ncols=2,\n",
    "                              figsize=(12, 5))\n",
    "\n",
    "sns.barplot(data=sales_by_prod_size,\n",
    "            x=sales_by_prod_size['ProductSize'],\n",
    "            y=sales_by_prod_size['SalesCount'],\n",
    "            ax=ax)\n",
    "\n",
    "ax.set_xlabel('Product Size')\n",
    "ax.set_ylabel('Total Sales Count (in k.)')\n",
    "ax.set_title('Total Sales Count by Product Size',\n",
    "             loc='left',\n",
    "             fontweight='bold')\n",
    "\n",
    "sns.lineplot(data=sales_by_prod_size,\n",
    "             x=sales_by_prod_size['ProductSize'],\n",
    "             y=sales_by_prod_size['AveragePrice'],\n",
    "             marker='o',\n",
    "             ax=ax1)\n",
    "\n",
    "ax1.set_xlabel('Product Size')\n",
    "ax1.set_ylabel('Average Sale Price (in k.)')\n",
    "ax1.set_title('Average Sale Price by Product Size',\n",
    "              loc='left',\n",
    "              fontweight='bold');"
   ]
  },
  {
   "cell_type": "markdown",
   "id": "867ba53e-af08-484e-b1dc-756e7fbf51d6",
   "metadata": {},
   "source": [
    "* The data shows that heavy machines with <b>product size `0`</b> has the highest sales count, drastically outpacing all other product sizes with over `200,000` sales.\n",
    "* Interestingly, product size `0` machines sold at the third lowest price tag on average compared for instance to product size `2`, `3`, and `4`, all having significantly much higher sale price on average.\n",
    "\n",
    "The visualizations highlight a clear preference for heavy machines with product size `0`, and their mid average sale prices suggest a budget-friendly option leading to a wider availablity and accessibility in the market, which subsequently lead to higher sales volume."
   ]
  },
  {
   "cell_type": "code",
   "execution_count": 80,
   "id": "ffea44c2-ee64-4f9e-a683-e7ca583c82b8",
   "metadata": {},
   "outputs": [
    {
     "data": {
      "text/html": [
       "<div>\n",
       "<style scoped>\n",
       "    .dataframe tbody tr th:only-of-type {\n",
       "        vertical-align: middle;\n",
       "    }\n",
       "\n",
       "    .dataframe tbody tr th {\n",
       "        vertical-align: top;\n",
       "    }\n",
       "\n",
       "    .dataframe thead th {\n",
       "        text-align: right;\n",
       "    }\n",
       "</style>\n",
       "<table border=\"1\" class=\"dataframe\">\n",
       "  <thead>\n",
       "    <tr style=\"text-align: right;\">\n",
       "      <th></th>\n",
       "      <th>YearMade</th>\n",
       "      <th>SalesCount</th>\n",
       "      <th>AveragePrice</th>\n",
       "    </tr>\n",
       "  </thead>\n",
       "  <tbody>\n",
       "    <tr>\n",
       "      <th>52</th>\n",
       "      <td>1995</td>\n",
       "      <td>55.20</td>\n",
       "      <td>23.90</td>\n",
       "    </tr>\n",
       "    <tr>\n",
       "      <th>62</th>\n",
       "      <td>2005</td>\n",
       "      <td>22.10</td>\n",
       "      <td>38.16</td>\n",
       "    </tr>\n",
       "    <tr>\n",
       "      <th>55</th>\n",
       "      <td>1998</td>\n",
       "      <td>21.75</td>\n",
       "      <td>34.90</td>\n",
       "    </tr>\n",
       "    <tr>\n",
       "      <th>61</th>\n",
       "      <td>2004</td>\n",
       "      <td>20.91</td>\n",
       "      <td>35.27</td>\n",
       "    </tr>\n",
       "    <tr>\n",
       "      <th>56</th>\n",
       "      <td>1999</td>\n",
       "      <td>19.27</td>\n",
       "      <td>32.14</td>\n",
       "    </tr>\n",
       "    <tr>\n",
       "      <th>...</th>\n",
       "      <td>...</td>\n",
       "      <td>...</td>\n",
       "      <td>...</td>\n",
       "    </tr>\n",
       "    <tr>\n",
       "      <th>6</th>\n",
       "      <td>1949</td>\n",
       "      <td>0.00</td>\n",
       "      <td>30.00</td>\n",
       "    </tr>\n",
       "    <tr>\n",
       "      <th>4</th>\n",
       "      <td>1947</td>\n",
       "      <td>0.00</td>\n",
       "      <td>9.00</td>\n",
       "    </tr>\n",
       "    <tr>\n",
       "      <th>3</th>\n",
       "      <td>1942</td>\n",
       "      <td>0.00</td>\n",
       "      <td>51.00</td>\n",
       "    </tr>\n",
       "    <tr>\n",
       "      <th>2</th>\n",
       "      <td>1937</td>\n",
       "      <td>0.00</td>\n",
       "      <td>18.00</td>\n",
       "    </tr>\n",
       "    <tr>\n",
       "      <th>69</th>\n",
       "      <td>2012</td>\n",
       "      <td>0.00</td>\n",
       "      <td>35.00</td>\n",
       "    </tr>\n",
       "  </tbody>\n",
       "</table>\n",
       "<p>70 rows × 3 columns</p>\n",
       "</div>"
      ],
      "text/plain": [
       "    YearMade  SalesCount  AveragePrice\n",
       "52      1995       55.20         23.90\n",
       "62      2005       22.10         38.16\n",
       "55      1998       21.75         34.90\n",
       "61      2004       20.91         35.27\n",
       "56      1999       19.27         32.14\n",
       "..       ...         ...           ...\n",
       "6       1949        0.00         30.00\n",
       "4       1947        0.00          9.00\n",
       "3       1942        0.00         51.00\n",
       "2       1937        0.00         18.00\n",
       "69      2012        0.00         35.00\n",
       "\n",
       "[70 rows x 3 columns]"
      ]
     },
     "execution_count": 80,
     "metadata": {},
     "output_type": "execute_result"
    }
   ],
   "source": [
    "# Check sales count and average sale prices by year of manufacture\n",
    "sales_by_year_prod = df_copy.groupby('YearMade', as_index=False)['SalePrice'].agg(SalesCount='count',\n",
    "                                                                                  AveragePrice='mean').sort_values(by='SalesCount',\n",
    "                                                                                                                   ascending=False)\n",
    "\n",
    "sales_by_year_prod['SalesCount'] = sales_by_year_prod['SalesCount'] / 1_000\n",
    "sales_by_year_prod['AveragePrice'] = sales_by_year_prod['AveragePrice'] / 1_000\n",
    "\n",
    "sales_by_year_prod"
   ]
  },
  {
   "cell_type": "code",
   "execution_count": 81,
   "id": "ca5fe657-fcc7-4b69-a296-710ed1855d79",
   "metadata": {},
   "outputs": [
    {
     "data": {
      "image/png": "[encoded data removed]",
      "text/plain": [
       "<Figure size 1200x500 with 2 Axes>"
      ]
     },
     "metadata": {},
     "output_type": "display_data"
    }
   ],
   "source": [
    "# Visualize sales count and average sale prices by year of manufacture\n",
    "fig, (ax, ax1) = plt.subplots(nrows=1,\n",
    "                              ncols=2,\n",
    "                              figsize=(12, 5))\n",
    "\n",
    "top_10 = sales_by_year_prod[:10]\n",
    "\n",
    "sns.barplot(data=top_10,\n",
    "            x=top_10['YearMade'],\n",
    "            y=top_10['SalesCount'],\n",
    "            ax=ax)\n",
    "\n",
    "ax.set_xlabel(None)\n",
    "ax.set_ylabel('Total Sales Count (in k.)')\n",
    "ax.set_title('Total Sales Count by Year of Manufacture',\n",
    "             loc='left',\n",
    "             fontweight='bold')\n",
    "\n",
    "sns.lineplot(data=top_10,\n",
    "             x=top_10['YearMade'],\n",
    "             y=top_10['AveragePrice'],\n",
    "             marker='o',\n",
    "             ax=ax1)\n",
    "\n",
    "ax1.set_xlabel(None)\n",
    "ax1.set_ylabel('Average Sale Price (in k.)')\n",
    "ax1.set_title('Average Sale Price by Year of Manufacture',\n",
    "              loc='left',\n",
    "              fontweight='bold');"
   ]
  },
  {
   "cell_type": "markdown",
   "id": "78811a83-3d77-4ee2-bdc5-f77774db1ada",
   "metadata": {},
   "source": [
    "* Heavy machines <b>manufactured in 1995</b> have the highest sales count by a large margin compared to all other models.\n",
    "* Similarily to product size `0`, 1995 manufactured machines sold at some of the lowest price tags on average, at approx. `$24,000`.\n",
    "* Both scenarios reflect a potential connection between the two features, which results in high volume sales driven by lower pricing."
   ]
  },
  {
   "cell_type": "markdown",
   "id": "b8f4333f-8c3e-46bf-9a1f-0b93bb02c68e",
   "metadata": {},
   "source": [
    "To further investigate this connection, let's check which product size machines manufactured in 1995 sold the most throughout the years."
   ]
  },
  {
   "cell_type": "code",
   "execution_count": 82,
   "id": "92de6f5b-392f-447e-a55d-b49f35cc102d",
   "metadata": {},
   "outputs": [
    {
     "data": {
      "text/html": [
       "<div>\n",
       "<style scoped>\n",
       "    .dataframe tbody tr th:only-of-type {\n",
       "        vertical-align: middle;\n",
       "    }\n",
       "\n",
       "    .dataframe tbody tr th {\n",
       "        vertical-align: top;\n",
       "    }\n",
       "\n",
       "    .dataframe thead th {\n",
       "        text-align: right;\n",
       "    }\n",
       "</style>\n",
       "<table border=\"1\" class=\"dataframe\">\n",
       "  <thead>\n",
       "    <tr style=\"text-align: right;\">\n",
       "      <th>ProductSize</th>\n",
       "      <th>0</th>\n",
       "      <th>1</th>\n",
       "      <th>2</th>\n",
       "      <th>3</th>\n",
       "      <th>4</th>\n",
       "      <th>5</th>\n",
       "      <th>6</th>\n",
       "    </tr>\n",
       "    <tr>\n",
       "      <th>YearMade</th>\n",
       "      <th></th>\n",
       "      <th></th>\n",
       "      <th></th>\n",
       "      <th></th>\n",
       "      <th></th>\n",
       "      <th></th>\n",
       "      <th></th>\n",
       "    </tr>\n",
       "  </thead>\n",
       "  <tbody>\n",
       "    <tr>\n",
       "      <th>1919</th>\n",
       "      <td>8</td>\n",
       "      <td>0</td>\n",
       "      <td>107</td>\n",
       "      <td>2</td>\n",
       "      <td>1</td>\n",
       "      <td>6</td>\n",
       "      <td>3</td>\n",
       "    </tr>\n",
       "    <tr>\n",
       "      <th>1920</th>\n",
       "      <td>4</td>\n",
       "      <td>1</td>\n",
       "      <td>1</td>\n",
       "      <td>0</td>\n",
       "      <td>0</td>\n",
       "      <td>9</td>\n",
       "      <td>2</td>\n",
       "    </tr>\n",
       "    <tr>\n",
       "      <th>1937</th>\n",
       "      <td>1</td>\n",
       "      <td>0</td>\n",
       "      <td>0</td>\n",
       "      <td>0</td>\n",
       "      <td>0</td>\n",
       "      <td>0</td>\n",
       "      <td>0</td>\n",
       "    </tr>\n",
       "    <tr>\n",
       "      <th>1942</th>\n",
       "      <td>0</td>\n",
       "      <td>0</td>\n",
       "      <td>1</td>\n",
       "      <td>0</td>\n",
       "      <td>0</td>\n",
       "      <td>0</td>\n",
       "      <td>0</td>\n",
       "    </tr>\n",
       "    <tr>\n",
       "      <th>1947</th>\n",
       "      <td>0</td>\n",
       "      <td>0</td>\n",
       "      <td>1</td>\n",
       "      <td>0</td>\n",
       "      <td>0</td>\n",
       "      <td>0</td>\n",
       "      <td>0</td>\n",
       "    </tr>\n",
       "    <tr>\n",
       "      <th>...</th>\n",
       "      <td>...</td>\n",
       "      <td>...</td>\n",
       "      <td>...</td>\n",
       "      <td>...</td>\n",
       "      <td>...</td>\n",
       "      <td>...</td>\n",
       "      <td>...</td>\n",
       "    </tr>\n",
       "    <tr>\n",
       "      <th>2008</th>\n",
       "      <td>877</td>\n",
       "      <td>34</td>\n",
       "      <td>12</td>\n",
       "      <td>181</td>\n",
       "      <td>240</td>\n",
       "      <td>243</td>\n",
       "      <td>104</td>\n",
       "    </tr>\n",
       "    <tr>\n",
       "      <th>2009</th>\n",
       "      <td>115</td>\n",
       "      <td>10</td>\n",
       "      <td>0</td>\n",
       "      <td>8</td>\n",
       "      <td>23</td>\n",
       "      <td>46</td>\n",
       "      <td>10</td>\n",
       "    </tr>\n",
       "    <tr>\n",
       "      <th>2010</th>\n",
       "      <td>34</td>\n",
       "      <td>8</td>\n",
       "      <td>0</td>\n",
       "      <td>0</td>\n",
       "      <td>2</td>\n",
       "      <td>9</td>\n",
       "      <td>5</td>\n",
       "    </tr>\n",
       "    <tr>\n",
       "      <th>2011</th>\n",
       "      <td>25</td>\n",
       "      <td>0</td>\n",
       "      <td>0</td>\n",
       "      <td>0</td>\n",
       "      <td>2</td>\n",
       "      <td>2</td>\n",
       "      <td>2</td>\n",
       "    </tr>\n",
       "    <tr>\n",
       "      <th>2012</th>\n",
       "      <td>0</td>\n",
       "      <td>0</td>\n",
       "      <td>0</td>\n",
       "      <td>0</td>\n",
       "      <td>1</td>\n",
       "      <td>0</td>\n",
       "      <td>0</td>\n",
       "    </tr>\n",
       "  </tbody>\n",
       "</table>\n",
       "<p>70 rows × 7 columns</p>\n",
       "</div>"
      ],
      "text/plain": [
       "ProductSize    0   1    2    3    4    5    6\n",
       "YearMade                                     \n",
       "1919           8   0  107    2    1    6    3\n",
       "1920           4   1    1    0    0    9    2\n",
       "1937           1   0    0    0    0    0    0\n",
       "1942           0   0    1    0    0    0    0\n",
       "1947           0   0    1    0    0    0    0\n",
       "...          ...  ..  ...  ...  ...  ...  ...\n",
       "2008         877  34   12  181  240  243  104\n",
       "2009         115  10    0    8   23   46   10\n",
       "2010          34   8    0    0    2    9    5\n",
       "2011          25   0    0    0    2    2    2\n",
       "2012           0   0    0    0    1    0    0\n",
       "\n",
       "[70 rows x 7 columns]"
      ]
     },
     "execution_count": 82,
     "metadata": {},
     "output_type": "execute_result"
    }
   ],
   "source": [
    "# Crosstab product size and year of manufacture\n",
    "year_size_prod = pd.crosstab(df_copy['YearMade'], df_copy['ProductSize'])\n",
    "\n",
    "year_size_prod"
   ]
  },
  {
   "cell_type": "code",
   "execution_count": 83,
   "id": "0811915a-091b-4826-b6a8-0636f136ec63",
   "metadata": {},
   "outputs": [
    {
     "data": {
      "text/html": [
       "<div>\n",
       "<style scoped>\n",
       "    .dataframe tbody tr th:only-of-type {\n",
       "        vertical-align: middle;\n",
       "    }\n",
       "\n",
       "    .dataframe tbody tr th {\n",
       "        vertical-align: top;\n",
       "    }\n",
       "\n",
       "    .dataframe thead th {\n",
       "        text-align: right;\n",
       "    }\n",
       "</style>\n",
       "<table border=\"1\" class=\"dataframe\">\n",
       "  <thead>\n",
       "    <tr style=\"text-align: right;\">\n",
       "      <th>ProductSize</th>\n",
       "      <th>0</th>\n",
       "      <th>1</th>\n",
       "      <th>2</th>\n",
       "      <th>3</th>\n",
       "      <th>4</th>\n",
       "      <th>5</th>\n",
       "      <th>6</th>\n",
       "    </tr>\n",
       "  </thead>\n",
       "  <tbody>\n",
       "    <tr>\n",
       "      <th>1995</th>\n",
       "      <td>27261</td>\n",
       "      <td>557</td>\n",
       "      <td>2392</td>\n",
       "      <td>7265</td>\n",
       "      <td>7082</td>\n",
       "      <td>5736</td>\n",
       "      <td>4907</td>\n",
       "    </tr>\n",
       "  </tbody>\n",
       "</table>\n",
       "</div>"
      ],
      "text/plain": [
       "ProductSize      0    1     2     3     4     5     6\n",
       "1995         27261  557  2392  7265  7082  5736  4907"
      ]
     },
     "execution_count": 83,
     "metadata": {},
     "output_type": "execute_result"
    }
   ],
   "source": [
    "top_1995 = pd.DataFrame(year_size_prod.loc[1995])\n",
    "\n",
    "top_1995.T"
   ]
  },
  {
   "cell_type": "code",
   "execution_count": 84,
   "id": "d4ad1c3e-f8cb-448a-b2d1-e136ef3c7b1b",
   "metadata": {},
   "outputs": [
    {
     "data": {
      "text/plain": [
       "1995   49.39\n",
       "Name: 0, dtype: float64"
      ]
     },
     "execution_count": 84,
     "metadata": {},
     "output_type": "execute_result"
    }
   ],
   "source": [
    "# Check sales proportion\n",
    "top_1995.T[0] / sum(top_1995.values) * 100"
   ]
  },
  {
   "cell_type": "markdown",
   "id": "b621f96e-ca4f-4170-9f2e-d33506adeca9",
   "metadata": {},
   "source": [
    "As we expected, <b>1995 manufactured </b>heavy machines with <b>product size `0`</b> contributed the most to high auction sales count thoughout the years."
   ]
  },
  {
   "cell_type": "markdown",
   "id": "df9d4265-0a81-445d-8d45-02e6ef713b4a",
   "metadata": {},
   "source": [
    "<br>"
   ]
  },
  {
   "cell_type": "markdown",
   "id": "6022dbd2-bde6-4eef-9e27-254d33b7378a",
   "metadata": {},
   "source": [
    "### Conclusion"
   ]
  },
  {
   "cell_type": "markdown",
   "id": "d74d9708-59d7-4c43-9213-6efcd88afcd0",
   "metadata": {},
   "source": [
    "In this analysis, we've built and fine-tuned a machine learning model to predict the prices of heavy machines sold at an auction in 2012 with an `RMSLE` value of approx. `0.25` and an `R2 Score` of `0.87`. Throughout this process, we've explored, cleaned, pre-processed and prepared the data for regression modelling. We've also conducted a <b>Model-driven EDA</b> based on the features our model determined of high predictive importance, further allowing us to understand the model's decision making and uncover more trends in the data that would've been left otherwise hidden.\n",
    "\n",
    "<b>Further steps</b>:\n",
    "* Try other machine learning regression models such as <b>Ridge</b>, <b>Lasso</b> and <b>Elastic-Net</b>.\n",
    "* Compare our predicted sale prices to the test true labels."
   ]
  },
  {
   "cell_type": "code",
   "execution_count": null,
   "id": "c4c66ee5-1d21-44c4-8397-f9c7863624e1",
   "metadata": {},
   "outputs": [],
   "source": []
  },
  {
   "cell_type": "code",
   "execution_count": null,
   "id": "e49c845e-764f-400c-9745-d85ea6dffb88",
   "metadata": {},
   "outputs": [],
   "source": []
  }
 ],
 "metadata": {
  "kernelspec": {
   "display_name": "Python 3 (ipykernel)",
   "language": "python",
   "name": "python3"
  },
  "language_info": {
   "codemirror_mode": {
    "name": "ipython",
    "version": 3
   },
   "file_extension": ".py",
   "mimetype": "text/x-python",
   "name": "python",
   "nbconvert_exporter": "python",
   "pygments_lexer": "ipython3",
   "version": "3.12.3"
  }
 },
 "nbformat": 4,
 "nbformat_minor": 5
}
